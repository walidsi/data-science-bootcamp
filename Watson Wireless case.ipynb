{
 "cells": [
  {
   "cell_type": "markdown",
   "metadata": {
    "collapsed": true
   },
   "source": [
    "# <center>Watson Wireless Use Case</center>"
   ]
  },
  {
   "cell_type": "markdown",
   "metadata": {},
   "source": [
    "<center><font size=\"3\">This is the analysis of the first case from the Data Science Challenges<br> Done by: <b>Walid Ismail (wismail@eg.ibm.com)</b></font></center><br><br>"
   ]
  },
  {
   "cell_type": "markdown",
   "metadata": {},
   "source": [
    "# 0. Introduction\n",
    "Watson Wireless (WW) is a telecommunications firm serving regional markets in Brazil and Argentina. Recently WW has struggled with revenue contraction as customers move to other competitors. WW leadership has prioritized reducing customer churn in the next period. WW seeks answers to the following key questions:\n",
    "\n",
    "1)\tWhat are the most important drivers of customer churn?<br>2)\tWhat are 2-3 recommendations for how WW can use this information to reduce customer churn in the future?"
   ]
  },
  {
   "cell_type": "markdown",
   "metadata": {},
   "source": [
    "# 1. Get the Watson Studio project token to use it to access the dataset"
   ]
  },
  {
   "cell_type": "code",
   "execution_count": 1,
   "metadata": {},
   "outputs": [],
   "source": [
    "# @hidden_cell\n",
    "# The project token is an authorization token that is used to access project resources like data sources, connections, and used by platform APIs.\n",
    "from project_lib import Project\n",
    "project = Project(project_id='01cb8ab3-b48d-441d-8d33-edc6caae425d', project_access_token='p-d36f9300425b2c63be8cd6c20d68a07ef91ec977')\n",
    "pc = project.project_context"
   ]
  },
  {
   "cell_type": "code",
   "execution_count": 2,
   "metadata": {},
   "outputs": [],
   "source": [
    "# Import main needed libraries\n",
    "import pandas as pd\n",
    "import numpy as np\n",
    "import matplotlib.pyplot as plt\n",
    "%matplotlib inline\n",
    "import seaborn as sns\n",
    "sns.set_style(\"white\")\n",
    "sns.set_style(\"ticks\")"
   ]
  },
  {
   "cell_type": "markdown",
   "metadata": {},
   "source": [
    "# 2. Load the data file"
   ]
  },
  {
   "cell_type": "code",
   "execution_count": 3,
   "metadata": {},
   "outputs": [
    {
     "name": "stdout",
     "output_type": "stream",
     "text": [
      "\n",
      "Number of customers: 1000\n"
     ]
    },
    {
     "data": {
      "text/html": [
       "<div>\n",
       "<style scoped>\n",
       "    .dataframe tbody tr th:only-of-type {\n",
       "        vertical-align: middle;\n",
       "    }\n",
       "\n",
       "    .dataframe tbody tr th {\n",
       "        vertical-align: top;\n",
       "    }\n",
       "\n",
       "    .dataframe thead th {\n",
       "        text-align: right;\n",
       "    }\n",
       "</style>\n",
       "<table border=\"1\" class=\"dataframe\">\n",
       "  <thead>\n",
       "    <tr style=\"text-align: right;\">\n",
       "      <th></th>\n",
       "      <th>region</th>\n",
       "      <th>tenure</th>\n",
       "      <th>age</th>\n",
       "      <th>marital</th>\n",
       "      <th>address</th>\n",
       "      <th>income</th>\n",
       "      <th>ed</th>\n",
       "      <th>employ</th>\n",
       "      <th>gender</th>\n",
       "      <th>tollfree</th>\n",
       "      <th>equip</th>\n",
       "      <th>callcard</th>\n",
       "      <th>wireless</th>\n",
       "      <th>multline</th>\n",
       "      <th>voice</th>\n",
       "      <th>pager</th>\n",
       "      <th>internet</th>\n",
       "      <th>callid</th>\n",
       "      <th>confer</th>\n",
       "      <th>ebill</th>\n",
       "      <th>custcat</th>\n",
       "      <th>churn</th>\n",
       "    </tr>\n",
       "  </thead>\n",
       "  <tbody>\n",
       "    <tr>\n",
       "      <th>0</th>\n",
       "      <td>2</td>\n",
       "      <td>13</td>\n",
       "      <td>44</td>\n",
       "      <td>1</td>\n",
       "      <td>9</td>\n",
       "      <td>64</td>\n",
       "      <td>4</td>\n",
       "      <td>5</td>\n",
       "      <td>0</td>\n",
       "      <td>0</td>\n",
       "      <td>0</td>\n",
       "      <td>1</td>\n",
       "      <td>0</td>\n",
       "      <td>0</td>\n",
       "      <td>0</td>\n",
       "      <td>0</td>\n",
       "      <td>0</td>\n",
       "      <td>0</td>\n",
       "      <td>0</td>\n",
       "      <td>0</td>\n",
       "      <td>1</td>\n",
       "      <td>1</td>\n",
       "    </tr>\n",
       "    <tr>\n",
       "      <th>1</th>\n",
       "      <td>3</td>\n",
       "      <td>11</td>\n",
       "      <td>33</td>\n",
       "      <td>1</td>\n",
       "      <td>7</td>\n",
       "      <td>136</td>\n",
       "      <td>5</td>\n",
       "      <td>5</td>\n",
       "      <td>0</td>\n",
       "      <td>1</td>\n",
       "      <td>0</td>\n",
       "      <td>1</td>\n",
       "      <td>1</td>\n",
       "      <td>0</td>\n",
       "      <td>1</td>\n",
       "      <td>1</td>\n",
       "      <td>0</td>\n",
       "      <td>1</td>\n",
       "      <td>1</td>\n",
       "      <td>0</td>\n",
       "      <td>4</td>\n",
       "      <td>1</td>\n",
       "    </tr>\n",
       "    <tr>\n",
       "      <th>2</th>\n",
       "      <td>3</td>\n",
       "      <td>68</td>\n",
       "      <td>52</td>\n",
       "      <td>1</td>\n",
       "      <td>24</td>\n",
       "      <td>116</td>\n",
       "      <td>1</td>\n",
       "      <td>29</td>\n",
       "      <td>1</td>\n",
       "      <td>1</td>\n",
       "      <td>0</td>\n",
       "      <td>1</td>\n",
       "      <td>0</td>\n",
       "      <td>0</td>\n",
       "      <td>0</td>\n",
       "      <td>0</td>\n",
       "      <td>0</td>\n",
       "      <td>1</td>\n",
       "      <td>1</td>\n",
       "      <td>0</td>\n",
       "      <td>3</td>\n",
       "      <td>0</td>\n",
       "    </tr>\n",
       "    <tr>\n",
       "      <th>3</th>\n",
       "      <td>2</td>\n",
       "      <td>33</td>\n",
       "      <td>33</td>\n",
       "      <td>0</td>\n",
       "      <td>12</td>\n",
       "      <td>33</td>\n",
       "      <td>2</td>\n",
       "      <td>0</td>\n",
       "      <td>1</td>\n",
       "      <td>0</td>\n",
       "      <td>0</td>\n",
       "      <td>0</td>\n",
       "      <td>0</td>\n",
       "      <td>0</td>\n",
       "      <td>0</td>\n",
       "      <td>0</td>\n",
       "      <td>0</td>\n",
       "      <td>0</td>\n",
       "      <td>0</td>\n",
       "      <td>0</td>\n",
       "      <td>1</td>\n",
       "      <td>1</td>\n",
       "    </tr>\n",
       "    <tr>\n",
       "      <th>4</th>\n",
       "      <td>2</td>\n",
       "      <td>23</td>\n",
       "      <td>30</td>\n",
       "      <td>1</td>\n",
       "      <td>9</td>\n",
       "      <td>30</td>\n",
       "      <td>1</td>\n",
       "      <td>2</td>\n",
       "      <td>0</td>\n",
       "      <td>0</td>\n",
       "      <td>0</td>\n",
       "      <td>0</td>\n",
       "      <td>0</td>\n",
       "      <td>0</td>\n",
       "      <td>0</td>\n",
       "      <td>0</td>\n",
       "      <td>0</td>\n",
       "      <td>1</td>\n",
       "      <td>1</td>\n",
       "      <td>0</td>\n",
       "      <td>3</td>\n",
       "      <td>0</td>\n",
       "    </tr>\n",
       "  </tbody>\n",
       "</table>\n",
       "</div>"
      ],
      "text/plain": [
       "   region  tenure  age  marital  address  income  ed  employ  gender  tollfree  equip  callcard  wireless  multline  voice  pager  internet  callid  confer  ebill  custcat  churn\n",
       "0       2      13   44        1        9      64   4       5       0         0      0         1         0         0      0      0         0       0       0      0        1      1\n",
       "1       3      11   33        1        7     136   5       5       0         1      0         1         1         0      1      1         0       1       1      0        4      1\n",
       "2       3      68   52        1       24     116   1      29       1         1      0         1         0         0      0      0         0       1       1      0        3      0\n",
       "3       2      33   33        0       12      33   2       0       1         0      0         0         0         0      0      0         0       0       0      0        1      1\n",
       "4       2      23   30        1        9      30   1       2       0         0      0         0         0         0      0      0         0       1       1      0        3      0"
      ]
     },
     "execution_count": 3,
     "metadata": {},
     "output_type": "execute_result"
    }
   ],
   "source": [
    "pd.set_option('display.width', 3000)\n",
    "pd.set_option('display.max.columns', 500) # display up to 500 colums without \"...\" use horizontal scrolling instead\n",
    "pd.set_option('display.max.rows', 50)\n",
    "\n",
    "# Fetch the Customer file\n",
    "my_file = project.get_file(\"telco.csv\")\n",
    "\n",
    "# Read the EXCEl data file from the object storage into a pandas DataFrame\n",
    "my_file.seek(0)\n",
    "ww_df = pd.read_csv(my_file)\n",
    "print(\"\\nNumber of customers: {}\".format(len(ww_df)))\n",
    "ww_df.head()"
   ]
  },
  {
   "cell_type": "markdown",
   "metadata": {},
   "source": [
    "# 3. Exploratory Data Analysis\n",
    "Lets now look at some exploratory information about our dataset and the variables in it to get a flovor of its different aspects. We will look at:<br>\n",
    "- Number of observations<br>\n",
    "- Number of columns<br>\n",
    "- Types of columns<br>\n",
    "- Does our dataset has empty cells or not?<br>\n",
    "- Is our dataset balanced or skewed?\n",
    "- Correlations between variables<br>\n",
    "- Descriptive statistics for each variable"
   ]
  },
  {
   "cell_type": "code",
   "execution_count": 4,
   "metadata": {},
   "outputs": [
    {
     "data": {
      "text/plain": [
       "(1000, 22)"
      ]
     },
     "execution_count": 4,
     "metadata": {},
     "output_type": "execute_result"
    }
   ],
   "source": [
    "ww_df.shape # dimensions of data set"
   ]
  },
  {
   "cell_type": "code",
   "execution_count": 5,
   "metadata": {},
   "outputs": [
    {
     "data": {
      "text/plain": [
       "region      0\n",
       "tenure      0\n",
       "age         0\n",
       "marital     0\n",
       "address     0\n",
       "income      0\n",
       "ed          0\n",
       "employ      0\n",
       "gender      0\n",
       "tollfree    0\n",
       "equip       0\n",
       "callcard    0\n",
       "wireless    0\n",
       "multline    0\n",
       "voice       0\n",
       "pager       0\n",
       "internet    0\n",
       "callid      0\n",
       "confer      0\n",
       "ebill       0\n",
       "custcat     0\n",
       "churn       0\n",
       "dtype: int64"
      ]
     },
     "execution_count": 5,
     "metadata": {},
     "output_type": "execute_result"
    }
   ],
   "source": [
    "ww_df.isnull().sum() # check if any cells have missing values"
   ]
  },
  {
   "cell_type": "code",
   "execution_count": 6,
   "metadata": {},
   "outputs": [
    {
     "name": "stdout",
     "output_type": "stream",
     "text": [
      "<class 'pandas.core.frame.DataFrame'>\n",
      "RangeIndex: 1000 entries, 0 to 999\n",
      "Data columns (total 22 columns):\n",
      "region      1000 non-null int64\n",
      "tenure      1000 non-null int64\n",
      "age         1000 non-null int64\n",
      "marital     1000 non-null int64\n",
      "address     1000 non-null int64\n",
      "income      1000 non-null int64\n",
      "ed          1000 non-null int64\n",
      "employ      1000 non-null int64\n",
      "gender      1000 non-null int64\n",
      "tollfree    1000 non-null int64\n",
      "equip       1000 non-null int64\n",
      "callcard    1000 non-null int64\n",
      "wireless    1000 non-null int64\n",
      "multline    1000 non-null int64\n",
      "voice       1000 non-null int64\n",
      "pager       1000 non-null int64\n",
      "internet    1000 non-null int64\n",
      "callid      1000 non-null int64\n",
      "confer      1000 non-null int64\n",
      "ebill       1000 non-null int64\n",
      "custcat     1000 non-null int64\n",
      "churn       1000 non-null int64\n",
      "dtypes: int64(22)\n",
      "memory usage: 172.0 KB\n"
     ]
    }
   ],
   "source": [
    "ww_df.info() # check data type of each field"
   ]
  },
  {
   "cell_type": "code",
   "execution_count": 7,
   "metadata": {},
   "outputs": [
    {
     "data": {
      "text/plain": [
       "0    726\n",
       "1    274\n",
       "Name: churn, dtype: int64"
      ]
     },
     "execution_count": 7,
     "metadata": {},
     "output_type": "execute_result"
    }
   ],
   "source": [
    "ww_df.churn.value_counts() # is our dataset balanced? or is it skewed with more observations for a certain outcome?"
   ]
  },
  {
   "cell_type": "code",
   "execution_count": 8,
   "metadata": {},
   "outputs": [
    {
     "data": {
      "text/plain": [
       "<matplotlib.figure.Figure at 0x7f6f34996940>"
      ]
     },
     "execution_count": 8,
     "metadata": {},
     "output_type": "execute_result"
    },
    {
     "data": {
      "text/plain": [
       "<matplotlib.figure.Figure at 0x7f6f34996940>"
      ]
     },
     "metadata": {},
     "output_type": "display_data"
    }
   ],
   "source": [
    "# view correlations between variables as a heat map, useful mainly for numeric variables (not binary variables)\n",
    "plt.figure(figsize=(20, 20))\n",
    "#sns.heatmap(ww_df.corr(), cmap=\"Blues\", annot=True, fmt=\".2f\") "
   ]
  },
  {
   "cell_type": "code",
   "execution_count": 9,
   "metadata": {},
   "outputs": [
    {
     "data": {
      "text/html": [
       "<div>\n",
       "<style scoped>\n",
       "    .dataframe tbody tr th:only-of-type {\n",
       "        vertical-align: middle;\n",
       "    }\n",
       "\n",
       "    .dataframe tbody tr th {\n",
       "        vertical-align: top;\n",
       "    }\n",
       "\n",
       "    .dataframe thead th {\n",
       "        text-align: right;\n",
       "    }\n",
       "</style>\n",
       "<table border=\"1\" class=\"dataframe\">\n",
       "  <thead>\n",
       "    <tr style=\"text-align: right;\">\n",
       "      <th></th>\n",
       "      <th>region</th>\n",
       "      <th>tenure</th>\n",
       "      <th>age</th>\n",
       "      <th>marital</th>\n",
       "      <th>address</th>\n",
       "      <th>income</th>\n",
       "      <th>ed</th>\n",
       "      <th>employ</th>\n",
       "      <th>gender</th>\n",
       "      <th>tollfree</th>\n",
       "      <th>equip</th>\n",
       "      <th>callcard</th>\n",
       "      <th>wireless</th>\n",
       "      <th>multline</th>\n",
       "      <th>voice</th>\n",
       "      <th>pager</th>\n",
       "      <th>internet</th>\n",
       "      <th>callid</th>\n",
       "      <th>confer</th>\n",
       "      <th>ebill</th>\n",
       "      <th>custcat</th>\n",
       "      <th>churn</th>\n",
       "    </tr>\n",
       "  </thead>\n",
       "  <tbody>\n",
       "    <tr>\n",
       "      <th>count</th>\n",
       "      <td>1000.0000</td>\n",
       "      <td>1000.000000</td>\n",
       "      <td>1000.000000</td>\n",
       "      <td>1000.000000</td>\n",
       "      <td>1000.000000</td>\n",
       "      <td>1000.000000</td>\n",
       "      <td>1000.000000</td>\n",
       "      <td>1000.000000</td>\n",
       "      <td>1000.000000</td>\n",
       "      <td>1000.000000</td>\n",
       "      <td>1000.000000</td>\n",
       "      <td>1000.000000</td>\n",
       "      <td>1000.000000</td>\n",
       "      <td>1000.000000</td>\n",
       "      <td>1000.000000</td>\n",
       "      <td>1000.0000</td>\n",
       "      <td>1000.000000</td>\n",
       "      <td>1000.000000</td>\n",
       "      <td>1000.000000</td>\n",
       "      <td>1000.000000</td>\n",
       "      <td>1000.000000</td>\n",
       "      <td>1000.000000</td>\n",
       "    </tr>\n",
       "    <tr>\n",
       "      <th>mean</th>\n",
       "      <td>2.0220</td>\n",
       "      <td>35.526000</td>\n",
       "      <td>41.684000</td>\n",
       "      <td>0.495000</td>\n",
       "      <td>11.551000</td>\n",
       "      <td>77.535000</td>\n",
       "      <td>2.671000</td>\n",
       "      <td>10.987000</td>\n",
       "      <td>0.517000</td>\n",
       "      <td>0.474000</td>\n",
       "      <td>0.386000</td>\n",
       "      <td>0.678000</td>\n",
       "      <td>0.296000</td>\n",
       "      <td>0.475000</td>\n",
       "      <td>0.304000</td>\n",
       "      <td>0.2610</td>\n",
       "      <td>0.368000</td>\n",
       "      <td>0.481000</td>\n",
       "      <td>0.502000</td>\n",
       "      <td>0.371000</td>\n",
       "      <td>2.487000</td>\n",
       "      <td>0.274000</td>\n",
       "    </tr>\n",
       "    <tr>\n",
       "      <th>std</th>\n",
       "      <td>0.8162</td>\n",
       "      <td>21.359812</td>\n",
       "      <td>12.558816</td>\n",
       "      <td>0.500225</td>\n",
       "      <td>10.086681</td>\n",
       "      <td>107.044165</td>\n",
       "      <td>1.222397</td>\n",
       "      <td>10.082087</td>\n",
       "      <td>0.499961</td>\n",
       "      <td>0.499573</td>\n",
       "      <td>0.487074</td>\n",
       "      <td>0.467477</td>\n",
       "      <td>0.456719</td>\n",
       "      <td>0.499624</td>\n",
       "      <td>0.460213</td>\n",
       "      <td>0.4394</td>\n",
       "      <td>0.482503</td>\n",
       "      <td>0.499889</td>\n",
       "      <td>0.500246</td>\n",
       "      <td>0.483314</td>\n",
       "      <td>1.120306</td>\n",
       "      <td>0.446232</td>\n",
       "    </tr>\n",
       "    <tr>\n",
       "      <th>min</th>\n",
       "      <td>1.0000</td>\n",
       "      <td>1.000000</td>\n",
       "      <td>18.000000</td>\n",
       "      <td>0.000000</td>\n",
       "      <td>0.000000</td>\n",
       "      <td>9.000000</td>\n",
       "      <td>1.000000</td>\n",
       "      <td>0.000000</td>\n",
       "      <td>0.000000</td>\n",
       "      <td>0.000000</td>\n",
       "      <td>0.000000</td>\n",
       "      <td>0.000000</td>\n",
       "      <td>0.000000</td>\n",
       "      <td>0.000000</td>\n",
       "      <td>0.000000</td>\n",
       "      <td>0.0000</td>\n",
       "      <td>0.000000</td>\n",
       "      <td>0.000000</td>\n",
       "      <td>0.000000</td>\n",
       "      <td>0.000000</td>\n",
       "      <td>1.000000</td>\n",
       "      <td>0.000000</td>\n",
       "    </tr>\n",
       "    <tr>\n",
       "      <th>25%</th>\n",
       "      <td>1.0000</td>\n",
       "      <td>17.000000</td>\n",
       "      <td>32.000000</td>\n",
       "      <td>0.000000</td>\n",
       "      <td>3.000000</td>\n",
       "      <td>29.000000</td>\n",
       "      <td>2.000000</td>\n",
       "      <td>3.000000</td>\n",
       "      <td>0.000000</td>\n",
       "      <td>0.000000</td>\n",
       "      <td>0.000000</td>\n",
       "      <td>0.000000</td>\n",
       "      <td>0.000000</td>\n",
       "      <td>0.000000</td>\n",
       "      <td>0.000000</td>\n",
       "      <td>0.0000</td>\n",
       "      <td>0.000000</td>\n",
       "      <td>0.000000</td>\n",
       "      <td>0.000000</td>\n",
       "      <td>0.000000</td>\n",
       "      <td>1.000000</td>\n",
       "      <td>0.000000</td>\n",
       "    </tr>\n",
       "    <tr>\n",
       "      <th>50%</th>\n",
       "      <td>2.0000</td>\n",
       "      <td>34.000000</td>\n",
       "      <td>40.000000</td>\n",
       "      <td>0.000000</td>\n",
       "      <td>9.000000</td>\n",
       "      <td>47.000000</td>\n",
       "      <td>3.000000</td>\n",
       "      <td>8.000000</td>\n",
       "      <td>1.000000</td>\n",
       "      <td>0.000000</td>\n",
       "      <td>0.000000</td>\n",
       "      <td>1.000000</td>\n",
       "      <td>0.000000</td>\n",
       "      <td>0.000000</td>\n",
       "      <td>0.000000</td>\n",
       "      <td>0.0000</td>\n",
       "      <td>0.000000</td>\n",
       "      <td>0.000000</td>\n",
       "      <td>1.000000</td>\n",
       "      <td>0.000000</td>\n",
       "      <td>3.000000</td>\n",
       "      <td>0.000000</td>\n",
       "    </tr>\n",
       "    <tr>\n",
       "      <th>75%</th>\n",
       "      <td>3.0000</td>\n",
       "      <td>54.000000</td>\n",
       "      <td>51.000000</td>\n",
       "      <td>1.000000</td>\n",
       "      <td>18.000000</td>\n",
       "      <td>83.000000</td>\n",
       "      <td>4.000000</td>\n",
       "      <td>17.000000</td>\n",
       "      <td>1.000000</td>\n",
       "      <td>1.000000</td>\n",
       "      <td>1.000000</td>\n",
       "      <td>1.000000</td>\n",
       "      <td>1.000000</td>\n",
       "      <td>1.000000</td>\n",
       "      <td>1.000000</td>\n",
       "      <td>1.0000</td>\n",
       "      <td>1.000000</td>\n",
       "      <td>1.000000</td>\n",
       "      <td>1.000000</td>\n",
       "      <td>1.000000</td>\n",
       "      <td>3.000000</td>\n",
       "      <td>1.000000</td>\n",
       "    </tr>\n",
       "    <tr>\n",
       "      <th>max</th>\n",
       "      <td>3.0000</td>\n",
       "      <td>72.000000</td>\n",
       "      <td>77.000000</td>\n",
       "      <td>1.000000</td>\n",
       "      <td>55.000000</td>\n",
       "      <td>1668.000000</td>\n",
       "      <td>5.000000</td>\n",
       "      <td>47.000000</td>\n",
       "      <td>1.000000</td>\n",
       "      <td>1.000000</td>\n",
       "      <td>1.000000</td>\n",
       "      <td>1.000000</td>\n",
       "      <td>1.000000</td>\n",
       "      <td>1.000000</td>\n",
       "      <td>1.000000</td>\n",
       "      <td>1.0000</td>\n",
       "      <td>1.000000</td>\n",
       "      <td>1.000000</td>\n",
       "      <td>1.000000</td>\n",
       "      <td>1.000000</td>\n",
       "      <td>4.000000</td>\n",
       "      <td>1.000000</td>\n",
       "    </tr>\n",
       "  </tbody>\n",
       "</table>\n",
       "</div>"
      ],
      "text/plain": [
       "          region       tenure          age      marital      address       income           ed       employ       gender     tollfree        equip     callcard     wireless     multline        voice      pager     internet       callid       confer        ebill      custcat        churn\n",
       "count  1000.0000  1000.000000  1000.000000  1000.000000  1000.000000  1000.000000  1000.000000  1000.000000  1000.000000  1000.000000  1000.000000  1000.000000  1000.000000  1000.000000  1000.000000  1000.0000  1000.000000  1000.000000  1000.000000  1000.000000  1000.000000  1000.000000\n",
       "mean      2.0220    35.526000    41.684000     0.495000    11.551000    77.535000     2.671000    10.987000     0.517000     0.474000     0.386000     0.678000     0.296000     0.475000     0.304000     0.2610     0.368000     0.481000     0.502000     0.371000     2.487000     0.274000\n",
       "std       0.8162    21.359812    12.558816     0.500225    10.086681   107.044165     1.222397    10.082087     0.499961     0.499573     0.487074     0.467477     0.456719     0.499624     0.460213     0.4394     0.482503     0.499889     0.500246     0.483314     1.120306     0.446232\n",
       "min       1.0000     1.000000    18.000000     0.000000     0.000000     9.000000     1.000000     0.000000     0.000000     0.000000     0.000000     0.000000     0.000000     0.000000     0.000000     0.0000     0.000000     0.000000     0.000000     0.000000     1.000000     0.000000\n",
       "25%       1.0000    17.000000    32.000000     0.000000     3.000000    29.000000     2.000000     3.000000     0.000000     0.000000     0.000000     0.000000     0.000000     0.000000     0.000000     0.0000     0.000000     0.000000     0.000000     0.000000     1.000000     0.000000\n",
       "50%       2.0000    34.000000    40.000000     0.000000     9.000000    47.000000     3.000000     8.000000     1.000000     0.000000     0.000000     1.000000     0.000000     0.000000     0.000000     0.0000     0.000000     0.000000     1.000000     0.000000     3.000000     0.000000\n",
       "75%       3.0000    54.000000    51.000000     1.000000    18.000000    83.000000     4.000000    17.000000     1.000000     1.000000     1.000000     1.000000     1.000000     1.000000     1.000000     1.0000     1.000000     1.000000     1.000000     1.000000     3.000000     1.000000\n",
       "max       3.0000    72.000000    77.000000     1.000000    55.000000  1668.000000     5.000000    47.000000     1.000000     1.000000     1.000000     1.000000     1.000000     1.000000     1.000000     1.0000     1.000000     1.000000     1.000000     1.000000     4.000000     1.000000"
      ]
     },
     "execution_count": 9,
     "metadata": {},
     "output_type": "execute_result"
    }
   ],
   "source": [
    "ww_df.describe() # view statisical measures of variables"
   ]
  },
  {
   "cell_type": "markdown",
   "metadata": {},
   "source": [
    "# 4. Feature Engineering / Data Preparation\n",
    "From our data inspection we can observe the following about the variables / features / target:\n",
    "<ul>\n",
    "    <li>We have 22 attribuites in our dataset (21 possible features and one target)</li>\n",
    "    <li>Since WW Communications is seeking information on key drivers for customer churn, then our target variable for this analysis will be the variable <b>churn</b></li>\n",
    "    <li>All attributes are in numeric format.</li>\n",
    "    <li>We have <b>four</b> numeric variables that are continious in nature <b>(age, income, employ, tenure)</b>. These variables will require scaling before they are used in modeling</li>\n",
    "    <li><b>Three</b> numeric variables <b>region, address, ed</b> that are numeric encoding of categorical variables so they only need scaling.</li>\n",
    "    <li><b>Fourteen</b> variables <b>(marital, gender, tollfree, equip, callcard, wireless, multline, voice, pager, internet, callid, confer, ebill, custcat)</b> that are categroical in nature and are already encoded as <b>0,1</b> so there is no need for any further conversions or preprocessing on these variables</li>\n",
    "    <li>Our target variable <b>churn</b> is also encoded as <b>0,1</b> so it is already prepared for modeling</li>\n",
    "    <li>As seen above our dataset is skewed with much more observations for churn=0 than churn=1 (726 observations to only 274). This means that our model will probably be more accurate at predicting churn=0 correctly than churn=1. Ideally we should have a dataset that is balanced with nearly equal numbers of observations for the two values of our target label.</li>\n",
    "</ul>"
   ]
  },
  {
   "cell_type": "markdown",
   "metadata": {},
   "source": [
    "# 5. Feature Selection\n",
    "We are going to use several methods to try and discover the features that will be strong predictors for customer churn. Specifically we will try the following techniques:\n",
    "\n",
    "- Cross Tabulations: this should help us identify which features qualify as a predictors for customer churn. It mainly helps with nominal features but can provide insight for continious features as well if we divide the continious feature into bins\n",
    "- Correlations: this will help identify features pairs that are strongly correlated with each other (not with churn) so that we can remove one feature of them\n",
    "- SelectKBest method: this is a scikit learn object that ranks a list of features according to their predictice impact by assigning a score to each feature"
   ]
  },
  {
   "cell_type": "markdown",
   "metadata": {},
   "source": [
    "## 5.1 Cross Tabulation for nominal features\n",
    "First let us check the 13 nominal features that we have in the dataset against customer churn. The nominal features are as follows:\n",
    "    <b>marital, gender, tollfree, equip, callcard, wireless, multline, voice, pager, internet, callid, confer, ebill</b>"
   ]
  },
  {
   "cell_type": "code",
   "execution_count": 10,
   "metadata": {},
   "outputs": [
    {
     "data": {
      "image/png": "[encoded data removed]",
      "text/plain": [
       "<matplotlib.figure.Figure at 0x7f6f3455e0f0>"
      ]
     },
     "metadata": {},
     "output_type": "display_data"
    }
   ],
   "source": [
    "nominal_features = ['marital', 'gender', 'tollfree', 'equip', 'callcard', 'wireless', 'multline', 'voice', 'pager', 'internet', 'callid', 'confer', 'ebill']\n",
    "target_feature = 'churn'\n",
    "\n",
    "#from scipy import stats\n",
    "#tab = pd.crosstab(ww_df['equip'], ww_df['callcard'])\n",
    "#print(tab)\n",
    "#print(stats.chi2_contingency(tab))\n",
    "\n",
    "fig, axs = plt.subplots(4, 4, sharex=False, sharey=True, figsize=(30,25))\n",
    "\n",
    "for i, feat in enumerate(nominal_features):\n",
    "    #bins = pd.cut(ww_df['age'], bins=5)\n",
    "    tab = pd.crosstab(ww_df[feat], ww_df[target_feature], margins=True)\n",
    "    tab = tab.drop('All',axis=1)\n",
    "    tab = tab.drop('All',axis=0)\n",
    "    ax = tab.plot(kind='bar', stacked = True, ax = axs[int(i/4), int(i%4)])\n",
    "     \n",
    "for i in range(13, 16):\n",
    "    fig.delaxes(axs[int(i/4), int(i%4)])\n",
    "   \n",
    "plt.show()"
   ]
  },
  {
   "cell_type": "markdown",
   "metadata": {},
   "source": [
    "The cross tabulation above provides the following information about the relationship between each of the nominal features and churn:\n",
    "<ul>\n",
    "    <li>Each of the features <b>marital, gender, tollfree, multline, callid, confer</b> have the same distribution whether they are 0 or 1 on customer churn so we can conclude that they will be <b>weak</b> predictors for customer churn &#x274C;</li>\n",
    "    <li>Each of the features <b>equip, internet, ebill</b> have same distribution when they are 0 vs 1 on customer churn so we should take only one of them and use as a predictor. We shall select <b>equip</b></li>\n",
    "    <li>Each of the features <b>wireless, voice, pager</b> have same distribution when they are 0 vs 1 on customer churn so we should take only one of them and use as a predictor. We shall select <b>wireless</b></li>\n",
    "    <li><b>Callcard</b> havs an opposite distribution to all other nominal features where churn decreases as customer buy callcards. Accordingly, we shall select <b>callcard</b> as a predictor</li>       \n",
    "</ul>"
   ]
  },
  {
   "cell_type": "markdown",
   "metadata": {},
   "source": [
    "## 5.2 Cross Tabulation for numeric features (except income)\n",
    "Next we check the 8 numeric features that we have in the dataset against customer churn. The numeric features are as follows:\n",
    "    <b>region, tenure, age, address, income, ed, employ, custcat</b>"
   ]
  },
  {
   "cell_type": "code",
   "execution_count": 11,
   "metadata": {},
   "outputs": [
    {
     "data": {
      "image/png": "[encoded data removed]",
      "text/plain": [
       "<matplotlib.figure.Figure at 0x7f6f2c036320>"
      ]
     },
     "metadata": {},
     "output_type": "display_data"
    }
   ],
   "source": [
    "numeric_features = ['region', 'tenure', 'age', 'address', 'ed', 'employ', 'custcat']\n",
    "target_feature = 'churn'\n",
    "\n",
    "fig, axs = plt.subplots(2, 4, sharex=False, sharey=True, figsize=(30,12))\n",
    "plt.subplots_adjust(hspace=0.5)\n",
    "\n",
    "for i, feat in enumerate(numeric_features):\n",
    "    bins = pd.cut(ww_df[feat], bins=5)\n",
    "    tab = pd.crosstab(bins, ww_df[target_feature], margins=True)\n",
    "    tab = tab.drop('All',axis=1)\n",
    "    tab = tab.drop('All',axis=0)\n",
    "    ax = tab.plot(kind='bar', stacked = True, ax = axs[int(i/4), int(i%4)])\n",
    "    \n",
    "for i in range(7, 8):\n",
    "    fig.delaxes(axs[int(i/4), int(i%4)])   \n",
    "   \n",
    "plt.show()"
   ]
  },
  {
   "cell_type": "markdown",
   "metadata": {},
   "source": [
    "The cross tabulation above provides the following information about the relationship between each of the numeric features and churn:\n",
    "<ul>\n",
    "    <li><b>Region</b> is a weak predictor for churn as it has the same distribution against churn across the three avalaible regions so it will be excluded from our modeling &#x274C;</li>\n",
    "    <li>As <b>tenure</b> increases customer churn decreases as a proportion so we can consider this feature as a predictor</li>\n",
    "    <li>Similariy as <b>age </b> bracket increases customer churn decreases as a proportion so we can consider this feature as a predictor</li>\n",
    "    <li>For each of the four customer categories of the feature <b>custcat</b> the distribution against the two states of churn is quite identical so we can consider this feature as weak predictor &#x274C;</li>\n",
    "    <li>As <b>employ</b> increases we notice that churn is more 0 than 1 so we can consider the feature for modeling</li>\n",
    "    <li>As <b>address</b> increases we notice that churn is more 0 than 1 so may be some neighbourhoods have lower churn than other so we can consider the feature for modeling as well</li>  \n",
    "    <li>As <b>ed</b> increases wen see that churn as proportion of the education group increases so based on this we can consider ed as a possible predictor</li>\n",
    "</ul>"
   ]
  },
  {
   "cell_type": "markdown",
   "metadata": {},
   "source": [
    "## 5.3 Cross Tabulation for numeric feature \"income\"\n",
    "<b>Income</b> is a wide ranging attribute so we will check it by viewing a histogram of its distribution"
   ]
  },
  {
   "cell_type": "code",
   "execution_count": 12,
   "metadata": {},
   "outputs": [
    {
     "data": {
      "text/plain": [
       "<matplotlib.axes._subplots.AxesSubplot at 0x7f6f345650f0>"
      ]
     },
     "execution_count": 12,
     "metadata": {},
     "output_type": "execute_result"
    },
    {
     "data": {
      "image/png": "[encoded data removed]",
      "text/plain": [
       "<matplotlib.figure.Figure at 0x7f6f34553438>"
      ]
     },
     "metadata": {},
     "output_type": "display_data"
    }
   ],
   "source": [
    "ww_df['income'].plot(kind='hist', title = 'income')"
   ]
  },
  {
   "cell_type": "markdown",
   "metadata": {},
   "source": [
    "As seen above we notice that income is heavily skewed to the right with a maximum value of 1668 but we also notice that most of the distribution is in the range up to 200 so lets narrow our historgram to that range only as seen below"
   ]
  },
  {
   "cell_type": "code",
   "execution_count": 13,
   "metadata": {},
   "outputs": [
    {
     "data": {
      "image/png": "[encoded data removed]",
      "text/plain": [
       "<matplotlib.figure.Figure at 0x7f6f2bc70da0>"
      ]
     },
     "metadata": {},
     "output_type": "display_data"
    }
   ],
   "source": [
    "target_feature = 'churn'\n",
    "\n",
    "income_less_500 = ww_df[ww_df['income'] <= 200]\n",
    "\n",
    "bins = pd.cut(income_less_500['income'], bins=5)\n",
    "tab = pd.crosstab(bins, ww_df[target_feature], margins=True)\n",
    "tab = tab.drop('All',axis=1)\n",
    "tab = tab.drop('All',axis=0)\n",
    "tab.plot(kind='bar', stacked = True, figsize=(15,4), title = 'income') \n",
    "plt.show()"
   ]
  },
  {
   "cell_type": "markdown",
   "metadata": {},
   "source": [
    "The modified histogram above shows that as income increases churn as a proportion tends to decrease so this is a pattern that allow us to consider <b>income</b> as a predictor"
   ]
  },
  {
   "cell_type": "markdown",
   "metadata": {},
   "source": [
    "## 5.4 Correlations\n",
    "Next we check the Pearsom correlation between the continious features to see if any of the features pairs are highly correlated and as a result we can exclude one of the features of the pairs"
   ]
  },
  {
   "cell_type": "code",
   "execution_count": 14,
   "metadata": {},
   "outputs": [
    {
     "data": {
      "text/plain": [
       "<matplotlib.axes._subplots.AxesSubplot at 0x7f6f2bb52278>"
      ]
     },
     "execution_count": 14,
     "metadata": {},
     "output_type": "execute_result"
    },
    {
     "data": {
      "image/png": "[encoded data removed]",
      "text/plain": [
       "<matplotlib.figure.Figure at 0x7f6f2bb195c0>"
      ]
     },
     "metadata": {},
     "output_type": "display_data"
    }
   ],
   "source": [
    "#check for correlations between numeric features. Rule, if two features that are highly correlated one should be dropped\n",
    "\n",
    "numeric_features = ['region', 'tenure', 'age', 'address', 'income', 'ed', 'employ', 'custcat']\n",
    "ww_df[numeric_features].corr()\n",
    "plt.figure(figsize=(10, 10))\n",
    "sns.heatmap(ww_df[numeric_features].corr(),  cmap=\"Blues\", annot=True, fmt=\".2f\") "
   ]
  },
  {
   "cell_type": "markdown",
   "metadata": {},
   "source": [
    "The heat map above shows a maximum correlation of 0.67 between <b>employ</b> and <b>age</b>. All other features pairs have lower correlation. This correlation is not strong enough to warrant exclusion of any of the numeric features based on correlation alone."
   ]
  },
  {
   "cell_type": "markdown",
   "metadata": {},
   "source": [
    "## 5.5 SelectKBest Method\n",
    "SelectKBest is an object from Scikit Learn library that we can used for automatic feature selection. SelectKBest ranks all features based on their importance as predictors for the target variable using different statistical methods. We use it here as a validation of our selected features. As we can see from the result below, our selected features match the top 6 features ranked by SelectKBest."
   ]
  },
  {
   "cell_type": "code",
   "execution_count": 15,
   "metadata": {},
   "outputs": [
    {
     "data": {
      "text/html": [
       "<div>\n",
       "<style scoped>\n",
       "    .dataframe tbody tr th:only-of-type {\n",
       "        vertical-align: middle;\n",
       "    }\n",
       "\n",
       "    .dataframe tbody tr th {\n",
       "        vertical-align: top;\n",
       "    }\n",
       "\n",
       "    .dataframe thead th {\n",
       "        text-align: right;\n",
       "    }\n",
       "</style>\n",
       "<table border=\"1\" class=\"dataframe\">\n",
       "  <thead>\n",
       "    <tr style=\"text-align: right;\">\n",
       "      <th></th>\n",
       "      <th>Feature</th>\n",
       "      <th>Score</th>\n",
       "    </tr>\n",
       "  </thead>\n",
       "  <tbody>\n",
       "    <tr>\n",
       "      <th>0</th>\n",
       "      <td>tenure</td>\n",
       "      <td>1821.802910</td>\n",
       "    </tr>\n",
       "    <tr>\n",
       "      <th>1</th>\n",
       "      <td>income</td>\n",
       "      <td>1231.706013</td>\n",
       "    </tr>\n",
       "    <tr>\n",
       "      <th>2</th>\n",
       "      <td>employ</td>\n",
       "      <td>694.966472</td>\n",
       "    </tr>\n",
       "    <tr>\n",
       "      <th>3</th>\n",
       "      <td>address</td>\n",
       "      <td>519.891713</td>\n",
       "    </tr>\n",
       "    <tr>\n",
       "      <th>4</th>\n",
       "      <td>age</td>\n",
       "      <td>241.608178</td>\n",
       "    </tr>\n",
       "    <tr>\n",
       "      <th>5</th>\n",
       "      <td>equip</td>\n",
       "      <td>57.136510</td>\n",
       "    </tr>\n",
       "    <tr>\n",
       "      <th>6</th>\n",
       "      <td>internet</td>\n",
       "      <td>46.220353</td>\n",
       "    </tr>\n",
       "    <tr>\n",
       "      <th>7</th>\n",
       "      <td>ebill</td>\n",
       "      <td>41.506048</td>\n",
       "    </tr>\n",
       "    <tr>\n",
       "      <th>8</th>\n",
       "      <td>ed</td>\n",
       "      <td>23.250195</td>\n",
       "    </tr>\n",
       "    <tr>\n",
       "      <th>9</th>\n",
       "      <td>callcard</td>\n",
       "      <td>19.113123</td>\n",
       "    </tr>\n",
       "  </tbody>\n",
       "</table>\n",
       "</div>"
      ],
      "text/plain": [
       "    Feature        Score\n",
       "0    tenure  1821.802910\n",
       "1    income  1231.706013\n",
       "2    employ   694.966472\n",
       "3   address   519.891713\n",
       "4       age   241.608178\n",
       "5     equip    57.136510\n",
       "6  internet    46.220353\n",
       "7     ebill    41.506048\n",
       "8        ed    23.250195\n",
       "9  callcard    19.113123"
      ]
     },
     "execution_count": 15,
     "metadata": {},
     "output_type": "execute_result"
    }
   ],
   "source": [
    "# Feature Extraction with Univariate Statistical Tests (Chi-squared for classification)\n",
    "pd.set_option('display.expand_frame_repr', False)\n",
    "from sklearn.feature_selection import SelectKBest\n",
    "from sklearn.feature_selection import chi2\n",
    "# load data\n",
    "\n",
    "features = ['region', 'tenure', 'age', 'marital', 'address', 'income', 'ed', 'employ', 'gender', \n",
    "            'tollfree', 'equip', 'callcard', 'wireless', 'multline', 'voice', 'pager', 'internet', 'callid', 'confer', 'ebill', 'custcat']\n",
    "\n",
    "target = 'churn'\n",
    "\n",
    "X = ww_df[features]\n",
    "Y = ww_df[target]\n",
    "# feature extraction\n",
    "test = SelectKBest(score_func=chi2, k=5)\n",
    "fit = test.fit(X, Y)\n",
    "# summarize scores\n",
    "np.set_printoptions(precision=3, suppress=True)\n",
    "#features = fit.transform(X) # get the array of observations for top 5 features, NICE!!\n",
    "#print(features)\n",
    "\n",
    "scored_features = pd.DataFrame({'Feature': features, 'Score' : fit.scores_})\n",
    "scored_features.sort_values(by = 'Score', ascending=False, inplace=True)\n",
    "scored_features = scored_features.reset_index(drop=True)\n",
    "scored_features.head(10)"
   ]
  },
  {
   "cell_type": "markdown",
   "metadata": {},
   "source": [
    "## 5.6 Selected Features\n",
    "Based on the analysis above we have identified the following features as predictors for <b>churn</b> to be used in our modeling:<br>\n",
    "- tenure\n",
    "- age\n",
    "- income\n",
    "- employ\n",
    "- address\n",
    "- ed\n",
    "- equip\n",
    "- wireless\n",
    "- callcard"
   ]
  },
  {
   "cell_type": "markdown",
   "metadata": {},
   "source": [
    "# 6. Modeling\n",
    "In the section we will focus finding the best model in order to predict customer churn for WW Communications. Since <b>churn</b> is a nominal variable (0,1) then our problem is mainly a classification problem. We will try different classification models to see which one yields the highest training accuracy, then we will fine tune our most accurate model in order to arrive at the bet testing accuracy."
   ]
  },
  {
   "cell_type": "markdown",
   "metadata": {},
   "source": [
    "## 6.1 Feature Scaling\n",
    "Before modeling we need to do feature scaling in order to standardize our measurement scale for all numeric features"
   ]
  },
  {
   "cell_type": "code",
   "execution_count": 16,
   "metadata": {},
   "outputs": [
    {
     "name": "stdout",
     "output_type": "stream",
     "text": [
      "Done\n"
     ]
    }
   ],
   "source": [
    "from sklearn.model_selection import train_test_split\n",
    "from sklearn import metrics\n",
    "from sklearn.model_selection import cross_val_score\n",
    "from sklearn.preprocessing import MinMaxScaler\n",
    "\n",
    "features = ['tenure', 'age', 'income', 'employ', 'address', 'ed', 'equip', 'wireless', 'callcard']\n",
    "target = 'churn'\n",
    "\n",
    "X = ww_df[features]\n",
    "y = ww_df[target]\n",
    "\n",
    "# ALWAYS SPLIT FIRST BEFORE SCALING TO AVOID PREDICTOR LEAKAGE !!!!!\n",
    "\n",
    "#Train Test Split, reserve test subset for finally accuracy and other metrics calculations\n",
    "X_train, X_test, y_train, y_test = train_test_split(X, y, test_size=0.3, random_state=1)\n",
    "\n",
    "scaler = MinMaxScaler(feature_range = (0, 1))\n",
    "scaler.fit(X_train) # fit the scaler on training data then apply to training and test data\n",
    "X_train = scaler.transform(X_train)\n",
    "X_test =  scaler.transform(X_test)\n",
    "print('Done')"
   ]
  },
  {
   "cell_type": "markdown",
   "metadata": {},
   "source": [
    "## 6.2 Modeling (using different models)\n",
    "Now lets try three different classification models and see which one yields the best training accuracy. We will try the following three models:\n",
    "- Logistic Regression\n",
    "- Support Vector Classifier\n",
    "- Random Forest Classifier"
   ]
  },
  {
   "cell_type": "code",
   "execution_count": 17,
   "metadata": {},
   "outputs": [
    {
     "name": "stdout",
     "output_type": "stream",
     "text": [
      "Logistic regression accuracy is: 0.782857142857\n",
      "SVM accuracy is:  0.754285714286\n",
      "Random forest accuracy is:  0.761428571429\n"
     ]
    }
   ],
   "source": [
    "from sklearn.linear_model import LogisticRegression\n",
    "from sklearn import svm\n",
    "from sklearn.ensemble import RandomForestClassifier\n",
    "\n",
    "# using specific random state to make sure we always get same accuracy result if we execute this cell multiple times or on multiple machines\n",
    "\n",
    "logreg = LogisticRegression(random_state=1)\n",
    "# 10-fold cross-validation, calculating average training accuracy\n",
    "scores = cross_val_score(logreg, X_train, y_train, cv=5, scoring='accuracy')\n",
    "print(\"Logistic regression accuracy is:\", scores.mean())\n",
    "\n",
    "svc = svm.SVC(random_state=1)\n",
    "# 10-fold cross-validation, calculating average training accuracy\n",
    "scores = cross_val_score(svc, X_train, y_train, cv=5, scoring='accuracy')\n",
    "print(\"SVM accuracy is: \", scores.mean())\n",
    "\n",
    "rc = RandomForestClassifier(random_state=1)\n",
    "# 10-fold cross-validation, calculating average training accuracy\n",
    "scores = cross_val_score(rc, X_train, y_train, cv=5, scoring='accuracy')\n",
    "print(\"Random forest accuracy is: \", scores.mean())"
   ]
  },
  {
   "cell_type": "markdown",
   "metadata": {},
   "source": [
    "## 6.3 Fine tuning the selected model hyperparameters\n",
    "Since Logistic Regression yielded the best training accuracy then we will select that model as our estimator of churn and now we need to identify the best hyperparameters to initialize the model in order to yield the highest possible testing accuracy"
   ]
  },
  {
   "cell_type": "code",
   "execution_count": 18,
   "metadata": {},
   "outputs": [
    {
     "data": {
      "text/plain": [
       "LogisticRegression(C=100, class_weight=None, dual=False, fit_intercept=True,\n",
       "          intercept_scaling=1, max_iter=100, multi_class='ovr', n_jobs=1,\n",
       "          penalty='l2', random_state=None, solver='newton-cg', tol=0.0001,\n",
       "          verbose=0, warm_start=False)"
      ]
     },
     "execution_count": 18,
     "metadata": {},
     "output_type": "execute_result"
    }
   ],
   "source": [
    "from sklearn.model_selection import GridSearchCV\n",
    "#from sklearn.model_selection import RandomizedSearchCV\n",
    "import numpy as np\n",
    "\n",
    "C_options = [0.001, 0.01, 0.1, 1, 10, 100, 1000]\n",
    "solver_options = ['newton-cg', 'lbfgs', 'liblinear', 'sag']\n",
    "class_weight_options = [None, 'balanced']\n",
    "param_grid = dict(C = C_options, solver = solver_options, class_weight = class_weight_options)\n",
    "\n",
    "clf = GridSearchCV(LogisticRegression(), param_grid)\n",
    "\n",
    "clf.fit(X_train, y_train)\n",
    "\n",
    "best_model = clf.best_estimator_\n",
    "best_model"
   ]
  },
  {
   "cell_type": "markdown",
   "metadata": {},
   "source": [
    "# 7. Model Evaluation\n",
    "In this section we check the tuned model testing accuracy. We also take a look at the relative importance of the model features in predicting customer churn. We conclude with an overview of the confusion matrix"
   ]
  },
  {
   "cell_type": "markdown",
   "metadata": {},
   "source": [
    "## 7.1 Testing accuracy"
   ]
  },
  {
   "cell_type": "code",
   "execution_count": 19,
   "metadata": {},
   "outputs": [
    {
     "name": "stdout",
     "output_type": "stream",
     "text": [
      "\n",
      "Accuracy of tuned model on test set: 0.76\n",
      "\n",
      "             precision    recall  f1-score   support\n",
      "\n",
      "          0       0.79      0.90      0.84       211\n",
      "          1       0.65      0.44      0.52        89\n",
      "\n",
      "avg / total       0.75      0.76      0.75       300\n",
      "\n"
     ]
    }
   ],
   "source": [
    "y_pred = best_model.predict(X_test)\n",
    "\n",
    "from sklearn.metrics import classification_report\n",
    "\n",
    "print('\\nAccuracy of tuned model on test set: {0:.2f}\\n'.format(best_model.score(X_test, y_test)))\n",
    "\n",
    "print(classification_report(y_test, y_pred))"
   ]
  },
  {
   "cell_type": "markdown",
   "metadata": {},
   "source": [
    "## 7.2 Displaying the modeling predictors sorted by coefficent\n",
    "In this section we take a look at the influence of the model features on customer churn.<br>\n",
    "- Features with +ve coefficient drive customer churn (i.e. churn = 1)\n",
    "- Features with -ve coefficient drive customer retention (i.e churn = 0)"
   ]
  },
  {
   "cell_type": "code",
   "execution_count": 20,
   "metadata": {},
   "outputs": [
    {
     "name": "stdout",
     "output_type": "stream",
     "text": [
      "[-2.296  0.817  1.704 -1.184 -1.896  0.772  0.916  0.336 -0.615]\n"
     ]
    },
    {
     "data": {
      "text/html": [
       "<div>\n",
       "<style scoped>\n",
       "    .dataframe tbody tr th:only-of-type {\n",
       "        vertical-align: middle;\n",
       "    }\n",
       "\n",
       "    .dataframe tbody tr th {\n",
       "        vertical-align: top;\n",
       "    }\n",
       "\n",
       "    .dataframe thead th {\n",
       "        text-align: right;\n",
       "    }\n",
       "</style>\n",
       "<table border=\"1\" class=\"dataframe\">\n",
       "  <thead>\n",
       "    <tr style=\"text-align: right;\">\n",
       "      <th></th>\n",
       "      <th>feature</th>\n",
       "      <th>importance</th>\n",
       "    </tr>\n",
       "  </thead>\n",
       "  <tbody>\n",
       "    <tr>\n",
       "      <th>0</th>\n",
       "      <td>income</td>\n",
       "      <td>1.703922</td>\n",
       "    </tr>\n",
       "    <tr>\n",
       "      <th>1</th>\n",
       "      <td>equip</td>\n",
       "      <td>0.916118</td>\n",
       "    </tr>\n",
       "    <tr>\n",
       "      <th>2</th>\n",
       "      <td>age</td>\n",
       "      <td>0.817108</td>\n",
       "    </tr>\n",
       "    <tr>\n",
       "      <th>3</th>\n",
       "      <td>ed</td>\n",
       "      <td>0.771740</td>\n",
       "    </tr>\n",
       "    <tr>\n",
       "      <th>4</th>\n",
       "      <td>wireless</td>\n",
       "      <td>0.336260</td>\n",
       "    </tr>\n",
       "    <tr>\n",
       "      <th>5</th>\n",
       "      <td>callcard</td>\n",
       "      <td>-0.615379</td>\n",
       "    </tr>\n",
       "    <tr>\n",
       "      <th>6</th>\n",
       "      <td>employ</td>\n",
       "      <td>-1.184056</td>\n",
       "    </tr>\n",
       "    <tr>\n",
       "      <th>7</th>\n",
       "      <td>address</td>\n",
       "      <td>-1.896340</td>\n",
       "    </tr>\n",
       "    <tr>\n",
       "      <th>8</th>\n",
       "      <td>tenure</td>\n",
       "      <td>-2.296435</td>\n",
       "    </tr>\n",
       "  </tbody>\n",
       "</table>\n",
       "</div>"
      ],
      "text/plain": [
       "    feature  importance\n",
       "0    income    1.703922\n",
       "1     equip    0.916118\n",
       "2       age    0.817108\n",
       "3        ed    0.771740\n",
       "4  wireless    0.336260\n",
       "5  callcard   -0.615379\n",
       "6    employ   -1.184056\n",
       "7   address   -1.896340\n",
       "8    tenure   -2.296435"
      ]
     },
     "execution_count": 20,
     "metadata": {},
     "output_type": "execute_result"
    }
   ],
   "source": [
    "import pandas as pd\n",
    "\n",
    "# model is the trained model\n",
    "importances = best_model.coef_[0]\n",
    "print(importances)\n",
    "\n",
    "# Extract the feature importances into a dataframe\n",
    "feature_results = pd.DataFrame({'feature': features, \n",
    "                                'importance': importances})\n",
    "\n",
    "# Show the top 10 most important\n",
    "feature_results = feature_results.sort_values('importance', ascending = False).reset_index(drop=True)\n",
    "\n",
    "feature_results.head(10)\n"
   ]
  },
  {
   "cell_type": "code",
   "execution_count": 21,
   "metadata": {},
   "outputs": [
    {
     "data": {
      "text/plain": [
       "<matplotlib.figure.Figure at 0x7f6f2c217710>"
      ]
     },
     "metadata": {},
     "output_type": "display_data"
    },
    {
     "data": {
      "image/png": "[encoded data removed]",
      "text/plain": [
       "<matplotlib.figure.Figure at 0x7f6f2c218e10>"
      ]
     },
     "metadata": {},
     "output_type": "display_data"
    }
   ],
   "source": [
    "plt.figure(figsize=(12, 6))\n",
    "plt.style.use('fivethirtyeight')\n",
    "\n",
    "# Plot the most important features in a horizontal bar chart\n",
    "feature_results.plot(x = 'feature', y = 'importance', \n",
    "                                 edgecolor = 'k',\n",
    "                                 kind='barh', color = 'blue')\n",
    "plt.xlabel('Relative Importance', size = 15)\n",
    "plt.ylabel('')\n",
    "plt.title('Feature Importances', size = 15)\n",
    "plt.show()\n"
   ]
  },
  {
   "cell_type": "markdown",
   "metadata": {},
   "source": [
    "## 7.3 Confsuion Matrix\n",
    "Finally we take a look the resulting confusion matrix and evaluate our model performance in predicting customer churn vs retention. Specifically we will exanme the following metrics:\n",
    "\n",
    "Precision (the positive predictive value) = TP / (TP+FP)\n",
    "<br>\n",
    "Specificity (the true negative rate) = TN / (FP+TN)\n",
    "<br>\n",
    "Accuracy (the fraction of the total sample that is correctly identified) = (TP+TN) / (TP+TN+FP+FN)\n"
   ]
  },
  {
   "cell_type": "code",
   "execution_count": 22,
   "metadata": {},
   "outputs": [],
   "source": [
    "from sklearn.metrics import classification_report, confusion_matrix\n",
    "import itertools\n",
    "def plot_confusion_matrix(cm, classes,\n",
    "                          normalize=False,\n",
    "                          title='Confusion matrix',\n",
    "                          cmap=plt.cm.Blues):\n",
    "    \"\"\"\n",
    "    This function prints and plots the confusion matrix.\n",
    "    Normalization can be applied by setting `normalize=True`.\n",
    "    \"\"\"\n",
    "    if normalize:\n",
    "        cm = cm.astype('float') / cm.sum(axis=1)[:, np.newaxis]\n",
    "        print(\"Normalized confusion matrix\")\n",
    "    else:\n",
    "        print('Confusion matrix, without normalization')\n",
    "\n",
    "    print(cm)\n",
    "\n",
    "    plt.imshow(cm, interpolation='nearest', cmap=cmap)\n",
    "    plt.title(title)\n",
    "    plt.colorbar()\n",
    "    tick_marks = np.arange(len(classes))\n",
    "    plt.xticks(tick_marks, classes, rotation=45)\n",
    "    plt.yticks(tick_marks, classes)\n",
    "    plt.grid(False)\n",
    "\n",
    "\n",
    "    fmt = '.2f' if normalize else 'd'\n",
    "    thresh = cm.max() / 2.\n",
    "    for i, j in itertools.product(range(cm.shape[0]), range(cm.shape[1])):\n",
    "        plt.text(j, i, format(cm[i, j], fmt),\n",
    "                 horizontalalignment=\"center\",\n",
    "                 color=\"white\" if cm[i, j] > thresh else \"black\")\n",
    "\n",
    "    plt.tight_layout()\n",
    "    plt.ylabel('True label')\n",
    "    plt.xlabel('Predicted label')"
   ]
  },
  {
   "cell_type": "code",
   "execution_count": 23,
   "metadata": {},
   "outputs": [
    {
     "name": "stdout",
     "output_type": "stream",
     "text": [
      "Accuracy = 0.76\n",
      "Precision = 0.65\n",
      "Specifity = 0.90\n",
      "Confusion matrix, without normalization\n",
      "[[ 39  50]\n",
      " [ 21 190]]\n"
     ]
    },
    {
     "data": {
      "image/png": "[encoded data removed]",
      "text/plain": [
       "<matplotlib.figure.Figure at 0x7f6f2c2179e8>"
      ]
     },
     "metadata": {},
     "output_type": "display_data"
    }
   ],
   "source": [
    "# Compute confusion matrix\n",
    "cnf_matrix = confusion_matrix(y_test, y_pred, [1, 0])\n",
    "np.set_printoptions(precision=2)\n",
    "\n",
    "tp, fn, fp, tn = cnf_matrix.ravel()\n",
    "\n",
    "accuracy = (tn+tp) / (tn + fp + fn + tp)\n",
    "precision = tp / (tp+fp)\n",
    "specifity = tn / (fp+tn)\n",
    "\n",
    "print(\"Accuracy = {0:.2f}\".format(accuracy))\n",
    "print(\"Precision = {0:.2f}\".format(precision))\n",
    "print(\"Specifity = {0:.2f}\".format(specifity))\n",
    "\n",
    "# Plot non-normalized confusion matrix\n",
    "plt.figure()\n",
    "plot_confusion_matrix(cnf_matrix, classes=['churn=1','churn=0'],  title='Confusion matrix')"
   ]
  },
  {
   "cell_type": "markdown",
   "metadata": {},
   "source": [
    "# 8. Conclusions and Recommendations\n",
    "Based on our analysis we provide the following conclusions and recommendations for the future:\n",
    "- The strongest three predictors affecting consumer retention (churn = 0) are as follows:\n",
    "    - tenure\n",
    "    - address\n",
    "    - employ\n",
    "- The strongest three predictors affecting consumer churn are as follows:\n",
    "    - income\n",
    "    - equip\n",
    "    - age\n",
    "- Our model is better at predicting retention (churn = 0) than churn (churn = 1). This is due to the dataset containing more observations with churn=0 than churn=1. Our model should become better at predicting churn if the dataset is updated with more observations for +ve churn customers\n",
    "- Customers in certain address code (range 0-11) have a high churn percentage. This could be due to network issues in theses areas. Futher investigation is advised\n",
    "- Customers in low income range (0-47) are more likely to leave WW. Further analysis is advised on price plans for these customers\n",
    "- Customers who have equip = 1 are more likely to leave WW. Futher analysis advised to uncover reasons for this\n",
    "- Customers with high years of education and employment are more loyal. Should proivde more incentives to attract these types of customers"
   ]
  },
  {
   "cell_type": "code",
   "execution_count": null,
   "metadata": {},
   "outputs": [],
   "source": []
  }
 ],
 "metadata": {
  "kernelspec": {
   "display_name": "Python 3.5",
   "language": "python",
   "name": "python3"
  },
  "language_info": {
   "codemirror_mode": {
    "name": "ipython",
    "version": 3
   },
   "file_extension": ".py",
   "mimetype": "text/x-python",
   "name": "python",
   "nbconvert_exporter": "python",
   "pygments_lexer": "ipython3",
   "version": "3.5.5"
  }
 },
 "nbformat": 4,
 "nbformat_minor": 1
}
