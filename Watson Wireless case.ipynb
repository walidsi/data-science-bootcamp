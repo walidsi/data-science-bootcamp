{
 "cells": [
  {
   "cell_type": "markdown",
   "metadata": {
    "collapsed": true
   },
   "source": [
    "# <center>Watson Wireless Use Case</center>"
   ]
  },
  {
   "cell_type": "markdown",
   "metadata": {},
   "source": [
    "<center><font size=\"3\">This is the analysis of the first case from the Data Science Challenges using Python, done by:<br><b>Walid Ismail (wismail@eg.ibm.com)</b></font?</center><br><br>"
   ]
  },
  {
   "cell_type": "markdown",
   "metadata": {},
   "source": [
    "# 0. Introduction\n",
    "Write introduction here ..."
   ]
  },
  {
   "cell_type": "markdown",
   "metadata": {},
   "source": [
    "# 1. Get the Watson Studio project token to use it to access the dataset"
   ]
  },
  {
   "cell_type": "code",
   "execution_count": 81,
   "metadata": {},
   "outputs": [],
   "source": [
    "# @hidden_cell\n",
    "# The project token is an authorization token that is used to access project resources like data sources, connections, and used by platform APIs.\n",
    "from project_lib import Project\n",
    "project = Project(project_id='01cb8ab3-b48d-441d-8d33-edc6caae425d', project_access_token='p-d36f9300425b2c63be8cd6c20d68a07ef91ec977')\n",
    "pc = project.project_context"
   ]
  },
  {
   "cell_type": "code",
   "execution_count": 82,
   "metadata": {},
   "outputs": [],
   "source": [
    "# Import main needed libraries\n",
    "import pandas as pd\n",
    "import numpy as np\n",
    "import matplotlib.pyplot as plt\n",
    "%matplotlib inline\n",
    "#import seaborn as sns"
   ]
  },
  {
   "cell_type": "markdown",
   "metadata": {},
   "source": [
    "# 2. Load the data file"
   ]
  },
  {
   "cell_type": "code",
   "execution_count": 83,
   "metadata": {},
   "outputs": [
    {
     "name": "stdout",
     "output_type": "stream",
     "text": [
      "\n",
      "Number of customers: 1000\n"
     ]
    },
    {
     "data": {
      "text/html": [
       "<div>\n",
       "<style scoped>\n",
       "    .dataframe tbody tr th:only-of-type {\n",
       "        vertical-align: middle;\n",
       "    }\n",
       "\n",
       "    .dataframe tbody tr th {\n",
       "        vertical-align: top;\n",
       "    }\n",
       "\n",
       "    .dataframe thead th {\n",
       "        text-align: right;\n",
       "    }\n",
       "</style>\n",
       "<table border=\"1\" class=\"dataframe\">\n",
       "  <thead>\n",
       "    <tr style=\"text-align: right;\">\n",
       "      <th></th>\n",
       "      <th>region</th>\n",
       "      <th>tenure</th>\n",
       "      <th>age</th>\n",
       "      <th>marital</th>\n",
       "      <th>address</th>\n",
       "      <th>income</th>\n",
       "      <th>ed</th>\n",
       "      <th>employ</th>\n",
       "      <th>gender</th>\n",
       "      <th>tollfree</th>\n",
       "      <th>equip</th>\n",
       "      <th>callcard</th>\n",
       "      <th>wireless</th>\n",
       "      <th>multline</th>\n",
       "      <th>voice</th>\n",
       "      <th>pager</th>\n",
       "      <th>internet</th>\n",
       "      <th>callid</th>\n",
       "      <th>confer</th>\n",
       "      <th>ebill</th>\n",
       "      <th>custcat</th>\n",
       "      <th>churn</th>\n",
       "    </tr>\n",
       "  </thead>\n",
       "  <tbody>\n",
       "    <tr>\n",
       "      <th>0</th>\n",
       "      <td>2</td>\n",
       "      <td>13</td>\n",
       "      <td>44</td>\n",
       "      <td>1</td>\n",
       "      <td>9</td>\n",
       "      <td>64</td>\n",
       "      <td>4</td>\n",
       "      <td>5</td>\n",
       "      <td>0</td>\n",
       "      <td>0</td>\n",
       "      <td>0</td>\n",
       "      <td>1</td>\n",
       "      <td>0</td>\n",
       "      <td>0</td>\n",
       "      <td>0</td>\n",
       "      <td>0</td>\n",
       "      <td>0</td>\n",
       "      <td>0</td>\n",
       "      <td>0</td>\n",
       "      <td>0</td>\n",
       "      <td>1</td>\n",
       "      <td>1</td>\n",
       "    </tr>\n",
       "    <tr>\n",
       "      <th>1</th>\n",
       "      <td>3</td>\n",
       "      <td>11</td>\n",
       "      <td>33</td>\n",
       "      <td>1</td>\n",
       "      <td>7</td>\n",
       "      <td>136</td>\n",
       "      <td>5</td>\n",
       "      <td>5</td>\n",
       "      <td>0</td>\n",
       "      <td>1</td>\n",
       "      <td>0</td>\n",
       "      <td>1</td>\n",
       "      <td>1</td>\n",
       "      <td>0</td>\n",
       "      <td>1</td>\n",
       "      <td>1</td>\n",
       "      <td>0</td>\n",
       "      <td>1</td>\n",
       "      <td>1</td>\n",
       "      <td>0</td>\n",
       "      <td>4</td>\n",
       "      <td>1</td>\n",
       "    </tr>\n",
       "    <tr>\n",
       "      <th>2</th>\n",
       "      <td>3</td>\n",
       "      <td>68</td>\n",
       "      <td>52</td>\n",
       "      <td>1</td>\n",
       "      <td>24</td>\n",
       "      <td>116</td>\n",
       "      <td>1</td>\n",
       "      <td>29</td>\n",
       "      <td>1</td>\n",
       "      <td>1</td>\n",
       "      <td>0</td>\n",
       "      <td>1</td>\n",
       "      <td>0</td>\n",
       "      <td>0</td>\n",
       "      <td>0</td>\n",
       "      <td>0</td>\n",
       "      <td>0</td>\n",
       "      <td>1</td>\n",
       "      <td>1</td>\n",
       "      <td>0</td>\n",
       "      <td>3</td>\n",
       "      <td>0</td>\n",
       "    </tr>\n",
       "    <tr>\n",
       "      <th>3</th>\n",
       "      <td>2</td>\n",
       "      <td>33</td>\n",
       "      <td>33</td>\n",
       "      <td>0</td>\n",
       "      <td>12</td>\n",
       "      <td>33</td>\n",
       "      <td>2</td>\n",
       "      <td>0</td>\n",
       "      <td>1</td>\n",
       "      <td>0</td>\n",
       "      <td>0</td>\n",
       "      <td>0</td>\n",
       "      <td>0</td>\n",
       "      <td>0</td>\n",
       "      <td>0</td>\n",
       "      <td>0</td>\n",
       "      <td>0</td>\n",
       "      <td>0</td>\n",
       "      <td>0</td>\n",
       "      <td>0</td>\n",
       "      <td>1</td>\n",
       "      <td>1</td>\n",
       "    </tr>\n",
       "    <tr>\n",
       "      <th>4</th>\n",
       "      <td>2</td>\n",
       "      <td>23</td>\n",
       "      <td>30</td>\n",
       "      <td>1</td>\n",
       "      <td>9</td>\n",
       "      <td>30</td>\n",
       "      <td>1</td>\n",
       "      <td>2</td>\n",
       "      <td>0</td>\n",
       "      <td>0</td>\n",
       "      <td>0</td>\n",
       "      <td>0</td>\n",
       "      <td>0</td>\n",
       "      <td>0</td>\n",
       "      <td>0</td>\n",
       "      <td>0</td>\n",
       "      <td>0</td>\n",
       "      <td>1</td>\n",
       "      <td>1</td>\n",
       "      <td>0</td>\n",
       "      <td>3</td>\n",
       "      <td>0</td>\n",
       "    </tr>\n",
       "  </tbody>\n",
       "</table>\n",
       "</div>"
      ],
      "text/plain": [
       "   region  tenure  age  marital  address  income  ed  employ  gender  tollfree  equip  callcard  wireless  multline  voice  pager  internet  callid  confer  ebill  custcat  churn\n",
       "0       2      13   44        1        9      64   4       5       0         0      0         1         0         0      0      0         0       0       0      0        1      1\n",
       "1       3      11   33        1        7     136   5       5       0         1      0         1         1         0      1      1         0       1       1      0        4      1\n",
       "2       3      68   52        1       24     116   1      29       1         1      0         1         0         0      0      0         0       1       1      0        3      0\n",
       "3       2      33   33        0       12      33   2       0       1         0      0         0         0         0      0      0         0       0       0      0        1      1\n",
       "4       2      23   30        1        9      30   1       2       0         0      0         0         0         0      0      0         0       1       1      0        3      0"
      ]
     },
     "execution_count": 83,
     "metadata": {},
     "output_type": "execute_result"
    }
   ],
   "source": [
    "pd.set_option('display.width', 3000)\n",
    "pd.set_option('display.max.columns', 500) # display up to 500 colums without \"...\" use horizontal scrolling instead\n",
    "pd.set_option('display.max.rows', 50)\n",
    "\n",
    "# Fetch the Customer file\n",
    "my_file = project.get_file(\"telco.csv\")\n",
    "\n",
    "# Read the EXCEl data file from the object storage into a pandas DataFrame\n",
    "my_file.seek(0)\n",
    "ww_df = pd.read_csv(my_file)\n",
    "print(\"\\nNumber of customers: {}\".format(len(ww_df)))\n",
    "ww_df.head()"
   ]
  },
  {
   "cell_type": "markdown",
   "metadata": {},
   "source": [
    "# 3. Exploratory Data Analysis\n",
    "Lets now look at some exploratory information about our dataset and the variables in it to get a flovor of its different aspects. We will look at:<br>\n",
    "- Number of observations<br>\n",
    "- Number of columns<br>\n",
    "- Types of columns<br>\n",
    "- Does our dataset has empty cells or not?<br>\n",
    "- Is our dataset balanced or skewed?\n",
    "- Correlations between variables<br>\n",
    "- Descriptive statistics for each variable"
   ]
  },
  {
   "cell_type": "code",
   "execution_count": 84,
   "metadata": {},
   "outputs": [
    {
     "data": {
      "text/plain": [
       "(1000, 22)"
      ]
     },
     "execution_count": 84,
     "metadata": {},
     "output_type": "execute_result"
    }
   ],
   "source": [
    "ww_df.shape # dimensions of data set"
   ]
  },
  {
   "cell_type": "code",
   "execution_count": 85,
   "metadata": {},
   "outputs": [
    {
     "data": {
      "text/plain": [
       "region      0\n",
       "tenure      0\n",
       "age         0\n",
       "marital     0\n",
       "address     0\n",
       "income      0\n",
       "ed          0\n",
       "employ      0\n",
       "gender      0\n",
       "tollfree    0\n",
       "equip       0\n",
       "callcard    0\n",
       "wireless    0\n",
       "multline    0\n",
       "voice       0\n",
       "pager       0\n",
       "internet    0\n",
       "callid      0\n",
       "confer      0\n",
       "ebill       0\n",
       "custcat     0\n",
       "churn       0\n",
       "dtype: int64"
      ]
     },
     "execution_count": 85,
     "metadata": {},
     "output_type": "execute_result"
    }
   ],
   "source": [
    "ww_df.isnull().sum() # check if any cells have missing values"
   ]
  },
  {
   "cell_type": "code",
   "execution_count": 86,
   "metadata": {},
   "outputs": [
    {
     "name": "stdout",
     "output_type": "stream",
     "text": [
      "<class 'pandas.core.frame.DataFrame'>\n",
      "RangeIndex: 1000 entries, 0 to 999\n",
      "Data columns (total 22 columns):\n",
      "region      1000 non-null int64\n",
      "tenure      1000 non-null int64\n",
      "age         1000 non-null int64\n",
      "marital     1000 non-null int64\n",
      "address     1000 non-null int64\n",
      "income      1000 non-null int64\n",
      "ed          1000 non-null int64\n",
      "employ      1000 non-null int64\n",
      "gender      1000 non-null int64\n",
      "tollfree    1000 non-null int64\n",
      "equip       1000 non-null int64\n",
      "callcard    1000 non-null int64\n",
      "wireless    1000 non-null int64\n",
      "multline    1000 non-null int64\n",
      "voice       1000 non-null int64\n",
      "pager       1000 non-null int64\n",
      "internet    1000 non-null int64\n",
      "callid      1000 non-null int64\n",
      "confer      1000 non-null int64\n",
      "ebill       1000 non-null int64\n",
      "custcat     1000 non-null int64\n",
      "churn       1000 non-null int64\n",
      "dtypes: int64(22)\n",
      "memory usage: 172.0 KB\n"
     ]
    }
   ],
   "source": [
    "ww_df.info() # check data type of each field"
   ]
  },
  {
   "cell_type": "code",
   "execution_count": 87,
   "metadata": {},
   "outputs": [
    {
     "data": {
      "text/plain": [
       "0    726\n",
       "1    274\n",
       "Name: churn, dtype: int64"
      ]
     },
     "execution_count": 87,
     "metadata": {},
     "output_type": "execute_result"
    }
   ],
   "source": [
    "ww_df.churn.value_counts() # is our dataset balanced? or is it skewed with more observations for a certain outcome?"
   ]
  },
  {
   "cell_type": "code",
   "execution_count": 88,
   "metadata": {},
   "outputs": [
    {
     "data": {
      "text/plain": [
       "<matplotlib.figure.Figure at 0x7faecccdf588>"
      ]
     },
     "execution_count": 88,
     "metadata": {},
     "output_type": "execute_result"
    },
    {
     "data": {
      "text/plain": [
       "<matplotlib.figure.Figure at 0x7faecccdf588>"
      ]
     },
     "metadata": {},
     "output_type": "display_data"
    }
   ],
   "source": [
    "# view correlations between variables as a heat map, useful mainly for numeric variables (not binary variables)\n",
    "plt.figure(figsize=(20, 20))\n",
    "#sns.heatmap(ww_df.corr(), cmap=\"Blues\", annot=True, fmt=\".2f\") "
   ]
  },
  {
   "cell_type": "code",
   "execution_count": 89,
   "metadata": {},
   "outputs": [
    {
     "data": {
      "text/html": [
       "<div>\n",
       "<style scoped>\n",
       "    .dataframe tbody tr th:only-of-type {\n",
       "        vertical-align: middle;\n",
       "    }\n",
       "\n",
       "    .dataframe tbody tr th {\n",
       "        vertical-align: top;\n",
       "    }\n",
       "\n",
       "    .dataframe thead th {\n",
       "        text-align: right;\n",
       "    }\n",
       "</style>\n",
       "<table border=\"1\" class=\"dataframe\">\n",
       "  <thead>\n",
       "    <tr style=\"text-align: right;\">\n",
       "      <th></th>\n",
       "      <th>region</th>\n",
       "      <th>tenure</th>\n",
       "      <th>age</th>\n",
       "      <th>marital</th>\n",
       "      <th>address</th>\n",
       "      <th>income</th>\n",
       "      <th>ed</th>\n",
       "      <th>employ</th>\n",
       "      <th>gender</th>\n",
       "      <th>tollfree</th>\n",
       "      <th>equip</th>\n",
       "      <th>callcard</th>\n",
       "      <th>wireless</th>\n",
       "      <th>multline</th>\n",
       "      <th>voice</th>\n",
       "      <th>pager</th>\n",
       "      <th>internet</th>\n",
       "      <th>callid</th>\n",
       "      <th>confer</th>\n",
       "      <th>ebill</th>\n",
       "      <th>custcat</th>\n",
       "      <th>churn</th>\n",
       "    </tr>\n",
       "  </thead>\n",
       "  <tbody>\n",
       "    <tr>\n",
       "      <th>count</th>\n",
       "      <td>1000.0000</td>\n",
       "      <td>1000.000000</td>\n",
       "      <td>1000.000000</td>\n",
       "      <td>1000.000000</td>\n",
       "      <td>1000.000000</td>\n",
       "      <td>1000.000000</td>\n",
       "      <td>1000.000000</td>\n",
       "      <td>1000.000000</td>\n",
       "      <td>1000.000000</td>\n",
       "      <td>1000.000000</td>\n",
       "      <td>1000.000000</td>\n",
       "      <td>1000.000000</td>\n",
       "      <td>1000.000000</td>\n",
       "      <td>1000.000000</td>\n",
       "      <td>1000.000000</td>\n",
       "      <td>1000.0000</td>\n",
       "      <td>1000.000000</td>\n",
       "      <td>1000.000000</td>\n",
       "      <td>1000.000000</td>\n",
       "      <td>1000.000000</td>\n",
       "      <td>1000.000000</td>\n",
       "      <td>1000.000000</td>\n",
       "    </tr>\n",
       "    <tr>\n",
       "      <th>mean</th>\n",
       "      <td>2.0220</td>\n",
       "      <td>35.526000</td>\n",
       "      <td>41.684000</td>\n",
       "      <td>0.495000</td>\n",
       "      <td>11.551000</td>\n",
       "      <td>77.535000</td>\n",
       "      <td>2.671000</td>\n",
       "      <td>10.987000</td>\n",
       "      <td>0.517000</td>\n",
       "      <td>0.474000</td>\n",
       "      <td>0.386000</td>\n",
       "      <td>0.678000</td>\n",
       "      <td>0.296000</td>\n",
       "      <td>0.475000</td>\n",
       "      <td>0.304000</td>\n",
       "      <td>0.2610</td>\n",
       "      <td>0.368000</td>\n",
       "      <td>0.481000</td>\n",
       "      <td>0.502000</td>\n",
       "      <td>0.371000</td>\n",
       "      <td>2.487000</td>\n",
       "      <td>0.274000</td>\n",
       "    </tr>\n",
       "    <tr>\n",
       "      <th>std</th>\n",
       "      <td>0.8162</td>\n",
       "      <td>21.359812</td>\n",
       "      <td>12.558816</td>\n",
       "      <td>0.500225</td>\n",
       "      <td>10.086681</td>\n",
       "      <td>107.044165</td>\n",
       "      <td>1.222397</td>\n",
       "      <td>10.082087</td>\n",
       "      <td>0.499961</td>\n",
       "      <td>0.499573</td>\n",
       "      <td>0.487074</td>\n",
       "      <td>0.467477</td>\n",
       "      <td>0.456719</td>\n",
       "      <td>0.499624</td>\n",
       "      <td>0.460213</td>\n",
       "      <td>0.4394</td>\n",
       "      <td>0.482503</td>\n",
       "      <td>0.499889</td>\n",
       "      <td>0.500246</td>\n",
       "      <td>0.483314</td>\n",
       "      <td>1.120306</td>\n",
       "      <td>0.446232</td>\n",
       "    </tr>\n",
       "    <tr>\n",
       "      <th>min</th>\n",
       "      <td>1.0000</td>\n",
       "      <td>1.000000</td>\n",
       "      <td>18.000000</td>\n",
       "      <td>0.000000</td>\n",
       "      <td>0.000000</td>\n",
       "      <td>9.000000</td>\n",
       "      <td>1.000000</td>\n",
       "      <td>0.000000</td>\n",
       "      <td>0.000000</td>\n",
       "      <td>0.000000</td>\n",
       "      <td>0.000000</td>\n",
       "      <td>0.000000</td>\n",
       "      <td>0.000000</td>\n",
       "      <td>0.000000</td>\n",
       "      <td>0.000000</td>\n",
       "      <td>0.0000</td>\n",
       "      <td>0.000000</td>\n",
       "      <td>0.000000</td>\n",
       "      <td>0.000000</td>\n",
       "      <td>0.000000</td>\n",
       "      <td>1.000000</td>\n",
       "      <td>0.000000</td>\n",
       "    </tr>\n",
       "    <tr>\n",
       "      <th>25%</th>\n",
       "      <td>1.0000</td>\n",
       "      <td>17.000000</td>\n",
       "      <td>32.000000</td>\n",
       "      <td>0.000000</td>\n",
       "      <td>3.000000</td>\n",
       "      <td>29.000000</td>\n",
       "      <td>2.000000</td>\n",
       "      <td>3.000000</td>\n",
       "      <td>0.000000</td>\n",
       "      <td>0.000000</td>\n",
       "      <td>0.000000</td>\n",
       "      <td>0.000000</td>\n",
       "      <td>0.000000</td>\n",
       "      <td>0.000000</td>\n",
       "      <td>0.000000</td>\n",
       "      <td>0.0000</td>\n",
       "      <td>0.000000</td>\n",
       "      <td>0.000000</td>\n",
       "      <td>0.000000</td>\n",
       "      <td>0.000000</td>\n",
       "      <td>1.000000</td>\n",
       "      <td>0.000000</td>\n",
       "    </tr>\n",
       "    <tr>\n",
       "      <th>50%</th>\n",
       "      <td>2.0000</td>\n",
       "      <td>34.000000</td>\n",
       "      <td>40.000000</td>\n",
       "      <td>0.000000</td>\n",
       "      <td>9.000000</td>\n",
       "      <td>47.000000</td>\n",
       "      <td>3.000000</td>\n",
       "      <td>8.000000</td>\n",
       "      <td>1.000000</td>\n",
       "      <td>0.000000</td>\n",
       "      <td>0.000000</td>\n",
       "      <td>1.000000</td>\n",
       "      <td>0.000000</td>\n",
       "      <td>0.000000</td>\n",
       "      <td>0.000000</td>\n",
       "      <td>0.0000</td>\n",
       "      <td>0.000000</td>\n",
       "      <td>0.000000</td>\n",
       "      <td>1.000000</td>\n",
       "      <td>0.000000</td>\n",
       "      <td>3.000000</td>\n",
       "      <td>0.000000</td>\n",
       "    </tr>\n",
       "    <tr>\n",
       "      <th>75%</th>\n",
       "      <td>3.0000</td>\n",
       "      <td>54.000000</td>\n",
       "      <td>51.000000</td>\n",
       "      <td>1.000000</td>\n",
       "      <td>18.000000</td>\n",
       "      <td>83.000000</td>\n",
       "      <td>4.000000</td>\n",
       "      <td>17.000000</td>\n",
       "      <td>1.000000</td>\n",
       "      <td>1.000000</td>\n",
       "      <td>1.000000</td>\n",
       "      <td>1.000000</td>\n",
       "      <td>1.000000</td>\n",
       "      <td>1.000000</td>\n",
       "      <td>1.000000</td>\n",
       "      <td>1.0000</td>\n",
       "      <td>1.000000</td>\n",
       "      <td>1.000000</td>\n",
       "      <td>1.000000</td>\n",
       "      <td>1.000000</td>\n",
       "      <td>3.000000</td>\n",
       "      <td>1.000000</td>\n",
       "    </tr>\n",
       "    <tr>\n",
       "      <th>max</th>\n",
       "      <td>3.0000</td>\n",
       "      <td>72.000000</td>\n",
       "      <td>77.000000</td>\n",
       "      <td>1.000000</td>\n",
       "      <td>55.000000</td>\n",
       "      <td>1668.000000</td>\n",
       "      <td>5.000000</td>\n",
       "      <td>47.000000</td>\n",
       "      <td>1.000000</td>\n",
       "      <td>1.000000</td>\n",
       "      <td>1.000000</td>\n",
       "      <td>1.000000</td>\n",
       "      <td>1.000000</td>\n",
       "      <td>1.000000</td>\n",
       "      <td>1.000000</td>\n",
       "      <td>1.0000</td>\n",
       "      <td>1.000000</td>\n",
       "      <td>1.000000</td>\n",
       "      <td>1.000000</td>\n",
       "      <td>1.000000</td>\n",
       "      <td>4.000000</td>\n",
       "      <td>1.000000</td>\n",
       "    </tr>\n",
       "  </tbody>\n",
       "</table>\n",
       "</div>"
      ],
      "text/plain": [
       "          region       tenure          age      marital      address       income           ed       employ       gender     tollfree        equip     callcard     wireless     multline        voice      pager     internet       callid       confer        ebill      custcat        churn\n",
       "count  1000.0000  1000.000000  1000.000000  1000.000000  1000.000000  1000.000000  1000.000000  1000.000000  1000.000000  1000.000000  1000.000000  1000.000000  1000.000000  1000.000000  1000.000000  1000.0000  1000.000000  1000.000000  1000.000000  1000.000000  1000.000000  1000.000000\n",
       "mean      2.0220    35.526000    41.684000     0.495000    11.551000    77.535000     2.671000    10.987000     0.517000     0.474000     0.386000     0.678000     0.296000     0.475000     0.304000     0.2610     0.368000     0.481000     0.502000     0.371000     2.487000     0.274000\n",
       "std       0.8162    21.359812    12.558816     0.500225    10.086681   107.044165     1.222397    10.082087     0.499961     0.499573     0.487074     0.467477     0.456719     0.499624     0.460213     0.4394     0.482503     0.499889     0.500246     0.483314     1.120306     0.446232\n",
       "min       1.0000     1.000000    18.000000     0.000000     0.000000     9.000000     1.000000     0.000000     0.000000     0.000000     0.000000     0.000000     0.000000     0.000000     0.000000     0.0000     0.000000     0.000000     0.000000     0.000000     1.000000     0.000000\n",
       "25%       1.0000    17.000000    32.000000     0.000000     3.000000    29.000000     2.000000     3.000000     0.000000     0.000000     0.000000     0.000000     0.000000     0.000000     0.000000     0.0000     0.000000     0.000000     0.000000     0.000000     1.000000     0.000000\n",
       "50%       2.0000    34.000000    40.000000     0.000000     9.000000    47.000000     3.000000     8.000000     1.000000     0.000000     0.000000     1.000000     0.000000     0.000000     0.000000     0.0000     0.000000     0.000000     1.000000     0.000000     3.000000     0.000000\n",
       "75%       3.0000    54.000000    51.000000     1.000000    18.000000    83.000000     4.000000    17.000000     1.000000     1.000000     1.000000     1.000000     1.000000     1.000000     1.000000     1.0000     1.000000     1.000000     1.000000     1.000000     3.000000     1.000000\n",
       "max       3.0000    72.000000    77.000000     1.000000    55.000000  1668.000000     5.000000    47.000000     1.000000     1.000000     1.000000     1.000000     1.000000     1.000000     1.000000     1.0000     1.000000     1.000000     1.000000     1.000000     4.000000     1.000000"
      ]
     },
     "execution_count": 89,
     "metadata": {},
     "output_type": "execute_result"
    }
   ],
   "source": [
    "ww_df.describe() # view statisical measures of variables"
   ]
  },
  {
   "cell_type": "markdown",
   "metadata": {},
   "source": [
    "# 4. Feature Engineering / Data Preparation\n",
    "From our data inspection we can observe the following about the variables / features / target:\n",
    "<ul>\n",
    "    <li>We have 22 attribuites in our dataset (21 possible features and one target)</li>\n",
    "    <li>All attributes are in numeric format.</li>\n",
    "    <li>We have <b>four</b> numeric variables that are continious in nature <b>(age, income, employ, tenure)</b>. These variables will require scaling before they are used in modeling</li>\n",
    "    <li><b>Three</b> numeric variables <b>region, address, ed</b> that are numeric encoding of categorical variables so they only need scaling.</li>\n",
    "    <li><b>Fourteen</b> variables <b>(marital, gender, tollfree, equip, callcard, wireless, multline, voice, pager, internet, callid, confer, ebill, custcat)</b> that are categroical in nature and are already encoded as <b>0,1</b> so there is no need for any further conversions or preprocessing on these variables</li>\n",
    "    <li>Our target variable <b>churn</b> is also encoded as <b>0,1</b> so it is already prepared for modeling</li>\n",
    "    <li>As seen above our dataset is skewed with much more observations for churn=0 than churn=1 (726 observations to only 274). This means that our model will probably be more accurate at predicting churn=0 correctly than churn=1. Ideally we should have a dataset that is balanced with nearly equal numbers of observations for the two values of our target label.</li>\n",
    "</ul>"
   ]
  },
  {
   "cell_type": "markdown",
   "metadata": {},
   "source": [
    "# 5. Feature Selection\n",
    "We are going to use several methods to try and discover the features that will be strong predictors for customer churn. Specifically we will try the following techniques:\n",
    "\n",
    "- Cross Tabulations: this should help us identify which features qualify as a predictors for customer churn. It mainly helps with nominal features but can provide insight for continious features as well if we divide the continious feature into bins\n",
    "- Correlations: this will help identify features pairs that are strongly correlated with each other (not with churn) so that we can remove one feature of them\n",
    "- SelectKBest method: this is a scikit learn object that ranks a list of features according to their predictice impact by assigning a score to each feature"
   ]
  },
  {
   "cell_type": "markdown",
   "metadata": {},
   "source": [
    "## 5.1 Cross Tabulation for nominal features\n",
    "First let us check the 13 nominal features that we have in the dataset against customer churn. The nominal features are as follows:\n",
    "    <b>marital, gender, tollfree, equip, callcard, wireless, multline, voice, pager, internet, callid, confer, ebill</b>"
   ]
  },
  {
   "cell_type": "code",
   "execution_count": 106,
   "metadata": {},
   "outputs": [
    {
     "data": {
      "image/png": "[encoded data removed]",
      "text/plain": [
       "<matplotlib.figure.Figure at 0x7faecd88d9e8>"
      ]
     },
     "metadata": {},
     "output_type": "display_data"
    }
   ],
   "source": [
    "nominal_features = ['marital', 'gender', 'tollfree', 'equip', 'callcard', 'wireless', 'multline', 'voice', 'pager', 'internet', 'callid', 'confer', 'ebill']\n",
    "target_feature = 'churn'\n",
    "\n",
    "fig, axs = plt.subplots(4, 4, sharex=False, sharey=True, figsize=(30,25))\n",
    "\n",
    "for i, feat in enumerate(nominal_features):\n",
    "    #bins = pd.cut(ww_df['age'], bins=5)\n",
    "    tab = pd.crosstab(ww_df[feat], ww_df[target_feature], margins=True)\n",
    "    tab = tab.drop('All',axis=1)\n",
    "    tab = tab.drop('All',axis=0)\n",
    "    ax = tab.plot(kind='bar', stacked = True, ax = axs[int(i/4), int(i%4)])\n",
    "     \n",
    "for i in range(13, 16):\n",
    "    fig.delaxes(axs[int(i/4), int(i%4)])\n",
    "   \n",
    "plt.show()"
   ]
  },
  {
   "cell_type": "markdown",
   "metadata": {},
   "source": [
    "The cross tabulation above provides the following information about the relationship between each of the nominal features and churn as follows:\n",
    "<ul>\n",
    "    <li>Features <b>marital, gender, tollfree, multline, callid, confer</b> have the same distribution whether they are 0 or 1 on customer churn so we can conclude that they will be <b>weak</b> predictors for customer churn</li>\n",
    "    <li>Features <b>equip, callcard, wireless, voice, pager, 'internet', ebill</b> have different distribution when they are 0 vs 1 on customer churn so we can conclude that they could be <b>strong</b> predictors for customer churn</li>        \n",
    "</ul>"
   ]
  },
  {
   "cell_type": "markdown",
   "metadata": {},
   "source": [
    "## 5.2 Cross Tabulation for numeric features\n",
    "Next we check the 8 numeric features that we have in the dataset against customer churn. The numeric features are as follows:\n",
    "    <b>region, tenure, age, address, income, ed, employ, custcat</b>"
   ]
  },
  {
   "cell_type": "code",
   "execution_count": null,
   "metadata": {},
   "outputs": [],
   "source": []
  },
  {
   "cell_type": "code",
   "execution_count": null,
   "metadata": {},
   "outputs": [],
   "source": []
  },
  {
   "cell_type": "code",
   "execution_count": null,
   "metadata": {},
   "outputs": [],
   "source": []
  },
  {
   "cell_type": "markdown",
   "metadata": {},
   "source": [
    "## 5.2 Correlations"
   ]
  },
  {
   "cell_type": "code",
   "execution_count": null,
   "metadata": {},
   "outputs": [],
   "source": [
    "#check for correlations between numeric features. Rule, if two features that are highly correlated one should be dropped\n",
    "numeric_features = ['region', 'tenure', 'age', 'address', 'income', 'ed', 'employ', 'custcat']\n",
    "#ww_df[numeric_features].corr()\n",
    "plt.figure(figsize=(10, 10))\n",
    "sns.heatmap(ww_df[numeric_features].corr(), cmap=\"Blues\", annot=True, fmt=\".2f\") "
   ]
  },
  {
   "cell_type": "markdown",
   "metadata": {},
   "source": [
    "## 5.3 SelectKBest Method"
   ]
  },
  {
   "cell_type": "code",
   "execution_count": null,
   "metadata": {},
   "outputs": [],
   "source": [
    "# Feature Extraction with Univariate Statistical Tests (Chi-squared for classification)\n",
    "pd.set_option('display.expand_frame_repr', False)\n",
    "from sklearn.feature_selection import SelectKBest\n",
    "from sklearn.feature_selection import chi2\n",
    "# load data\n",
    "\n",
    "features = ['region', 'tenure', 'age', 'marital', 'address', 'income', 'ed', 'employ', 'gender', \n",
    "            'tollfree', 'equip', 'callcard', 'wireless', 'multline', 'voice', 'pager', 'internet', 'callid', 'confer', 'ebill', 'custcat']\n",
    "\n",
    "target = 'churn'\n",
    "\n",
    "X = ww_df[features]\n",
    "Y = ww_df[target]\n",
    "# feature extraction\n",
    "test = SelectKBest(score_func=chi2, k=5)\n",
    "fit = test.fit(X, Y)\n",
    "# summarize scores\n",
    "np.set_printoptions(precision=3, suppress=True)\n",
    "print(fit.scores_)\n",
    "features = fit.transform(X)\n",
    "\n",
    "# get the array of observations for top 5 features, NICE!!\n",
    "print(features)"
   ]
  },
  {
   "cell_type": "markdown",
   "metadata": {},
   "source": [
    "# 6. Modeling"
   ]
  },
  {
   "cell_type": "markdown",
   "metadata": {},
   "source": [
    "## 6.1 Feature Scaling"
   ]
  },
  {
   "cell_type": "code",
   "execution_count": null,
   "metadata": {},
   "outputs": [],
   "source": [
    "from sklearn.model_selection import train_test_split\n",
    "from sklearn import metrics\n",
    "from sklearn.model_selection import cross_val_score\n",
    "from sklearn.preprocessing import MinMaxScaler\n",
    "\n",
    "#features = ['region', 'tenure', 'age', 'marital', 'address', 'income', 'ed', 'employ', 'gender', \n",
    "#            'tollfree', 'equip', 'callcard', 'wireless', 'multline', 'voice', 'pager', 'internet', 'callid', 'confer', 'ebill', 'custcat']\n",
    "features = ['tenure', 'income', 'employ', 'equip', 'ed']\n",
    "target = 'churn'\n",
    "\n",
    "# ALWAYS SPLIT FIRST BEFORE SCALING TO AVOID PREDICTOR LEAKAGE !!!!!\n",
    "X = ww_df[features]\n",
    "y = ww_df[target]\n",
    "\n",
    "#Train Test Split, reserve test subset for finally accuracy and other metrics calculations\n",
    "X_train, X_test, y_train, y_test = train_test_split(X, y, test_size=0.3, random_state=1)\n",
    "\n",
    "scaler = MinMaxScaler(feature_range = (0, 1))\n",
    "scaler.fit(X_train) # fit the scaler on training data then apply to training and test data\n",
    "X_train = scaler.transform(X_train)\n",
    "X_test =  scaler.transform(X_test)\n",
    "print('Done')"
   ]
  },
  {
   "cell_type": "markdown",
   "metadata": {},
   "source": [
    "## 6.2 Modeling (using different models)"
   ]
  },
  {
   "cell_type": "code",
   "execution_count": null,
   "metadata": {},
   "outputs": [],
   "source": [
    "from sklearn.linear_model import LogisticRegression\n",
    "from sklearn import svm\n",
    "from sklearn.ensemble import RandomForestClassifier\n",
    "\n",
    "# using specific random state to make sure we always get same accuracy result if we execute this cell multiple times or on multiple machines\n",
    "\n",
    "logreg = LogisticRegression(random_state=1)\n",
    "# 10-fold cross-validation, calculating average training accuracy\n",
    "scores = cross_val_score(logreg, X_train, y_train, cv=5, scoring='accuracy')\n",
    "print(\"Logistic regression accuracy is:\", scores.mean())\n",
    "\n",
    "svc = svm.SVC(random_state=1)\n",
    "# 10-fold cross-validation, calculating average training accuracy\n",
    "scores = cross_val_score(svc, X_train, y_train, cv=5, scoring='accuracy')\n",
    "print(\"SVM accuracy is: \", scores.mean())\n",
    "\n",
    "rc = RandomForestClassifier(random_state=1)\n",
    "# 10-fold cross-validation, calculating average training accuracy\n",
    "scores = cross_val_score(rc, X_train, y_train, cv=5, scoring='accuracy')\n",
    "print(\"Random forest accuracy is: \", scores.mean())"
   ]
  },
  {
   "cell_type": "markdown",
   "metadata": {},
   "source": [
    "## 6.3 Fine tuning the selected model hyperparameters"
   ]
  },
  {
   "cell_type": "code",
   "execution_count": null,
   "metadata": {},
   "outputs": [],
   "source": [
    "from sklearn.model_selection import GridSearchCV\n",
    "#from sklearn.model_selection import RandomizedSearchCV\n",
    "import numpy as np\n",
    "\n",
    "C_options = [0.001, 0.01, 0.1, 1, 10, 100, 1000]\n",
    "solver_options = ['newton-cg', 'lbfgs', 'liblinear', 'sag']\n",
    "class_weight_options = [None, 'balanced']\n",
    "param_grid = dict(C = C_options, solver = solver_options, class_weight = class_weight_options)\n",
    "\n",
    "clf = GridSearchCV(LogisticRegression(), param_grid)\n",
    "\n",
    "#n_estimators = [int(x) for x in np.linspace(start = 200, stop = 2000, num = 10)] # Number of trees in random forest\n",
    "#max_features = ['auto', 'sqrt'] # Number of features to consider at every split\n",
    "#max_depth = [int(x) for x in np.linspace(10, 110, num = 11)] # Maximum number of levels in tree\n",
    "#max_depth.append(None)\n",
    "#min_samples_split = [2, 5, 10] # Minimum number of samples required to split a node\n",
    "#min_samples_leaf = [1, 2, 4] # Minimum number of samples required at each leaf node\n",
    "#bootstrap = [True, False] # Method of selecting samples for training each tree\n",
    "\n",
    "# Create the random grid\n",
    "#param_grid = {'n_estimators': n_estimators,\n",
    "#               'max_features': max_features,\n",
    "#               'max_depth': max_depth,\n",
    "#               'min_samples_split': min_samples_split,\n",
    "#               'min_samples_leaf': min_samples_leaf,\n",
    "#               'bootstrap': bootstrap}\n",
    "\n",
    "#clf = RandomizedSearchCV(RandomForestClassifier(random_state = 1), param_grid, random_state=1)\n",
    "clf.fit(X_train, y_train)\n",
    "best_model = clf.best_estimator_\n",
    "best_model"
   ]
  },
  {
   "cell_type": "markdown",
   "metadata": {},
   "source": [
    "# 7. Model Evaluation"
   ]
  },
  {
   "cell_type": "markdown",
   "metadata": {},
   "source": [
    "## 7.1 Testing accuracy"
   ]
  },
  {
   "cell_type": "code",
   "execution_count": null,
   "metadata": {},
   "outputs": [],
   "source": [
    "y_pred = best_model.predict(X_test)\n",
    "\n",
    "from sklearn.metrics import classification_report\n",
    "\n",
    "print('\\nAccuracy of tuned model on test set: {}\\n'.format(best_model.score(X_test, y_test)))\n",
    "\n",
    "print(classification_report(y_test, y_pred))"
   ]
  },
  {
   "cell_type": "markdown",
   "metadata": {},
   "source": [
    "## 7.2 Displaying the modeling predictors sorted by coefficent"
   ]
  },
  {
   "cell_type": "code",
   "execution_count": null,
   "metadata": {},
   "outputs": [],
   "source": [
    "import pandas as pd\n",
    "\n",
    "# model is the trained model\n",
    "importances = best_model.coef_[0]\n",
    "print(importances)\n",
    "\n",
    "# Extract the feature importances into a dataframe\n",
    "feature_results = pd.DataFrame({'feature': features, \n",
    "                                'importance': importances})\n",
    "\n",
    "# Show the top 10 most important\n",
    "feature_results = feature_results.sort_values('importance', ascending = False).reset_index(drop=True)\n",
    "\n",
    "feature_results.head(10)\n"
   ]
  },
  {
   "cell_type": "code",
   "execution_count": null,
   "metadata": {},
   "outputs": [],
   "source": [
    "plt.figure(figsize=(12, 6))\n",
    "plt.style.use('fivethirtyeight')\n",
    "\n",
    "# Plot the most important features in a horizontal bar chart\n",
    "feature_results.plot(x = 'feature', y = 'importance', \n",
    "                                 edgecolor = 'k',\n",
    "                                 kind='barh', color = 'blue')\n",
    "plt.xlabel('Relative Importance', size = 15)\n",
    "plt.ylabel('')\n",
    "plt.title('Feature Importances', size = 15)\n",
    "plt.show()\n"
   ]
  },
  {
   "cell_type": "markdown",
   "metadata": {},
   "source": [
    "## 7.3 Confsuion Matrix"
   ]
  },
  {
   "cell_type": "code",
   "execution_count": null,
   "metadata": {},
   "outputs": [],
   "source": [
    "from sklearn.metrics import classification_report, confusion_matrix\n",
    "import itertools\n",
    "def plot_confusion_matrix(cm, classes,\n",
    "                          normalize=False,\n",
    "                          title='Confusion matrix',\n",
    "                          cmap=plt.cm.Blues):\n",
    "    \"\"\"\n",
    "    This function prints and plots the confusion matrix.\n",
    "    Normalization can be applied by setting `normalize=True`.\n",
    "    \"\"\"\n",
    "    if normalize:\n",
    "        cm = cm.astype('float') / cm.sum(axis=1)[:, np.newaxis]\n",
    "        print(\"Normalized confusion matrix\")\n",
    "    else:\n",
    "        print('Confusion matrix, without normalization')\n",
    "\n",
    "    print(cm)\n",
    "\n",
    "    plt.imshow(cm, interpolation='nearest', cmap=cmap)\n",
    "    plt.title(title)\n",
    "    plt.colorbar()\n",
    "    tick_marks = np.arange(len(classes))\n",
    "    plt.xticks(tick_marks, classes, rotation=45)\n",
    "    plt.yticks(tick_marks, classes)\n",
    "    plt.grid(False)\n",
    "\n",
    "\n",
    "    fmt = '.2f' if normalize else 'd'\n",
    "    thresh = cm.max() / 2.\n",
    "    for i, j in itertools.product(range(cm.shape[0]), range(cm.shape[1])):\n",
    "        plt.text(j, i, format(cm[i, j], fmt),\n",
    "                 horizontalalignment=\"center\",\n",
    "                 color=\"white\" if cm[i, j] > thresh else \"black\")\n",
    "\n",
    "    plt.tight_layout()\n",
    "    plt.ylabel('True label')\n",
    "    plt.xlabel('Predicted label')"
   ]
  },
  {
   "cell_type": "code",
   "execution_count": null,
   "metadata": {},
   "outputs": [],
   "source": [
    "# Compute confusion matrix\n",
    "cnf_matrix = confusion_matrix(y_test, y_pred, labels=[1,0])\n",
    "np.set_printoptions(precision=2)\n",
    "\n",
    "\n",
    "# Plot non-normalized confusion matrix\n",
    "plt.figure()\n",
    "plot_confusion_matrix(cnf_matrix, classes=['churn=1','churn=0'],  title='Confusion matrix')\n"
   ]
  },
  {
   "cell_type": "markdown",
   "metadata": {},
   "source": [
    "# 8. Conclusions"
   ]
  },
  {
   "cell_type": "markdown",
   "metadata": {},
   "source": [
    "Summarize everything here..."
   ]
  },
  {
   "cell_type": "code",
   "execution_count": null,
   "metadata": {},
   "outputs": [],
   "source": []
  }
 ],
 "metadata": {
  "kernelspec": {
   "display_name": "Python 3.5",
   "language": "python",
   "name": "python3"
  },
  "language_info": {
   "codemirror_mode": {
    "name": "ipython",
    "version": 3
   },
   "file_extension": ".py",
   "mimetype": "text/x-python",
   "name": "python",
   "nbconvert_exporter": "python",
   "pygments_lexer": "ipython3",
   "version": "3.5.5"
  }
 },
 "nbformat": 4,
 "nbformat_minor": 1
}
