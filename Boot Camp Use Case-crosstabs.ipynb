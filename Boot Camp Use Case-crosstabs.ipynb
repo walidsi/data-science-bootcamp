{
    "cells": [
        {
            "cell_type": "code",
            "execution_count": 1,
            "metadata": {},
            "outputs": [],
            "source": [
                "# @hidden_cell\n",
                "\n",
                "Watson_Studio_Env = False\n",
                "\n",
                "if(Watson_Studio_Env == True):\n",
                "    # The project token is an authorization token that is used to access project resources like data sources, connections, and used by platform APIs.\n",
                "    from project_lib import Project\n",
                "    project = Project(project_id='01cb8ab3-b48d-441d-8d33-edc6caae425d', project_access_token='p-d36f9300425b2c63be8cd6c20d68a07ef91ec977')\n",
                "    pc = project.project_context\n"
            ]
        },
        {
            "cell_type": "code",
            "execution_count": 2,
            "metadata": {},
            "outputs": [],
            "source": [
                "import pandas as pd\n",
                "import numpy as np\n",
                "import matplotlib.pyplot as plt\n",
                "from sklearn import svm\n",
                "from sklearn.model_selection import train_test_split\n",
                "from sklearn import preprocessing\n",
                "from sklearn.metrics import confusion_matrix\n",
                "import itertools\n",
                "from sklearn.feature_selection import mutual_info_classif"
            ]
        },
        {
            "cell_type": "code",
            "execution_count": 3,
            "metadata": {},
            "outputs": [],
            "source": [
                "product_col=['PRODUCT CODE','PRODUCT CATEGORY','UNIT LIST PRICE']\n",
                "transactions_col=['CUSTOMER NUM','PRODUCT NUM','QUANTITY PURCHASED','DISCOUNT TAKEN','TRANSACTION DATE','STOCKOUT']\n",
                "\n",
                "if(Watson_Studio_Env == True):\n",
                "    my_file = project.get_file(\"Product Data Set - Student 2 of 3.csv\")\n",
                "    my_file.seek(0)\n",
                "else:\n",
                "    my_file = \"Product Data Set - Student 2 of 3.csv\"\n",
                "product_data=pd.read_csv(my_file,header=0,sep='|',usecols=product_col)\n",
                "\n",
                "if(Watson_Studio_Env == True):\n",
                "    my_file = project.get_file(\"Transaction Data Set - Student 3 of 3.csv\")\n",
                "    my_file.seek(0)\n",
                "else:\n",
                "    my_file = \"Transaction Data Set - Student 3 of 3.csv\"\n",
                "transactions_data=pd.read_csv(my_file,header=0,sep='|',usecols=transactions_col)\n",
                "\n",
                "# Fetch the Customer file\n",
                "if(Watson_Studio_Env == True):\n",
                "    my_file = project.get_file(\"Customer Data Set - Student 1 of 3.xlsx\")\n",
                "    my_file.seek(0)\n",
                "else:\n",
                "    my_file = \"Customer Data Set - Student 1 of 3.xlsx\"\n",
                "customer_data=pd.read_excel(my_file)"
            ]
        },
        {
            "cell_type": "markdown",
            "metadata": {},
            "source": [
                "# perform checks on the input data for any null values"
            ]
        },
        {
            "cell_type": "code",
            "execution_count": 4,
            "metadata": {},
            "outputs": [
                {
                    "name": "stdout",
                    "output_type": "stream",
                    "text": [
                        "null values for transactoins ? False\n",
                        "null values for products ? False\n",
                        "null values for customers ? True\n"
                    ]
                }
            ],
            "source": [
                "print('null values for transactoins ?',transactions_data.isnull().values.any())\n",
                "print('null values for products ?',product_data.isnull().values.any())\n",
                "print('null values for customers ?',customer_data.isnull().values.any())"
            ]
        },
        {
            "cell_type": "markdown",
            "metadata": {},
            "source": [
                "# Check which columns have null values and why ?"
            ]
        },
        {
            "cell_type": "code",
            "execution_count": 5,
            "metadata": {},
            "outputs": [
                {
                    "data": {
                        "text/html": [
                            "<div>\n",
                            "<style scoped>\n",
                            "    .dataframe tbody tr th:only-of-type {\n",
                            "        vertical-align: middle;\n",
                            "    }\n",
                            "\n",
                            "    .dataframe tbody tr th {\n",
                            "        vertical-align: top;\n",
                            "    }\n",
                            "\n",
                            "    .dataframe thead th {\n",
                            "        text-align: right;\n",
                            "    }\n",
                            "</style>\n",
                            "<table border=\"1\" class=\"dataframe\">\n",
                            "  <thead>\n",
                            "    <tr style=\"text-align: right;\">\n",
                            "      <th></th>\n",
                            "      <th>CUSTOMER ID</th>\n",
                            "      <th>GENDER</th>\n",
                            "      <th>AGE</th>\n",
                            "      <th>INCOME</th>\n",
                            "      <th>EXPERIENCE SCORE</th>\n",
                            "      <th>LOYALTY GROUP</th>\n",
                            "      <th>ENROLLMENT DATE</th>\n",
                            "      <th>HOUSEHOLD SIZE</th>\n",
                            "      <th>MARITAL STATUS</th>\n",
                            "    </tr>\n",
                            "  </thead>\n",
                            "  <tbody>\n",
                            "    <tr>\n",
                            "      <th>0</th>\n",
                            "      <td>False</td>\n",
                            "      <td>False</td>\n",
                            "      <td>False</td>\n",
                            "      <td>False</td>\n",
                            "      <td>False</td>\n",
                            "      <td>False</td>\n",
                            "      <td>False</td>\n",
                            "      <td>False</td>\n",
                            "      <td>False</td>\n",
                            "    </tr>\n",
                            "    <tr>\n",
                            "      <th>1</th>\n",
                            "      <td>False</td>\n",
                            "      <td>False</td>\n",
                            "      <td>False</td>\n",
                            "      <td>False</td>\n",
                            "      <td>False</td>\n",
                            "      <td>False</td>\n",
                            "      <td>True</td>\n",
                            "      <td>False</td>\n",
                            "      <td>False</td>\n",
                            "    </tr>\n",
                            "    <tr>\n",
                            "      <th>2</th>\n",
                            "      <td>False</td>\n",
                            "      <td>False</td>\n",
                            "      <td>False</td>\n",
                            "      <td>False</td>\n",
                            "      <td>False</td>\n",
                            "      <td>False</td>\n",
                            "      <td>False</td>\n",
                            "      <td>False</td>\n",
                            "      <td>False</td>\n",
                            "    </tr>\n",
                            "    <tr>\n",
                            "      <th>3</th>\n",
                            "      <td>False</td>\n",
                            "      <td>False</td>\n",
                            "      <td>False</td>\n",
                            "      <td>False</td>\n",
                            "      <td>False</td>\n",
                            "      <td>False</td>\n",
                            "      <td>False</td>\n",
                            "      <td>False</td>\n",
                            "      <td>False</td>\n",
                            "    </tr>\n",
                            "    <tr>\n",
                            "      <th>4</th>\n",
                            "      <td>False</td>\n",
                            "      <td>False</td>\n",
                            "      <td>False</td>\n",
                            "      <td>False</td>\n",
                            "      <td>False</td>\n",
                            "      <td>False</td>\n",
                            "      <td>True</td>\n",
                            "      <td>False</td>\n",
                            "      <td>False</td>\n",
                            "    </tr>\n",
                            "    <tr>\n",
                            "      <th>...</th>\n",
                            "      <td>...</td>\n",
                            "      <td>...</td>\n",
                            "      <td>...</td>\n",
                            "      <td>...</td>\n",
                            "      <td>...</td>\n",
                            "      <td>...</td>\n",
                            "      <td>...</td>\n",
                            "      <td>...</td>\n",
                            "      <td>...</td>\n",
                            "    </tr>\n",
                            "    <tr>\n",
                            "      <th>495</th>\n",
                            "      <td>False</td>\n",
                            "      <td>False</td>\n",
                            "      <td>False</td>\n",
                            "      <td>False</td>\n",
                            "      <td>False</td>\n",
                            "      <td>False</td>\n",
                            "      <td>False</td>\n",
                            "      <td>False</td>\n",
                            "      <td>False</td>\n",
                            "    </tr>\n",
                            "    <tr>\n",
                            "      <th>496</th>\n",
                            "      <td>False</td>\n",
                            "      <td>False</td>\n",
                            "      <td>False</td>\n",
                            "      <td>False</td>\n",
                            "      <td>False</td>\n",
                            "      <td>False</td>\n",
                            "      <td>False</td>\n",
                            "      <td>False</td>\n",
                            "      <td>False</td>\n",
                            "    </tr>\n",
                            "    <tr>\n",
                            "      <th>497</th>\n",
                            "      <td>False</td>\n",
                            "      <td>False</td>\n",
                            "      <td>False</td>\n",
                            "      <td>False</td>\n",
                            "      <td>False</td>\n",
                            "      <td>False</td>\n",
                            "      <td>False</td>\n",
                            "      <td>False</td>\n",
                            "      <td>False</td>\n",
                            "    </tr>\n",
                            "    <tr>\n",
                            "      <th>498</th>\n",
                            "      <td>False</td>\n",
                            "      <td>False</td>\n",
                            "      <td>False</td>\n",
                            "      <td>False</td>\n",
                            "      <td>False</td>\n",
                            "      <td>False</td>\n",
                            "      <td>True</td>\n",
                            "      <td>False</td>\n",
                            "      <td>False</td>\n",
                            "    </tr>\n",
                            "    <tr>\n",
                            "      <th>499</th>\n",
                            "      <td>False</td>\n",
                            "      <td>False</td>\n",
                            "      <td>False</td>\n",
                            "      <td>False</td>\n",
                            "      <td>False</td>\n",
                            "      <td>False</td>\n",
                            "      <td>True</td>\n",
                            "      <td>False</td>\n",
                            "      <td>False</td>\n",
                            "    </tr>\n",
                            "  </tbody>\n",
                            "</table>\n",
                            "<p>500 rows × 9 columns</p>\n",
                            "</div>"
                        ],
                        "text/plain": [
                            "     CUSTOMER ID  GENDER    AGE  INCOME  EXPERIENCE SCORE  LOYALTY GROUP  \\\n",
                            "0          False   False  False   False             False          False   \n",
                            "1          False   False  False   False             False          False   \n",
                            "2          False   False  False   False             False          False   \n",
                            "3          False   False  False   False             False          False   \n",
                            "4          False   False  False   False             False          False   \n",
                            "..           ...     ...    ...     ...               ...            ...   \n",
                            "495        False   False  False   False             False          False   \n",
                            "496        False   False  False   False             False          False   \n",
                            "497        False   False  False   False             False          False   \n",
                            "498        False   False  False   False             False          False   \n",
                            "499        False   False  False   False             False          False   \n",
                            "\n",
                            "     ENROLLMENT DATE  HOUSEHOLD SIZE  MARITAL STATUS  \n",
                            "0              False           False           False  \n",
                            "1               True           False           False  \n",
                            "2              False           False           False  \n",
                            "3              False           False           False  \n",
                            "4               True           False           False  \n",
                            "..               ...             ...             ...  \n",
                            "495            False           False           False  \n",
                            "496            False           False           False  \n",
                            "497            False           False           False  \n",
                            "498             True           False           False  \n",
                            "499             True           False           False  \n",
                            "\n",
                            "[500 rows x 9 columns]"
                        ]
                    },
                    "execution_count": 5,
                    "metadata": {},
                    "output_type": "execute_result"
                }
            ],
            "source": [
                "customer_data.isnull()  # (it turned out that it is ENROLLMENT DATE of customers who are not enrolled yet into \n",
                "#Loyalty program ) , this column can be eliminated later since it is not important in the analysis"
            ]
        },
        {
            "cell_type": "code",
            "execution_count": 6,
            "metadata": {},
            "outputs": [
                {
                    "data": {
                        "text/plain": [
                            "(30, 3)"
                        ]
                    },
                    "execution_count": 6,
                    "metadata": {},
                    "output_type": "execute_result"
                }
            ],
            "source": [
                "product_data.shape"
            ]
        },
        {
            "cell_type": "code",
            "execution_count": 7,
            "metadata": {},
            "outputs": [
                {
                    "data": {
                        "text/plain": [
                            "(10000, 6)"
                        ]
                    },
                    "execution_count": 7,
                    "metadata": {},
                    "output_type": "execute_result"
                }
            ],
            "source": [
                "transactions_data.shape"
            ]
        },
        {
            "cell_type": "code",
            "execution_count": 8,
            "metadata": {},
            "outputs": [
                {
                    "data": {
                        "text/plain": [
                            "Index(['PRODUCT CODE', 'PRODUCT CATEGORY', 'UNIT LIST PRICE'], dtype='object')"
                        ]
                    },
                    "execution_count": 8,
                    "metadata": {},
                    "output_type": "execute_result"
                }
            ],
            "source": [
                "product_data.columns"
            ]
        },
        {
            "cell_type": "markdown",
            "metadata": {},
            "source": [
                "# collect and integrate data all together into a single view (transactional based)"
            ]
        },
        {
            "cell_type": "code",
            "execution_count": 9,
            "metadata": {},
            "outputs": [],
            "source": [
                "partial_customer_TX_data=pd.merge(transactions_data,customer_data,how='left', left_on=['CUSTOMER NUM'], right_on=['CUSTOMER ID'])\n",
                "drop_cols=['CUSTOMER ID','PRODUCT CODE']\n",
                "full_customer_TX_data=pd.merge(partial_customer_TX_data,product_data,how='left',left_on=['PRODUCT NUM'],right_on=['PRODUCT CODE']).drop(drop_cols,axis=1)"
            ]
        },
        {
            "cell_type": "code",
            "execution_count": 10,
            "metadata": {},
            "outputs": [
                {
                    "data": {
                        "text/plain": [
                            "(10000, 16)"
                        ]
                    },
                    "execution_count": 10,
                    "metadata": {},
                    "output_type": "execute_result"
                }
            ],
            "source": [
                "full_customer_TX_data.shape"
            ]
        },
        {
            "cell_type": "markdown",
            "metadata": {},
            "source": [
                "# perform checks on the final merged table for null values"
            ]
        },
        {
            "cell_type": "code",
            "execution_count": 11,
            "metadata": {},
            "outputs": [
                {
                    "data": {
                        "text/plain": [
                            "False"
                        ]
                    },
                    "execution_count": 11,
                    "metadata": {},
                    "output_type": "execute_result"
                }
            ],
            "source": [
                "full_customer_TX_data=full_customer_TX_data.drop('ENROLLMENT DATE',axis=1)  ### DO Not Run this CELL more than once O.W you will recalculate the full_customer_TX_data again\n",
                "full_customer_TX_data.isnull().values.any()"
            ]
        },
        {
            "cell_type": "code",
            "execution_count": 12,
            "metadata": {},
            "outputs": [
                {
                    "data": {
                        "text/html": [
                            "<div>\n",
                            "<style scoped>\n",
                            "    .dataframe tbody tr th:only-of-type {\n",
                            "        vertical-align: middle;\n",
                            "    }\n",
                            "\n",
                            "    .dataframe tbody tr th {\n",
                            "        vertical-align: top;\n",
                            "    }\n",
                            "\n",
                            "    .dataframe thead th {\n",
                            "        text-align: right;\n",
                            "    }\n",
                            "</style>\n",
                            "<table border=\"1\" class=\"dataframe\">\n",
                            "  <thead>\n",
                            "    <tr style=\"text-align: right;\">\n",
                            "      <th></th>\n",
                            "      <th>CUSTOMER NUM</th>\n",
                            "      <th>PRODUCT NUM</th>\n",
                            "      <th>QUANTITY PURCHASED</th>\n",
                            "      <th>DISCOUNT TAKEN</th>\n",
                            "      <th>TRANSACTION DATE</th>\n",
                            "      <th>STOCKOUT</th>\n",
                            "      <th>GENDER</th>\n",
                            "      <th>AGE</th>\n",
                            "      <th>INCOME</th>\n",
                            "      <th>EXPERIENCE SCORE</th>\n",
                            "      <th>LOYALTY GROUP</th>\n",
                            "      <th>HOUSEHOLD SIZE</th>\n",
                            "      <th>MARITAL STATUS</th>\n",
                            "      <th>PRODUCT CATEGORY</th>\n",
                            "      <th>UNIT LIST PRICE</th>\n",
                            "    </tr>\n",
                            "  </thead>\n",
                            "  <tbody>\n",
                            "    <tr>\n",
                            "      <th>0</th>\n",
                            "      <td>10114</td>\n",
                            "      <td>30011</td>\n",
                            "      <td>4</td>\n",
                            "      <td>0.0</td>\n",
                            "      <td>1/2/2015</td>\n",
                            "      <td>0</td>\n",
                            "      <td>1</td>\n",
                            "      <td>26</td>\n",
                            "      <td>41777</td>\n",
                            "      <td>10</td>\n",
                            "      <td>not enrolled</td>\n",
                            "      <td>1</td>\n",
                            "      <td>Single</td>\n",
                            "      <td>APPAREL</td>\n",
                            "      <td>$25.46</td>\n",
                            "    </tr>\n",
                            "    <tr>\n",
                            "      <th>1</th>\n",
                            "      <td>10217</td>\n",
                            "      <td>30016</td>\n",
                            "      <td>3</td>\n",
                            "      <td>0.0</td>\n",
                            "      <td>1/2/2015</td>\n",
                            "      <td>0</td>\n",
                            "      <td>1</td>\n",
                            "      <td>31</td>\n",
                            "      <td>58025</td>\n",
                            "      <td>1</td>\n",
                            "      <td>not enrolled</td>\n",
                            "      <td>6</td>\n",
                            "      <td>Single</td>\n",
                            "      <td>APPAREL</td>\n",
                            "      <td>$29.31</td>\n",
                            "    </tr>\n",
                            "    <tr>\n",
                            "      <th>2</th>\n",
                            "      <td>10224</td>\n",
                            "      <td>30013</td>\n",
                            "      <td>4</td>\n",
                            "      <td>0.0</td>\n",
                            "      <td>1/2/2015</td>\n",
                            "      <td>0</td>\n",
                            "      <td>1</td>\n",
                            "      <td>28</td>\n",
                            "      <td>47145</td>\n",
                            "      <td>2</td>\n",
                            "      <td>not enrolled</td>\n",
                            "      <td>2</td>\n",
                            "      <td>Single</td>\n",
                            "      <td>APPAREL</td>\n",
                            "      <td>$26.85</td>\n",
                            "    </tr>\n",
                            "    <tr>\n",
                            "      <th>3</th>\n",
                            "      <td>10103</td>\n",
                            "      <td>30012</td>\n",
                            "      <td>3</td>\n",
                            "      <td>0.2</td>\n",
                            "      <td>1/2/2015</td>\n",
                            "      <td>0</td>\n",
                            "      <td>1</td>\n",
                            "      <td>30</td>\n",
                            "      <td>51978</td>\n",
                            "      <td>7</td>\n",
                            "      <td>not enrolled</td>\n",
                            "      <td>4</td>\n",
                            "      <td>Married</td>\n",
                            "      <td>APPAREL</td>\n",
                            "      <td>$28.51</td>\n",
                            "    </tr>\n",
                            "    <tr>\n",
                            "      <th>4</th>\n",
                            "      <td>10037</td>\n",
                            "      <td>30010</td>\n",
                            "      <td>8</td>\n",
                            "      <td>0.0</td>\n",
                            "      <td>1/2/2015</td>\n",
                            "      <td>0</td>\n",
                            "      <td>1</td>\n",
                            "      <td>31</td>\n",
                            "      <td>57724</td>\n",
                            "      <td>9</td>\n",
                            "      <td>not enrolled</td>\n",
                            "      <td>3</td>\n",
                            "      <td>Married</td>\n",
                            "      <td>APPAREL</td>\n",
                            "      <td>$25.27</td>\n",
                            "    </tr>\n",
                            "    <tr>\n",
                            "      <th>...</th>\n",
                            "      <td>...</td>\n",
                            "      <td>...</td>\n",
                            "      <td>...</td>\n",
                            "      <td>...</td>\n",
                            "      <td>...</td>\n",
                            "      <td>...</td>\n",
                            "      <td>...</td>\n",
                            "      <td>...</td>\n",
                            "      <td>...</td>\n",
                            "      <td>...</td>\n",
                            "      <td>...</td>\n",
                            "      <td>...</td>\n",
                            "      <td>...</td>\n",
                            "      <td>...</td>\n",
                            "      <td>...</td>\n",
                            "    </tr>\n",
                            "    <tr>\n",
                            "      <th>9995</th>\n",
                            "      <td>10154</td>\n",
                            "      <td>30024</td>\n",
                            "      <td>14</td>\n",
                            "      <td>0.0</td>\n",
                            "      <td>12/31/2015</td>\n",
                            "      <td>0</td>\n",
                            "      <td>0</td>\n",
                            "      <td>51</td>\n",
                            "      <td>118393</td>\n",
                            "      <td>7</td>\n",
                            "      <td>enrolled</td>\n",
                            "      <td>4</td>\n",
                            "      <td>Married</td>\n",
                            "      <td>FOOD</td>\n",
                            "      <td>$5.03</td>\n",
                            "    </tr>\n",
                            "    <tr>\n",
                            "      <th>9996</th>\n",
                            "      <td>10090</td>\n",
                            "      <td>30003</td>\n",
                            "      <td>7</td>\n",
                            "      <td>0.1</td>\n",
                            "      <td>12/31/2015</td>\n",
                            "      <td>0</td>\n",
                            "      <td>0</td>\n",
                            "      <td>20</td>\n",
                            "      <td>24369</td>\n",
                            "      <td>8</td>\n",
                            "      <td>enrolled</td>\n",
                            "      <td>1</td>\n",
                            "      <td>Single</td>\n",
                            "      <td>HEALTH &amp; BEAUTY</td>\n",
                            "      <td>$5.49</td>\n",
                            "    </tr>\n",
                            "    <tr>\n",
                            "      <th>9997</th>\n",
                            "      <td>10212</td>\n",
                            "      <td>30004</td>\n",
                            "      <td>7</td>\n",
                            "      <td>0.0</td>\n",
                            "      <td>12/31/2015</td>\n",
                            "      <td>0</td>\n",
                            "      <td>0</td>\n",
                            "      <td>21</td>\n",
                            "      <td>28729</td>\n",
                            "      <td>10</td>\n",
                            "      <td>enrolled</td>\n",
                            "      <td>2</td>\n",
                            "      <td>Married</td>\n",
                            "      <td>HEALTH &amp; BEAUTY</td>\n",
                            "      <td>$6.46</td>\n",
                            "    </tr>\n",
                            "    <tr>\n",
                            "      <th>9998</th>\n",
                            "      <td>10102</td>\n",
                            "      <td>30006</td>\n",
                            "      <td>8</td>\n",
                            "      <td>0.2</td>\n",
                            "      <td>12/31/2015</td>\n",
                            "      <td>0</td>\n",
                            "      <td>1</td>\n",
                            "      <td>24</td>\n",
                            "      <td>36793</td>\n",
                            "      <td>7</td>\n",
                            "      <td>enrolled</td>\n",
                            "      <td>3</td>\n",
                            "      <td>Married</td>\n",
                            "      <td>HEALTH &amp; BEAUTY</td>\n",
                            "      <td>$6.27</td>\n",
                            "    </tr>\n",
                            "    <tr>\n",
                            "      <th>9999</th>\n",
                            "      <td>10315</td>\n",
                            "      <td>30007</td>\n",
                            "      <td>10</td>\n",
                            "      <td>0.0</td>\n",
                            "      <td>12/31/2015</td>\n",
                            "      <td>0</td>\n",
                            "      <td>0</td>\n",
                            "      <td>40</td>\n",
                            "      <td>91000</td>\n",
                            "      <td>8</td>\n",
                            "      <td>enrolled</td>\n",
                            "      <td>6</td>\n",
                            "      <td>Married</td>\n",
                            "      <td>HEALTH &amp; BEAUTY</td>\n",
                            "      <td>$6.50</td>\n",
                            "    </tr>\n",
                            "  </tbody>\n",
                            "</table>\n",
                            "<p>10000 rows × 15 columns</p>\n",
                            "</div>"
                        ],
                        "text/plain": [
                            "      CUSTOMER NUM  PRODUCT NUM  QUANTITY PURCHASED  DISCOUNT TAKEN  \\\n",
                            "0            10114        30011                   4             0.0   \n",
                            "1            10217        30016                   3             0.0   \n",
                            "2            10224        30013                   4             0.0   \n",
                            "3            10103        30012                   3             0.2   \n",
                            "4            10037        30010                   8             0.0   \n",
                            "...            ...          ...                 ...             ...   \n",
                            "9995         10154        30024                  14             0.0   \n",
                            "9996         10090        30003                   7             0.1   \n",
                            "9997         10212        30004                   7             0.0   \n",
                            "9998         10102        30006                   8             0.2   \n",
                            "9999         10315        30007                  10             0.0   \n",
                            "\n",
                            "     TRANSACTION DATE  STOCKOUT  GENDER  AGE  INCOME  EXPERIENCE SCORE  \\\n",
                            "0            1/2/2015         0       1   26   41777                10   \n",
                            "1            1/2/2015         0       1   31   58025                 1   \n",
                            "2            1/2/2015         0       1   28   47145                 2   \n",
                            "3            1/2/2015         0       1   30   51978                 7   \n",
                            "4            1/2/2015         0       1   31   57724                 9   \n",
                            "...               ...       ...     ...  ...     ...               ...   \n",
                            "9995       12/31/2015         0       0   51  118393                 7   \n",
                            "9996       12/31/2015         0       0   20   24369                 8   \n",
                            "9997       12/31/2015         0       0   21   28729                10   \n",
                            "9998       12/31/2015         0       1   24   36793                 7   \n",
                            "9999       12/31/2015         0       0   40   91000                 8   \n",
                            "\n",
                            "     LOYALTY GROUP  HOUSEHOLD SIZE MARITAL STATUS PRODUCT CATEGORY  \\\n",
                            "0     not enrolled               1         Single          APPAREL   \n",
                            "1     not enrolled               6         Single          APPAREL   \n",
                            "2     not enrolled               2         Single          APPAREL   \n",
                            "3     not enrolled               4        Married          APPAREL   \n",
                            "4     not enrolled               3        Married          APPAREL   \n",
                            "...            ...             ...            ...              ...   \n",
                            "9995      enrolled               4        Married             FOOD   \n",
                            "9996      enrolled               1         Single  HEALTH & BEAUTY   \n",
                            "9997      enrolled               2        Married  HEALTH & BEAUTY   \n",
                            "9998      enrolled               3        Married  HEALTH & BEAUTY   \n",
                            "9999      enrolled               6        Married  HEALTH & BEAUTY   \n",
                            "\n",
                            "     UNIT LIST PRICE  \n",
                            "0            $25.46   \n",
                            "1            $29.31   \n",
                            "2            $26.85   \n",
                            "3            $28.51   \n",
                            "4            $25.27   \n",
                            "...              ...  \n",
                            "9995          $5.03   \n",
                            "9996          $5.49   \n",
                            "9997          $6.46   \n",
                            "9998          $6.27   \n",
                            "9999          $6.50   \n",
                            "\n",
                            "[10000 rows x 15 columns]"
                        ]
                    },
                    "execution_count": 12,
                    "metadata": {},
                    "output_type": "execute_result"
                }
            ],
            "source": [
                "full_customer_TX_data"
            ]
        },
        {
            "cell_type": "markdown",
            "metadata": {},
            "source": [
                "# Now perform some aggregation functions and derive new features"
            ]
        },
        {
            "cell_type": "markdown",
            "metadata": {},
            "source": [
                "# let's make the grouping based on the customers (customer NUM) and then derive multiple grouping funcitons"
            ]
        },
        {
            "cell_type": "code",
            "execution_count": 13,
            "metadata": {},
            "outputs": [
                {
                    "name": "stdout",
                    "output_type": "stream",
                    "text": [
                        "DISCOUNT TAKEN    0.0\n",
                        "dtype: float64\n",
                        "DISCOUNT TAKEN    0.7\n",
                        "dtype: float64\n"
                    ]
                }
            ],
            "source": [
                "print(full_customer_TX_data.agg({'DISCOUNT TAKEN':'min'})) # this is a check on the values prior to define the following function\n",
                "print(full_customer_TX_data.agg({'DISCOUNT TAKEN':'max'}))"
            ]
        },
        {
            "cell_type": "markdown",
            "metadata": {},
            "source": [
                "# Construct new functions to derived features"
            ]
        },
        {
            "cell_type": "code",
            "execution_count": 14,
            "metadata": {},
            "outputs": [],
            "source": [
                "def calculate_total_spending(unit_price,quantity,discount):\n",
                "    total_spent=(1-discount)*float(unit_price.replace('$', ''))*quantity\n",
                "    return total_spent\n",
                "\n",
                "def calculate_pcntg_spent_to_income(INCOME,total_spent):\n",
                "    pcntg = (total_spent/INCOME)*100\n",
                "    return pcntg\n",
                " "
            ]
        },
        {
            "cell_type": "code",
            "execution_count": 15,
            "metadata": {},
            "outputs": [],
            "source": [
                "full_customer_TX_data['sub_spent'] = full_customer_TX_data.apply(lambda row:calculate_total_spending(row['UNIT LIST PRICE'],row['QUANTITY PURCHASED'],row['DISCOUNT TAKEN']),axis=1)\n"
            ]
        },
        {
            "cell_type": "code",
            "execution_count": 16,
            "metadata": {},
            "outputs": [],
            "source": [
                "customer_view = pd.DataFrame(full_customer_TX_data.groupby(['CUSTOMER NUM','GENDER','AGE','INCOME',\\\n",
                "                               'EXPERIENCE SCORE','LOYALTY GROUP','HOUSEHOLD SIZE','MARITAL STATUS'])\\\n",
                ".agg({'sub_spent':'sum','QUANTITY PURCHASED':'sum','CUSTOMER NUM':'count'})\\\n",
                "                             .rename(columns={'QUANTITY PURCHASED':'purchase_count','sub_spent':\\\n",
                "                                              'total_spent','CUSTOMER NUM':'tx_count'}).to_records())\\\n",
                "  # this flattened the output pivot table of the groupby and agg funcitons into a normal dataframe \n",
                "#with column  names equals to the names of the complex index of that pivot table."
            ]
        },
        {
            "cell_type": "code",
            "execution_count": 17,
            "metadata": {},
            "outputs": [],
            "source": [
                "customer_view['spent_pcntg_income'] = customer_view.apply(lambda row:calculate_pcntg_spent_to_income(row['INCOME'],row['total_spent']),axis=1)\n"
            ]
        },
        {
            "cell_type": "markdown",
            "metadata": {},
            "source": [
                "# Let's do cross tabulation of each feature against the Loyalty Group attribute"
            ]
        },
        {
            "cell_type": "code",
            "execution_count": 18,
            "metadata": {},
            "outputs": [
                {
                    "data": {
                        "text/plain": [
                            "Index(['CUSTOMER NUM', 'GENDER', 'AGE', 'INCOME', 'EXPERIENCE SCORE',\n",
                            "       'LOYALTY GROUP', 'HOUSEHOLD SIZE', 'MARITAL STATUS', 'total_spent',\n",
                            "       'purchase_count', 'tx_count', 'spent_pcntg_income'],\n",
                            "      dtype='object')"
                        ]
                    },
                    "execution_count": 18,
                    "metadata": {},
                    "output_type": "execute_result"
                }
            ],
            "source": [
                "customer_view.columns"
            ]
        },
        {
            "cell_type": "code",
            "execution_count": 19,
            "metadata": {},
            "outputs": [
                {
                    "data": {
                        "text/html": [
                            "<div>\n",
                            "<style scoped>\n",
                            "    .dataframe tbody tr th:only-of-type {\n",
                            "        vertical-align: middle;\n",
                            "    }\n",
                            "\n",
                            "    .dataframe tbody tr th {\n",
                            "        vertical-align: top;\n",
                            "    }\n",
                            "\n",
                            "    .dataframe thead th {\n",
                            "        text-align: right;\n",
                            "    }\n",
                            "</style>\n",
                            "<table border=\"1\" class=\"dataframe\">\n",
                            "  <thead>\n",
                            "    <tr style=\"text-align: right;\">\n",
                            "      <th></th>\n",
                            "      <th>CUSTOMER NUM</th>\n",
                            "      <th>GENDER</th>\n",
                            "      <th>AGE</th>\n",
                            "      <th>INCOME</th>\n",
                            "      <th>EXPERIENCE SCORE</th>\n",
                            "      <th>LOYALTY GROUP</th>\n",
                            "      <th>HOUSEHOLD SIZE</th>\n",
                            "      <th>MARITAL STATUS</th>\n",
                            "      <th>total_spent</th>\n",
                            "      <th>purchase_count</th>\n",
                            "      <th>tx_count</th>\n",
                            "      <th>spent_pcntg_income</th>\n",
                            "    </tr>\n",
                            "  </thead>\n",
                            "  <tbody>\n",
                            "    <tr>\n",
                            "      <th>0</th>\n",
                            "      <td>10001</td>\n",
                            "      <td>0</td>\n",
                            "      <td>64</td>\n",
                            "      <td>133498</td>\n",
                            "      <td>5</td>\n",
                            "      <td>enrolled</td>\n",
                            "      <td>4</td>\n",
                            "      <td>Single</td>\n",
                            "      <td>6826.770</td>\n",
                            "      <td>396</td>\n",
                            "      <td>27</td>\n",
                            "      <td>5.113762</td>\n",
                            "    </tr>\n",
                            "    <tr>\n",
                            "      <th>1</th>\n",
                            "      <td>10002</td>\n",
                            "      <td>0</td>\n",
                            "      <td>42</td>\n",
                            "      <td>94475</td>\n",
                            "      <td>9</td>\n",
                            "      <td>not enrolled</td>\n",
                            "      <td>6</td>\n",
                            "      <td>Married</td>\n",
                            "      <td>5062.451</td>\n",
                            "      <td>202</td>\n",
                            "      <td>24</td>\n",
                            "      <td>5.358509</td>\n",
                            "    </tr>\n",
                            "    <tr>\n",
                            "      <th>2</th>\n",
                            "      <td>10003</td>\n",
                            "      <td>0</td>\n",
                            "      <td>40</td>\n",
                            "      <td>88610</td>\n",
                            "      <td>9</td>\n",
                            "      <td>enrolled</td>\n",
                            "      <td>5</td>\n",
                            "      <td>Married</td>\n",
                            "      <td>8562.440</td>\n",
                            "      <td>265</td>\n",
                            "      <td>23</td>\n",
                            "      <td>9.663063</td>\n",
                            "    </tr>\n",
                            "    <tr>\n",
                            "      <th>3</th>\n",
                            "      <td>10004</td>\n",
                            "      <td>0</td>\n",
                            "      <td>38</td>\n",
                            "      <td>84313</td>\n",
                            "      <td>8</td>\n",
                            "      <td>enrolled</td>\n",
                            "      <td>1</td>\n",
                            "      <td>Single</td>\n",
                            "      <td>5522.694</td>\n",
                            "      <td>197</td>\n",
                            "      <td>19</td>\n",
                            "      <td>6.550228</td>\n",
                            "    </tr>\n",
                            "    <tr>\n",
                            "      <th>4</th>\n",
                            "      <td>10005</td>\n",
                            "      <td>0</td>\n",
                            "      <td>30</td>\n",
                            "      <td>51498</td>\n",
                            "      <td>3</td>\n",
                            "      <td>not enrolled</td>\n",
                            "      <td>1</td>\n",
                            "      <td>Single</td>\n",
                            "      <td>213.512</td>\n",
                            "      <td>12</td>\n",
                            "      <td>2</td>\n",
                            "      <td>0.414603</td>\n",
                            "    </tr>\n",
                            "    <tr>\n",
                            "      <th>...</th>\n",
                            "      <td>...</td>\n",
                            "      <td>...</td>\n",
                            "      <td>...</td>\n",
                            "      <td>...</td>\n",
                            "      <td>...</td>\n",
                            "      <td>...</td>\n",
                            "      <td>...</td>\n",
                            "      <td>...</td>\n",
                            "      <td>...</td>\n",
                            "      <td>...</td>\n",
                            "      <td>...</td>\n",
                            "      <td>...</td>\n",
                            "    </tr>\n",
                            "    <tr>\n",
                            "      <th>495</th>\n",
                            "      <td>10496</td>\n",
                            "      <td>0</td>\n",
                            "      <td>47</td>\n",
                            "      <td>113125</td>\n",
                            "      <td>7</td>\n",
                            "      <td>enrolled</td>\n",
                            "      <td>2</td>\n",
                            "      <td>Single</td>\n",
                            "      <td>8501.464</td>\n",
                            "      <td>309</td>\n",
                            "      <td>23</td>\n",
                            "      <td>7.515106</td>\n",
                            "    </tr>\n",
                            "    <tr>\n",
                            "      <th>496</th>\n",
                            "      <td>10497</td>\n",
                            "      <td>0</td>\n",
                            "      <td>49</td>\n",
                            "      <td>118108</td>\n",
                            "      <td>7</td>\n",
                            "      <td>enrolled</td>\n",
                            "      <td>1</td>\n",
                            "      <td>Single</td>\n",
                            "      <td>9903.658</td>\n",
                            "      <td>360</td>\n",
                            "      <td>27</td>\n",
                            "      <td>8.385256</td>\n",
                            "    </tr>\n",
                            "    <tr>\n",
                            "      <th>497</th>\n",
                            "      <td>10498</td>\n",
                            "      <td>0</td>\n",
                            "      <td>42</td>\n",
                            "      <td>97353</td>\n",
                            "      <td>8</td>\n",
                            "      <td>enrolled</td>\n",
                            "      <td>5</td>\n",
                            "      <td>Married</td>\n",
                            "      <td>6251.466</td>\n",
                            "      <td>337</td>\n",
                            "      <td>29</td>\n",
                            "      <td>6.421442</td>\n",
                            "    </tr>\n",
                            "    <tr>\n",
                            "      <th>498</th>\n",
                            "      <td>10499</td>\n",
                            "      <td>1</td>\n",
                            "      <td>22</td>\n",
                            "      <td>34424</td>\n",
                            "      <td>1</td>\n",
                            "      <td>not enrolled</td>\n",
                            "      <td>2</td>\n",
                            "      <td>Single</td>\n",
                            "      <td>20.010</td>\n",
                            "      <td>3</td>\n",
                            "      <td>2</td>\n",
                            "      <td>0.058128</td>\n",
                            "    </tr>\n",
                            "    <tr>\n",
                            "      <th>499</th>\n",
                            "      <td>10500</td>\n",
                            "      <td>1</td>\n",
                            "      <td>34</td>\n",
                            "      <td>75114</td>\n",
                            "      <td>9</td>\n",
                            "      <td>not enrolled</td>\n",
                            "      <td>3</td>\n",
                            "      <td>Divorced</td>\n",
                            "      <td>4182.032</td>\n",
                            "      <td>136</td>\n",
                            "      <td>20</td>\n",
                            "      <td>5.567580</td>\n",
                            "    </tr>\n",
                            "  </tbody>\n",
                            "</table>\n",
                            "<p>500 rows × 12 columns</p>\n",
                            "</div>"
                        ],
                        "text/plain": [
                            "     CUSTOMER NUM  GENDER  AGE  INCOME  EXPERIENCE SCORE LOYALTY GROUP  \\\n",
                            "0           10001       0   64  133498                 5      enrolled   \n",
                            "1           10002       0   42   94475                 9  not enrolled   \n",
                            "2           10003       0   40   88610                 9      enrolled   \n",
                            "3           10004       0   38   84313                 8      enrolled   \n",
                            "4           10005       0   30   51498                 3  not enrolled   \n",
                            "..            ...     ...  ...     ...               ...           ...   \n",
                            "495         10496       0   47  113125                 7      enrolled   \n",
                            "496         10497       0   49  118108                 7      enrolled   \n",
                            "497         10498       0   42   97353                 8      enrolled   \n",
                            "498         10499       1   22   34424                 1  not enrolled   \n",
                            "499         10500       1   34   75114                 9  not enrolled   \n",
                            "\n",
                            "     HOUSEHOLD SIZE MARITAL STATUS  total_spent  purchase_count  tx_count  \\\n",
                            "0                 4         Single     6826.770             396        27   \n",
                            "1                 6        Married     5062.451             202        24   \n",
                            "2                 5        Married     8562.440             265        23   \n",
                            "3                 1         Single     5522.694             197        19   \n",
                            "4                 1         Single      213.512              12         2   \n",
                            "..              ...            ...          ...             ...       ...   \n",
                            "495               2         Single     8501.464             309        23   \n",
                            "496               1         Single     9903.658             360        27   \n",
                            "497               5        Married     6251.466             337        29   \n",
                            "498               2         Single       20.010               3         2   \n",
                            "499               3       Divorced     4182.032             136        20   \n",
                            "\n",
                            "     spent_pcntg_income  \n",
                            "0              5.113762  \n",
                            "1              5.358509  \n",
                            "2              9.663063  \n",
                            "3              6.550228  \n",
                            "4              0.414603  \n",
                            "..                  ...  \n",
                            "495            7.515106  \n",
                            "496            8.385256  \n",
                            "497            6.421442  \n",
                            "498            0.058128  \n",
                            "499            5.567580  \n",
                            "\n",
                            "[500 rows x 12 columns]"
                        ]
                    },
                    "execution_count": 19,
                    "metadata": {},
                    "output_type": "execute_result"
                }
            ],
            "source": [
                "customer_view"
            ]
        },
        {
            "cell_type": "markdown",
            "metadata": {},
            "source": [
                "# Now lets derive some features with respect to product categories"
            ]
        },
        {
            "cell_type": "code",
            "execution_count": 20,
            "metadata": {},
            "outputs": [],
            "source": [
                "product_stats = pd.DataFrame(full_customer_TX_data.groupby(['PRODUCT CATEGORY']).agg({'sub_spent':'sum','QUANTITY PURCHASED':'sum','DISCOUNT TAKEN':'mean'}).to_records()).rename(columns={'sub_spent':'total_spent','DISCOUNT TAKEN':'average_discount'})\n",
                "product_view = pd.DataFrame(full_customer_TX_data.groupby(['PRODUCT CATEGORY','PRODUCT NUM']).agg({'sub_spent':'sum','QUANTITY PURCHASED':'sum','DISCOUNT TAKEN':'mean'}).to_records()).rename(columns={'sub_spent':'total_spent','DISCOUNT TAKEN':'average_discount'})"
            ]
        },
        {
            "cell_type": "code",
            "execution_count": 21,
            "metadata": {},
            "outputs": [
                {
                    "data": {
                        "text/html": [
                            "<div>\n",
                            "<style scoped>\n",
                            "    .dataframe tbody tr th:only-of-type {\n",
                            "        vertical-align: middle;\n",
                            "    }\n",
                            "\n",
                            "    .dataframe tbody tr th {\n",
                            "        vertical-align: top;\n",
                            "    }\n",
                            "\n",
                            "    .dataframe thead th {\n",
                            "        text-align: right;\n",
                            "    }\n",
                            "</style>\n",
                            "<table border=\"1\" class=\"dataframe\">\n",
                            "  <thead>\n",
                            "    <tr style=\"text-align: right;\">\n",
                            "      <th></th>\n",
                            "      <th>PRODUCT CATEGORY</th>\n",
                            "      <th>PRODUCT NUM</th>\n",
                            "      <th>total_spent</th>\n",
                            "      <th>QUANTITY PURCHASED</th>\n",
                            "      <th>average_discount</th>\n",
                            "    </tr>\n",
                            "  </thead>\n",
                            "  <tbody>\n",
                            "    <tr>\n",
                            "      <th>9</th>\n",
                            "      <td>ELECTRONICS</td>\n",
                            "      <td>30019</td>\n",
                            "      <td>287032.326</td>\n",
                            "      <td>5721</td>\n",
                            "      <td>0.063383</td>\n",
                            "    </tr>\n",
                            "    <tr>\n",
                            "      <th>12</th>\n",
                            "      <td>ELECTRONICS</td>\n",
                            "      <td>30022</td>\n",
                            "      <td>271710.684</td>\n",
                            "      <td>5294</td>\n",
                            "      <td>0.053772</td>\n",
                            "    </tr>\n",
                            "    <tr>\n",
                            "      <th>10</th>\n",
                            "      <td>ELECTRONICS</td>\n",
                            "      <td>30020</td>\n",
                            "      <td>270412.876</td>\n",
                            "      <td>5712</td>\n",
                            "      <td>0.067970</td>\n",
                            "    </tr>\n",
                            "    <tr>\n",
                            "      <th>7</th>\n",
                            "      <td>ELECTRONICS</td>\n",
                            "      <td>30017</td>\n",
                            "      <td>267335.302</td>\n",
                            "      <td>5645</td>\n",
                            "      <td>0.065677</td>\n",
                            "    </tr>\n",
                            "    <tr>\n",
                            "      <th>8</th>\n",
                            "      <td>ELECTRONICS</td>\n",
                            "      <td>30018</td>\n",
                            "      <td>257041.100</td>\n",
                            "      <td>5377</td>\n",
                            "      <td>0.072780</td>\n",
                            "    </tr>\n",
                            "    <tr>\n",
                            "      <th>11</th>\n",
                            "      <td>ELECTRONICS</td>\n",
                            "      <td>30021</td>\n",
                            "      <td>253660.134</td>\n",
                            "      <td>5065</td>\n",
                            "      <td>0.063485</td>\n",
                            "    </tr>\n",
                            "    <tr>\n",
                            "      <th>5</th>\n",
                            "      <td>APPAREL</td>\n",
                            "      <td>30015</td>\n",
                            "      <td>179377.057</td>\n",
                            "      <td>6526</td>\n",
                            "      <td>0.069552</td>\n",
                            "    </tr>\n",
                            "    <tr>\n",
                            "      <th>2</th>\n",
                            "      <td>APPAREL</td>\n",
                            "      <td>30012</td>\n",
                            "      <td>142589.914</td>\n",
                            "      <td>5376</td>\n",
                            "      <td>0.067130</td>\n",
                            "    </tr>\n",
                            "    <tr>\n",
                            "      <th>6</th>\n",
                            "      <td>APPAREL</td>\n",
                            "      <td>30016</td>\n",
                            "      <td>135338.925</td>\n",
                            "      <td>4953</td>\n",
                            "      <td>0.066049</td>\n",
                            "    </tr>\n",
                            "    <tr>\n",
                            "      <th>1</th>\n",
                            "      <td>APPAREL</td>\n",
                            "      <td>30011</td>\n",
                            "      <td>124695.442</td>\n",
                            "      <td>5244</td>\n",
                            "      <td>0.063918</td>\n",
                            "    </tr>\n",
                            "    <tr>\n",
                            "      <th>4</th>\n",
                            "      <td>APPAREL</td>\n",
                            "      <td>30014</td>\n",
                            "      <td>122099.423</td>\n",
                            "      <td>4863</td>\n",
                            "      <td>0.059041</td>\n",
                            "    </tr>\n",
                            "    <tr>\n",
                            "      <th>3</th>\n",
                            "      <td>APPAREL</td>\n",
                            "      <td>30013</td>\n",
                            "      <td>117643.275</td>\n",
                            "      <td>4725</td>\n",
                            "      <td>0.067939</td>\n",
                            "    </tr>\n",
                            "    <tr>\n",
                            "      <th>0</th>\n",
                            "      <td>APPAREL</td>\n",
                            "      <td>30010</td>\n",
                            "      <td>115013.878</td>\n",
                            "      <td>4881</td>\n",
                            "      <td>0.067850</td>\n",
                            "    </tr>\n",
                            "    <tr>\n",
                            "      <th>13</th>\n",
                            "      <td>FOOD</td>\n",
                            "      <td>30023</td>\n",
                            "      <td>32036.592</td>\n",
                            "      <td>5457</td>\n",
                            "      <td>0.072159</td>\n",
                            "    </tr>\n",
                            "    <tr>\n",
                            "      <th>14</th>\n",
                            "      <td>FOOD</td>\n",
                            "      <td>30024</td>\n",
                            "      <td>25503.106</td>\n",
                            "      <td>5393</td>\n",
                            "      <td>0.054600</td>\n",
                            "    </tr>\n",
                            "    <tr>\n",
                            "      <th>18</th>\n",
                            "      <td>FOOD</td>\n",
                            "      <td>30028</td>\n",
                            "      <td>12300.500</td>\n",
                            "      <td>1825</td>\n",
                            "      <td>0.075912</td>\n",
                            "    </tr>\n",
                            "    <tr>\n",
                            "      <th>16</th>\n",
                            "      <td>FOOD</td>\n",
                            "      <td>30026</td>\n",
                            "      <td>7590.162</td>\n",
                            "      <td>1733</td>\n",
                            "      <td>0.071429</td>\n",
                            "    </tr>\n",
                            "    <tr>\n",
                            "      <th>27</th>\n",
                            "      <td>HEALTH &amp; BEAUTY</td>\n",
                            "      <td>30007</td>\n",
                            "      <td>7567.950</td>\n",
                            "      <td>1262</td>\n",
                            "      <td>0.077439</td>\n",
                            "    </tr>\n",
                            "    <tr>\n",
                            "      <th>28</th>\n",
                            "      <td>HEALTH &amp; BEAUTY</td>\n",
                            "      <td>30008</td>\n",
                            "      <td>6932.670</td>\n",
                            "      <td>809</td>\n",
                            "      <td>0.046429</td>\n",
                            "    </tr>\n",
                            "    <tr>\n",
                            "      <th>15</th>\n",
                            "      <td>FOOD</td>\n",
                            "      <td>30025</td>\n",
                            "      <td>6709.978</td>\n",
                            "      <td>1590</td>\n",
                            "      <td>0.060000</td>\n",
                            "    </tr>\n",
                            "    <tr>\n",
                            "      <th>20</th>\n",
                            "      <td>FOOD</td>\n",
                            "      <td>30030</td>\n",
                            "      <td>6657.268</td>\n",
                            "      <td>908</td>\n",
                            "      <td>0.077941</td>\n",
                            "    </tr>\n",
                            "    <tr>\n",
                            "      <th>29</th>\n",
                            "      <td>HEALTH &amp; BEAUTY</td>\n",
                            "      <td>30009</td>\n",
                            "      <td>6508.176</td>\n",
                            "      <td>1057</td>\n",
                            "      <td>0.060284</td>\n",
                            "    </tr>\n",
                            "    <tr>\n",
                            "      <th>21</th>\n",
                            "      <td>HEALTH &amp; BEAUTY</td>\n",
                            "      <td>30001</td>\n",
                            "      <td>6366.025</td>\n",
                            "      <td>927</td>\n",
                            "      <td>0.080153</td>\n",
                            "    </tr>\n",
                            "    <tr>\n",
                            "      <th>25</th>\n",
                            "      <td>HEALTH &amp; BEAUTY</td>\n",
                            "      <td>30005</td>\n",
                            "      <td>6156.467</td>\n",
                            "      <td>938</td>\n",
                            "      <td>0.081679</td>\n",
                            "    </tr>\n",
                            "    <tr>\n",
                            "      <th>26</th>\n",
                            "      <td>HEALTH &amp; BEAUTY</td>\n",
                            "      <td>30006</td>\n",
                            "      <td>5917.626</td>\n",
                            "      <td>1046</td>\n",
                            "      <td>0.091216</td>\n",
                            "    </tr>\n",
                            "    <tr>\n",
                            "      <th>24</th>\n",
                            "      <td>HEALTH &amp; BEAUTY</td>\n",
                            "      <td>30004</td>\n",
                            "      <td>5850.822</td>\n",
                            "      <td>967</td>\n",
                            "      <td>0.070000</td>\n",
                            "    </tr>\n",
                            "    <tr>\n",
                            "      <th>22</th>\n",
                            "      <td>HEALTH &amp; BEAUTY</td>\n",
                            "      <td>30002</td>\n",
                            "      <td>5129.045</td>\n",
                            "      <td>1028</td>\n",
                            "      <td>0.061268</td>\n",
                            "    </tr>\n",
                            "    <tr>\n",
                            "      <th>23</th>\n",
                            "      <td>HEALTH &amp; BEAUTY</td>\n",
                            "      <td>30003</td>\n",
                            "      <td>4347.531</td>\n",
                            "      <td>838</td>\n",
                            "      <td>0.052066</td>\n",
                            "    </tr>\n",
                            "    <tr>\n",
                            "      <th>17</th>\n",
                            "      <td>FOOD</td>\n",
                            "      <td>30027</td>\n",
                            "      <td>2986.452</td>\n",
                            "      <td>1627</td>\n",
                            "      <td>0.059350</td>\n",
                            "    </tr>\n",
                            "    <tr>\n",
                            "      <th>19</th>\n",
                            "      <td>FOOD</td>\n",
                            "      <td>30029</td>\n",
                            "      <td>2260.552</td>\n",
                            "      <td>1611</td>\n",
                            "      <td>0.048760</td>\n",
                            "    </tr>\n",
                            "  </tbody>\n",
                            "</table>\n",
                            "</div>"
                        ],
                        "text/plain": [
                            "   PRODUCT CATEGORY  PRODUCT NUM  total_spent  QUANTITY PURCHASED  \\\n",
                            "9       ELECTRONICS        30019   287032.326                5721   \n",
                            "12      ELECTRONICS        30022   271710.684                5294   \n",
                            "10      ELECTRONICS        30020   270412.876                5712   \n",
                            "7       ELECTRONICS        30017   267335.302                5645   \n",
                            "8       ELECTRONICS        30018   257041.100                5377   \n",
                            "11      ELECTRONICS        30021   253660.134                5065   \n",
                            "5           APPAREL        30015   179377.057                6526   \n",
                            "2           APPAREL        30012   142589.914                5376   \n",
                            "6           APPAREL        30016   135338.925                4953   \n",
                            "1           APPAREL        30011   124695.442                5244   \n",
                            "4           APPAREL        30014   122099.423                4863   \n",
                            "3           APPAREL        30013   117643.275                4725   \n",
                            "0           APPAREL        30010   115013.878                4881   \n",
                            "13             FOOD        30023    32036.592                5457   \n",
                            "14             FOOD        30024    25503.106                5393   \n",
                            "18             FOOD        30028    12300.500                1825   \n",
                            "16             FOOD        30026     7590.162                1733   \n",
                            "27  HEALTH & BEAUTY        30007     7567.950                1262   \n",
                            "28  HEALTH & BEAUTY        30008     6932.670                 809   \n",
                            "15             FOOD        30025     6709.978                1590   \n",
                            "20             FOOD        30030     6657.268                 908   \n",
                            "29  HEALTH & BEAUTY        30009     6508.176                1057   \n",
                            "21  HEALTH & BEAUTY        30001     6366.025                 927   \n",
                            "25  HEALTH & BEAUTY        30005     6156.467                 938   \n",
                            "26  HEALTH & BEAUTY        30006     5917.626                1046   \n",
                            "24  HEALTH & BEAUTY        30004     5850.822                 967   \n",
                            "22  HEALTH & BEAUTY        30002     5129.045                1028   \n",
                            "23  HEALTH & BEAUTY        30003     4347.531                 838   \n",
                            "17             FOOD        30027     2986.452                1627   \n",
                            "19             FOOD        30029     2260.552                1611   \n",
                            "\n",
                            "    average_discount  \n",
                            "9           0.063383  \n",
                            "12          0.053772  \n",
                            "10          0.067970  \n",
                            "7           0.065677  \n",
                            "8           0.072780  \n",
                            "11          0.063485  \n",
                            "5           0.069552  \n",
                            "2           0.067130  \n",
                            "6           0.066049  \n",
                            "1           0.063918  \n",
                            "4           0.059041  \n",
                            "3           0.067939  \n",
                            "0           0.067850  \n",
                            "13          0.072159  \n",
                            "14          0.054600  \n",
                            "18          0.075912  \n",
                            "16          0.071429  \n",
                            "27          0.077439  \n",
                            "28          0.046429  \n",
                            "15          0.060000  \n",
                            "20          0.077941  \n",
                            "29          0.060284  \n",
                            "21          0.080153  \n",
                            "25          0.081679  \n",
                            "26          0.091216  \n",
                            "24          0.070000  \n",
                            "22          0.061268  \n",
                            "23          0.052066  \n",
                            "17          0.059350  \n",
                            "19          0.048760  "
                        ]
                    },
                    "execution_count": 21,
                    "metadata": {},
                    "output_type": "execute_result"
                }
            ],
            "source": [
                "product_view.sort_values(['total_spent','QUANTITY PURCHASED'],ascending=False)"
            ]
        },
        {
            "cell_type": "markdown",
            "metadata": {},
            "source": [
                "# Let's generate here some visualization for the data to understand it."
            ]
        },
        {
            "cell_type": "markdown",
            "metadata": {},
            "source": [
                "# How Many males and females are enrolled in Loyalty"
            ]
        },
        {
            "cell_type": "code",
            "execution_count": 22,
            "metadata": {},
            "outputs": [],
            "source": [
                "table= pd.crosstab(customer_view['GENDER'],customer_view['LOYALTY GROUP'])"
            ]
        },
        {
            "cell_type": "code",
            "execution_count": 23,
            "metadata": {},
            "outputs": [
                {
                    "data": {
                        "image/png": "[encoded data removed]",
                        "text/plain": [
                            "<Figure size 432x288 with 1 Axes>"
                        ]
                    },
                    "metadata": {
                        "needs_background": "light"
                    },
                    "output_type": "display_data"
                }
            ],
            "source": [
                "table.div(table.sum(1).astype(float), axis=0).plot(kind='bar', stacked=True)\n",
                "plt.show()\n",
                "# Comment: the Gender field is not a strong predictor as the class label is 50% split among each gender type"
            ]
        },
        {
            "cell_type": "code",
            "execution_count": 24,
            "metadata": {},
            "outputs": [
                {
                    "data": {
                        "text/html": [
                            "<div>\n",
                            "<style scoped>\n",
                            "    .dataframe tbody tr th:only-of-type {\n",
                            "        vertical-align: middle;\n",
                            "    }\n",
                            "\n",
                            "    .dataframe tbody tr th {\n",
                            "        vertical-align: top;\n",
                            "    }\n",
                            "\n",
                            "    .dataframe thead th {\n",
                            "        text-align: right;\n",
                            "    }\n",
                            "</style>\n",
                            "<table border=\"1\" class=\"dataframe\">\n",
                            "  <thead>\n",
                            "    <tr style=\"text-align: right;\">\n",
                            "      <th>LOYALTY GROUP</th>\n",
                            "      <th>enrolled</th>\n",
                            "      <th>not enrolled</th>\n",
                            "    </tr>\n",
                            "    <tr>\n",
                            "      <th>GENDER</th>\n",
                            "      <th></th>\n",
                            "      <th></th>\n",
                            "    </tr>\n",
                            "  </thead>\n",
                            "  <tbody>\n",
                            "    <tr>\n",
                            "      <th>0</th>\n",
                            "      <td>131</td>\n",
                            "      <td>120</td>\n",
                            "    </tr>\n",
                            "    <tr>\n",
                            "      <th>1</th>\n",
                            "      <td>133</td>\n",
                            "      <td>116</td>\n",
                            "    </tr>\n",
                            "  </tbody>\n",
                            "</table>\n",
                            "</div>"
                        ],
                        "text/plain": [
                            "LOYALTY GROUP  enrolled  not enrolled\n",
                            "GENDER                               \n",
                            "0                   131           120\n",
                            "1                   133           116"
                        ]
                    },
                    "execution_count": 24,
                    "metadata": {},
                    "output_type": "execute_result"
                }
            ],
            "source": [
                "table"
            ]
        },
        {
            "cell_type": "markdown",
            "metadata": {},
            "source": [
                "# How many w.r.t.o marital status are enrolled into loyalty"
            ]
        },
        {
            "cell_type": "code",
            "execution_count": 25,
            "metadata": {},
            "outputs": [],
            "source": [
                "table= pd.crosstab(customer_view['MARITAL STATUS'],customer_view['LOYALTY GROUP'])"
            ]
        },
        {
            "cell_type": "code",
            "execution_count": 26,
            "metadata": {},
            "outputs": [
                {
                    "data": {
                        "image/png": "[encoded data removed]",
                        "text/plain": [
                            "<Figure size 432x288 with 1 Axes>"
                        ]
                    },
                    "metadata": {
                        "needs_background": "light"
                    },
                    "output_type": "display_data"
                }
            ],
            "source": [
                "table.div(table.sum(1).astype(float), axis=0).plot(kind='bar', stacked=True)\n",
                "plt.show()\n",
                "#Comment: the Marital Status is not a strong predictor as the class labels are nearly half split among each state"
            ]
        },
        {
            "cell_type": "code",
            "execution_count": 27,
            "metadata": {},
            "outputs": [
                {
                    "data": {
                        "text/html": [
                            "<div>\n",
                            "<style scoped>\n",
                            "    .dataframe tbody tr th:only-of-type {\n",
                            "        vertical-align: middle;\n",
                            "    }\n",
                            "\n",
                            "    .dataframe tbody tr th {\n",
                            "        vertical-align: top;\n",
                            "    }\n",
                            "\n",
                            "    .dataframe thead th {\n",
                            "        text-align: right;\n",
                            "    }\n",
                            "</style>\n",
                            "<table border=\"1\" class=\"dataframe\">\n",
                            "  <thead>\n",
                            "    <tr style=\"text-align: right;\">\n",
                            "      <th>LOYALTY GROUP</th>\n",
                            "      <th>enrolled</th>\n",
                            "      <th>not enrolled</th>\n",
                            "    </tr>\n",
                            "    <tr>\n",
                            "      <th>MARITAL STATUS</th>\n",
                            "      <th></th>\n",
                            "      <th></th>\n",
                            "    </tr>\n",
                            "  </thead>\n",
                            "  <tbody>\n",
                            "    <tr>\n",
                            "      <th>Divorced</th>\n",
                            "      <td>15</td>\n",
                            "      <td>22</td>\n",
                            "    </tr>\n",
                            "    <tr>\n",
                            "      <th>Married</th>\n",
                            "      <td>144</td>\n",
                            "      <td>123</td>\n",
                            "    </tr>\n",
                            "    <tr>\n",
                            "      <th>Single</th>\n",
                            "      <td>96</td>\n",
                            "      <td>84</td>\n",
                            "    </tr>\n",
                            "    <tr>\n",
                            "      <th>Widow/Widower</th>\n",
                            "      <td>9</td>\n",
                            "      <td>7</td>\n",
                            "    </tr>\n",
                            "  </tbody>\n",
                            "</table>\n",
                            "</div>"
                        ],
                        "text/plain": [
                            "LOYALTY GROUP   enrolled  not enrolled\n",
                            "MARITAL STATUS                        \n",
                            "Divorced              15            22\n",
                            "Married              144           123\n",
                            "Single                96            84\n",
                            "Widow/Widower          9             7"
                        ]
                    },
                    "execution_count": 27,
                    "metadata": {},
                    "output_type": "execute_result"
                }
            ],
            "source": [
                "table"
            ]
        },
        {
            "cell_type": "markdown",
            "metadata": {},
            "source": [
                "# Perform Binning of Age in the Customer View dataset"
            ]
        },
        {
            "cell_type": "code",
            "execution_count": 28,
            "metadata": {},
            "outputs": [],
            "source": [
                "customer_view['AGE_BINNED'] = pd.cut(customer_view['AGE'],20) # 10 bins of age"
            ]
        },
        {
            "cell_type": "code",
            "execution_count": 29,
            "metadata": {},
            "outputs": [
                {
                    "data": {
                        "text/html": [
                            "<div>\n",
                            "<style scoped>\n",
                            "    .dataframe tbody tr th:only-of-type {\n",
                            "        vertical-align: middle;\n",
                            "    }\n",
                            "\n",
                            "    .dataframe tbody tr th {\n",
                            "        vertical-align: top;\n",
                            "    }\n",
                            "\n",
                            "    .dataframe thead th {\n",
                            "        text-align: right;\n",
                            "    }\n",
                            "</style>\n",
                            "<table border=\"1\" class=\"dataframe\">\n",
                            "  <thead>\n",
                            "    <tr style=\"text-align: right;\">\n",
                            "      <th></th>\n",
                            "      <th>CUSTOMER NUM</th>\n",
                            "      <th>GENDER</th>\n",
                            "      <th>AGE</th>\n",
                            "      <th>INCOME</th>\n",
                            "      <th>EXPERIENCE SCORE</th>\n",
                            "      <th>LOYALTY GROUP</th>\n",
                            "      <th>HOUSEHOLD SIZE</th>\n",
                            "      <th>MARITAL STATUS</th>\n",
                            "      <th>total_spent</th>\n",
                            "      <th>purchase_count</th>\n",
                            "      <th>tx_count</th>\n",
                            "      <th>spent_pcntg_income</th>\n",
                            "      <th>AGE_BINNED</th>\n",
                            "    </tr>\n",
                            "  </thead>\n",
                            "  <tbody>\n",
                            "    <tr>\n",
                            "      <th>0</th>\n",
                            "      <td>10001</td>\n",
                            "      <td>0</td>\n",
                            "      <td>64</td>\n",
                            "      <td>133498</td>\n",
                            "      <td>5</td>\n",
                            "      <td>enrolled</td>\n",
                            "      <td>4</td>\n",
                            "      <td>Single</td>\n",
                            "      <td>6826.770</td>\n",
                            "      <td>396</td>\n",
                            "      <td>27</td>\n",
                            "      <td>5.113762</td>\n",
                            "      <td>(61.2, 64.8]</td>\n",
                            "    </tr>\n",
                            "    <tr>\n",
                            "      <th>1</th>\n",
                            "      <td>10002</td>\n",
                            "      <td>0</td>\n",
                            "      <td>42</td>\n",
                            "      <td>94475</td>\n",
                            "      <td>9</td>\n",
                            "      <td>not enrolled</td>\n",
                            "      <td>6</td>\n",
                            "      <td>Married</td>\n",
                            "      <td>5062.451</td>\n",
                            "      <td>202</td>\n",
                            "      <td>24</td>\n",
                            "      <td>5.358509</td>\n",
                            "      <td>(39.6, 43.2]</td>\n",
                            "    </tr>\n",
                            "    <tr>\n",
                            "      <th>2</th>\n",
                            "      <td>10003</td>\n",
                            "      <td>0</td>\n",
                            "      <td>40</td>\n",
                            "      <td>88610</td>\n",
                            "      <td>9</td>\n",
                            "      <td>enrolled</td>\n",
                            "      <td>5</td>\n",
                            "      <td>Married</td>\n",
                            "      <td>8562.440</td>\n",
                            "      <td>265</td>\n",
                            "      <td>23</td>\n",
                            "      <td>9.663063</td>\n",
                            "      <td>(39.6, 43.2]</td>\n",
                            "    </tr>\n",
                            "    <tr>\n",
                            "      <th>3</th>\n",
                            "      <td>10004</td>\n",
                            "      <td>0</td>\n",
                            "      <td>38</td>\n",
                            "      <td>84313</td>\n",
                            "      <td>8</td>\n",
                            "      <td>enrolled</td>\n",
                            "      <td>1</td>\n",
                            "      <td>Single</td>\n",
                            "      <td>5522.694</td>\n",
                            "      <td>197</td>\n",
                            "      <td>19</td>\n",
                            "      <td>6.550228</td>\n",
                            "      <td>(36.0, 39.6]</td>\n",
                            "    </tr>\n",
                            "    <tr>\n",
                            "      <th>4</th>\n",
                            "      <td>10005</td>\n",
                            "      <td>0</td>\n",
                            "      <td>30</td>\n",
                            "      <td>51498</td>\n",
                            "      <td>3</td>\n",
                            "      <td>not enrolled</td>\n",
                            "      <td>1</td>\n",
                            "      <td>Single</td>\n",
                            "      <td>213.512</td>\n",
                            "      <td>12</td>\n",
                            "      <td>2</td>\n",
                            "      <td>0.414603</td>\n",
                            "      <td>(28.8, 32.4]</td>\n",
                            "    </tr>\n",
                            "    <tr>\n",
                            "      <th>...</th>\n",
                            "      <td>...</td>\n",
                            "      <td>...</td>\n",
                            "      <td>...</td>\n",
                            "      <td>...</td>\n",
                            "      <td>...</td>\n",
                            "      <td>...</td>\n",
                            "      <td>...</td>\n",
                            "      <td>...</td>\n",
                            "      <td>...</td>\n",
                            "      <td>...</td>\n",
                            "      <td>...</td>\n",
                            "      <td>...</td>\n",
                            "      <td>...</td>\n",
                            "    </tr>\n",
                            "    <tr>\n",
                            "      <th>495</th>\n",
                            "      <td>10496</td>\n",
                            "      <td>0</td>\n",
                            "      <td>47</td>\n",
                            "      <td>113125</td>\n",
                            "      <td>7</td>\n",
                            "      <td>enrolled</td>\n",
                            "      <td>2</td>\n",
                            "      <td>Single</td>\n",
                            "      <td>8501.464</td>\n",
                            "      <td>309</td>\n",
                            "      <td>23</td>\n",
                            "      <td>7.515106</td>\n",
                            "      <td>(46.8, 50.4]</td>\n",
                            "    </tr>\n",
                            "    <tr>\n",
                            "      <th>496</th>\n",
                            "      <td>10497</td>\n",
                            "      <td>0</td>\n",
                            "      <td>49</td>\n",
                            "      <td>118108</td>\n",
                            "      <td>7</td>\n",
                            "      <td>enrolled</td>\n",
                            "      <td>1</td>\n",
                            "      <td>Single</td>\n",
                            "      <td>9903.658</td>\n",
                            "      <td>360</td>\n",
                            "      <td>27</td>\n",
                            "      <td>8.385256</td>\n",
                            "      <td>(46.8, 50.4]</td>\n",
                            "    </tr>\n",
                            "    <tr>\n",
                            "      <th>497</th>\n",
                            "      <td>10498</td>\n",
                            "      <td>0</td>\n",
                            "      <td>42</td>\n",
                            "      <td>97353</td>\n",
                            "      <td>8</td>\n",
                            "      <td>enrolled</td>\n",
                            "      <td>5</td>\n",
                            "      <td>Married</td>\n",
                            "      <td>6251.466</td>\n",
                            "      <td>337</td>\n",
                            "      <td>29</td>\n",
                            "      <td>6.421442</td>\n",
                            "      <td>(39.6, 43.2]</td>\n",
                            "    </tr>\n",
                            "    <tr>\n",
                            "      <th>498</th>\n",
                            "      <td>10499</td>\n",
                            "      <td>1</td>\n",
                            "      <td>22</td>\n",
                            "      <td>34424</td>\n",
                            "      <td>1</td>\n",
                            "      <td>not enrolled</td>\n",
                            "      <td>2</td>\n",
                            "      <td>Single</td>\n",
                            "      <td>20.010</td>\n",
                            "      <td>3</td>\n",
                            "      <td>2</td>\n",
                            "      <td>0.058128</td>\n",
                            "      <td>(21.6, 25.2]</td>\n",
                            "    </tr>\n",
                            "    <tr>\n",
                            "      <th>499</th>\n",
                            "      <td>10500</td>\n",
                            "      <td>1</td>\n",
                            "      <td>34</td>\n",
                            "      <td>75114</td>\n",
                            "      <td>9</td>\n",
                            "      <td>not enrolled</td>\n",
                            "      <td>3</td>\n",
                            "      <td>Divorced</td>\n",
                            "      <td>4182.032</td>\n",
                            "      <td>136</td>\n",
                            "      <td>20</td>\n",
                            "      <td>5.567580</td>\n",
                            "      <td>(32.4, 36.0]</td>\n",
                            "    </tr>\n",
                            "  </tbody>\n",
                            "</table>\n",
                            "<p>500 rows × 13 columns</p>\n",
                            "</div>"
                        ],
                        "text/plain": [
                            "     CUSTOMER NUM  GENDER  AGE  INCOME  EXPERIENCE SCORE LOYALTY GROUP  \\\n",
                            "0           10001       0   64  133498                 5      enrolled   \n",
                            "1           10002       0   42   94475                 9  not enrolled   \n",
                            "2           10003       0   40   88610                 9      enrolled   \n",
                            "3           10004       0   38   84313                 8      enrolled   \n",
                            "4           10005       0   30   51498                 3  not enrolled   \n",
                            "..            ...     ...  ...     ...               ...           ...   \n",
                            "495         10496       0   47  113125                 7      enrolled   \n",
                            "496         10497       0   49  118108                 7      enrolled   \n",
                            "497         10498       0   42   97353                 8      enrolled   \n",
                            "498         10499       1   22   34424                 1  not enrolled   \n",
                            "499         10500       1   34   75114                 9  not enrolled   \n",
                            "\n",
                            "     HOUSEHOLD SIZE MARITAL STATUS  total_spent  purchase_count  tx_count  \\\n",
                            "0                 4         Single     6826.770             396        27   \n",
                            "1                 6        Married     5062.451             202        24   \n",
                            "2                 5        Married     8562.440             265        23   \n",
                            "3                 1         Single     5522.694             197        19   \n",
                            "4                 1         Single      213.512              12         2   \n",
                            "..              ...            ...          ...             ...       ...   \n",
                            "495               2         Single     8501.464             309        23   \n",
                            "496               1         Single     9903.658             360        27   \n",
                            "497               5        Married     6251.466             337        29   \n",
                            "498               2         Single       20.010               3         2   \n",
                            "499               3       Divorced     4182.032             136        20   \n",
                            "\n",
                            "     spent_pcntg_income    AGE_BINNED  \n",
                            "0              5.113762  (61.2, 64.8]  \n",
                            "1              5.358509  (39.6, 43.2]  \n",
                            "2              9.663063  (39.6, 43.2]  \n",
                            "3              6.550228  (36.0, 39.6]  \n",
                            "4              0.414603  (28.8, 32.4]  \n",
                            "..                  ...           ...  \n",
                            "495            7.515106  (46.8, 50.4]  \n",
                            "496            8.385256  (46.8, 50.4]  \n",
                            "497            6.421442  (39.6, 43.2]  \n",
                            "498            0.058128  (21.6, 25.2]  \n",
                            "499            5.567580  (32.4, 36.0]  \n",
                            "\n",
                            "[500 rows x 13 columns]"
                        ]
                    },
                    "execution_count": 29,
                    "metadata": {},
                    "output_type": "execute_result"
                }
            ],
            "source": [
                "customer_view"
            ]
        },
        {
            "cell_type": "code",
            "execution_count": 30,
            "metadata": {},
            "outputs": [
                {
                    "data": {
                        "image/png": "[encoded data removed]",
                        "text/plain": [
                            "<Figure size 432x288 with 1 Axes>"
                        ]
                    },
                    "metadata": {
                        "needs_background": "light"
                    },
                    "output_type": "display_data"
                }
            ],
            "source": [
                "table= pd.crosstab(customer_view['AGE_BINNED'],customer_view['LOYALTY GROUP'])\n",
                "table.div(table.sum(1).astype(float), axis=0).plot(kind='bar', stacked=True)\n",
                "plt.show() \n",
                "### the figure below indicates that the Age could be a good contributor to classification"
            ]
        },
        {
            "cell_type": "code",
            "execution_count": 31,
            "metadata": {},
            "outputs": [],
            "source": [
                "#customer_view['INCOME'].describe()\n",
                "customer_view['INCOME_BINNED'] =pd.cut(customer_view['INCOME'],15)"
            ]
        },
        {
            "cell_type": "code",
            "execution_count": 32,
            "metadata": {},
            "outputs": [
                {
                    "data": {
                        "image/png": "[encoded data removed]",
                        "text/plain": [
                            "<Figure size 432x288 with 1 Axes>"
                        ]
                    },
                    "metadata": {
                        "needs_background": "light"
                    },
                    "output_type": "display_data"
                }
            ],
            "source": [
                "table= pd.crosstab(customer_view['INCOME_BINNED'],customer_view['LOYALTY GROUP'])\n",
                "table.div(table.sum(1).astype(float), axis=0).plot(kind='bar', stacked=True)\n",
                "plt.show() \n",
                "#the variation seen below i dicates that income could be a better contributor in classification"
            ]
        },
        {
            "cell_type": "code",
            "execution_count": 33,
            "metadata": {},
            "outputs": [
                {
                    "data": {
                        "image/png": "[encoded data removed]",
                        "text/plain": [
                            "<Figure size 432x288 with 1 Axes>"
                        ]
                    },
                    "metadata": {
                        "needs_background": "light"
                    },
                    "output_type": "display_data"
                }
            ],
            "source": [
                "table= pd.crosstab(customer_view['EXPERIENCE SCORE'],customer_view['LOYALTY GROUP'])\n",
                "table.div(table.sum(1).astype(float), axis=0).plot(kind='bar', stacked=True)\n",
                "plt.show()"
            ]
        },
        {
            "cell_type": "code",
            "execution_count": 34,
            "metadata": {},
            "outputs": [
                {
                    "data": {
                        "image/png": "[encoded data removed]",
                        "text/plain": [
                            "<Figure size 432x288 with 1 Axes>"
                        ]
                    },
                    "metadata": {
                        "needs_background": "light"
                    },
                    "output_type": "display_data"
                }
            ],
            "source": [
                "table= pd.crosstab(customer_view['HOUSEHOLD SIZE'],customer_view['LOYALTY GROUP'])\n",
                "table.div(table.sum(1).astype(float), axis=0).plot(kind='bar', stacked=True)\n",
                "plt.show()"
            ]
        },
        {
            "cell_type": "code",
            "execution_count": 35,
            "metadata": {},
            "outputs": [
                {
                    "data": {
                        "image/png": "[encoded data removed]",
                        "text/plain": [
                            "<Figure size 432x288 with 1 Axes>"
                        ]
                    },
                    "metadata": {
                        "needs_background": "light"
                    },
                    "output_type": "display_data"
                }
            ],
            "source": [
                "total_spent_binned=pd.cut(customer_view['total_spent'],20)\n",
                "table= pd.crosstab(total_spent_binned,customer_view['LOYALTY GROUP'])\n",
                "table.div(table.sum(1).astype(float), axis=0).plot(kind='bar', stacked=True)\n",
                "plt.show()"
            ]
        },
        {
            "cell_type": "code",
            "execution_count": 36,
            "metadata": {},
            "outputs": [
                {
                    "data": {
                        "image/png": "[encoded data removed]",
                        "text/plain": [
                            "<Figure size 432x288 with 1 Axes>"
                        ]
                    },
                    "metadata": {
                        "needs_background": "light"
                    },
                    "output_type": "display_data"
                }
            ],
            "source": [
                "Purchase_count_binned=pd.cut(customer_view['purchase_count'],10)\n",
                "table= pd.crosstab(Purchase_count_binned,customer_view['LOYALTY GROUP'])\n",
                "table.div(table.sum(1).astype(float), axis=0).plot(kind='bar', stacked=True)\n",
                "plt.show()"
            ]
        },
        {
            "cell_type": "code",
            "execution_count": 37,
            "metadata": {},
            "outputs": [
                {
                    "data": {
                        "image/png": "[encoded data removed]",
                        "text/plain": [
                            "<Figure size 432x288 with 1 Axes>"
                        ]
                    },
                    "metadata": {
                        "needs_background": "light"
                    },
                    "output_type": "display_data"
                }
            ],
            "source": [
                "spent_pcntg_income_binned=pd.cut(customer_view['spent_pcntg_income'],15)\n",
                "table= pd.crosstab(spent_pcntg_income_binned,customer_view['LOYALTY GROUP'])\n",
                "table.div(table.sum(1).astype(float), axis=0).plot(kind='bar', stacked=True)\n",
                "plt.show()"
            ]
        },
        {
            "cell_type": "markdown",
            "metadata": {},
            "source": [
                "# Relation between Age and product category sales"
            ]
        },
        {
            "cell_type": "code",
            "execution_count": 38,
            "metadata": {},
            "outputs": [
                {
                    "data": {
                        "image/png": "[encoded data removed]",
                        "text/plain": [
                            "<Figure size 720x360 with 1 Axes>"
                        ]
                    },
                    "metadata": {
                        "needs_background": "light"
                    },
                    "output_type": "display_data"
                }
            ],
            "source": [
                "#full_customer_TX_data.groupby(['AGE','INCOME']).agg({'PRODUCT CATEGORY':'count'})\n",
                "table= pd.crosstab(pd.cut(full_customer_TX_data['AGE'],20),full_customer_TX_data['PRODUCT CATEGORY'])\n",
                "\n",
                "table.div(table.sum(1).astype(float), axis=0).plot(kind='bar', stacked=True,figsize=(10,5))\n",
                "plt.show() \n",
                "\n",
                "#there is deficiency in sales of health and beauty products among ages>25\n",
                "#there is deficiency in sales of FOOD in ages between 18 years, 25 years"
            ]
        },
        {
            "cell_type": "code",
            "execution_count": 39,
            "metadata": {},
            "outputs": [
                {
                    "data": {
                        "text/html": [
                            "<div>\n",
                            "<style scoped>\n",
                            "    .dataframe tbody tr th:only-of-type {\n",
                            "        vertical-align: middle;\n",
                            "    }\n",
                            "\n",
                            "    .dataframe tbody tr th {\n",
                            "        vertical-align: top;\n",
                            "    }\n",
                            "\n",
                            "    .dataframe thead th {\n",
                            "        text-align: right;\n",
                            "    }\n",
                            "</style>\n",
                            "<table border=\"1\" class=\"dataframe\">\n",
                            "  <thead>\n",
                            "    <tr style=\"text-align: right;\">\n",
                            "      <th>PRODUCT CATEGORY</th>\n",
                            "      <th>APPAREL</th>\n",
                            "      <th>ELECTRONICS</th>\n",
                            "      <th>FOOD</th>\n",
                            "      <th>HEALTH &amp; BEAUTY</th>\n",
                            "    </tr>\n",
                            "    <tr>\n",
                            "      <th>AGE</th>\n",
                            "      <th></th>\n",
                            "      <th></th>\n",
                            "      <th></th>\n",
                            "      <th></th>\n",
                            "    </tr>\n",
                            "  </thead>\n",
                            "  <tbody>\n",
                            "    <tr>\n",
                            "      <th>(17.928, 21.6]</th>\n",
                            "      <td>266</td>\n",
                            "      <td>8</td>\n",
                            "      <td>5</td>\n",
                            "      <td>426</td>\n",
                            "    </tr>\n",
                            "    <tr>\n",
                            "      <th>(21.6, 25.2]</th>\n",
                            "      <td>280</td>\n",
                            "      <td>23</td>\n",
                            "      <td>17</td>\n",
                            "      <td>379</td>\n",
                            "    </tr>\n",
                            "    <tr>\n",
                            "      <th>(25.2, 28.8]</th>\n",
                            "      <td>264</td>\n",
                            "      <td>129</td>\n",
                            "      <td>66</td>\n",
                            "      <td>171</td>\n",
                            "    </tr>\n",
                            "    <tr>\n",
                            "      <th>(28.8, 32.4]</th>\n",
                            "      <td>439</td>\n",
                            "      <td>424</td>\n",
                            "      <td>130</td>\n",
                            "      <td>18</td>\n",
                            "    </tr>\n",
                            "    <tr>\n",
                            "      <th>(32.4, 36.0]</th>\n",
                            "      <td>519</td>\n",
                            "      <td>449</td>\n",
                            "      <td>174</td>\n",
                            "      <td>15</td>\n",
                            "    </tr>\n",
                            "    <tr>\n",
                            "      <th>(36.0, 39.6]</th>\n",
                            "      <td>339</td>\n",
                            "      <td>254</td>\n",
                            "      <td>90</td>\n",
                            "      <td>25</td>\n",
                            "    </tr>\n",
                            "    <tr>\n",
                            "      <th>(39.6, 43.2]</th>\n",
                            "      <td>534</td>\n",
                            "      <td>413</td>\n",
                            "      <td>162</td>\n",
                            "      <td>14</td>\n",
                            "    </tr>\n",
                            "    <tr>\n",
                            "      <th>(43.2, 46.8]</th>\n",
                            "      <td>354</td>\n",
                            "      <td>291</td>\n",
                            "      <td>89</td>\n",
                            "      <td>24</td>\n",
                            "    </tr>\n",
                            "    <tr>\n",
                            "      <th>(46.8, 50.4]</th>\n",
                            "      <td>250</td>\n",
                            "      <td>203</td>\n",
                            "      <td>74</td>\n",
                            "      <td>33</td>\n",
                            "    </tr>\n",
                            "    <tr>\n",
                            "      <th>(50.4, 54.0]</th>\n",
                            "      <td>258</td>\n",
                            "      <td>210</td>\n",
                            "      <td>75</td>\n",
                            "      <td>13</td>\n",
                            "    </tr>\n",
                            "    <tr>\n",
                            "      <th>(54.0, 57.6]</th>\n",
                            "      <td>73</td>\n",
                            "      <td>110</td>\n",
                            "      <td>76</td>\n",
                            "      <td>18</td>\n",
                            "    </tr>\n",
                            "    <tr>\n",
                            "      <th>(57.6, 61.2]</th>\n",
                            "      <td>35</td>\n",
                            "      <td>73</td>\n",
                            "      <td>95</td>\n",
                            "      <td>7</td>\n",
                            "    </tr>\n",
                            "    <tr>\n",
                            "      <th>(61.2, 64.8]</th>\n",
                            "      <td>50</td>\n",
                            "      <td>63</td>\n",
                            "      <td>105</td>\n",
                            "      <td>27</td>\n",
                            "    </tr>\n",
                            "    <tr>\n",
                            "      <th>(64.8, 68.4]</th>\n",
                            "      <td>47</td>\n",
                            "      <td>101</td>\n",
                            "      <td>104</td>\n",
                            "      <td>10</td>\n",
                            "    </tr>\n",
                            "    <tr>\n",
                            "      <th>(68.4, 72.0]</th>\n",
                            "      <td>29</td>\n",
                            "      <td>49</td>\n",
                            "      <td>75</td>\n",
                            "      <td>5</td>\n",
                            "    </tr>\n",
                            "    <tr>\n",
                            "      <th>(72.0, 75.6]</th>\n",
                            "      <td>24</td>\n",
                            "      <td>42</td>\n",
                            "      <td>62</td>\n",
                            "      <td>3</td>\n",
                            "    </tr>\n",
                            "    <tr>\n",
                            "      <th>(75.6, 79.2]</th>\n",
                            "      <td>41</td>\n",
                            "      <td>76</td>\n",
                            "      <td>86</td>\n",
                            "      <td>8</td>\n",
                            "    </tr>\n",
                            "    <tr>\n",
                            "      <th>(79.2, 82.8]</th>\n",
                            "      <td>23</td>\n",
                            "      <td>50</td>\n",
                            "      <td>51</td>\n",
                            "      <td>6</td>\n",
                            "    </tr>\n",
                            "    <tr>\n",
                            "      <th>(82.8, 86.4]</th>\n",
                            "      <td>40</td>\n",
                            "      <td>83</td>\n",
                            "      <td>89</td>\n",
                            "      <td>2</td>\n",
                            "    </tr>\n",
                            "    <tr>\n",
                            "      <th>(86.4, 90.0]</th>\n",
                            "      <td>49</td>\n",
                            "      <td>80</td>\n",
                            "      <td>110</td>\n",
                            "      <td>16</td>\n",
                            "    </tr>\n",
                            "  </tbody>\n",
                            "</table>\n",
                            "</div>"
                        ],
                        "text/plain": [
                            "PRODUCT CATEGORY  APPAREL  ELECTRONICS  FOOD  HEALTH & BEAUTY\n",
                            "AGE                                                          \n",
                            "(17.928, 21.6]        266            8     5              426\n",
                            "(21.6, 25.2]          280           23    17              379\n",
                            "(25.2, 28.8]          264          129    66              171\n",
                            "(28.8, 32.4]          439          424   130               18\n",
                            "(32.4, 36.0]          519          449   174               15\n",
                            "(36.0, 39.6]          339          254    90               25\n",
                            "(39.6, 43.2]          534          413   162               14\n",
                            "(43.2, 46.8]          354          291    89               24\n",
                            "(46.8, 50.4]          250          203    74               33\n",
                            "(50.4, 54.0]          258          210    75               13\n",
                            "(54.0, 57.6]           73          110    76               18\n",
                            "(57.6, 61.2]           35           73    95                7\n",
                            "(61.2, 64.8]           50           63   105               27\n",
                            "(64.8, 68.4]           47          101   104               10\n",
                            "(68.4, 72.0]           29           49    75                5\n",
                            "(72.0, 75.6]           24           42    62                3\n",
                            "(75.6, 79.2]           41           76    86                8\n",
                            "(79.2, 82.8]           23           50    51                6\n",
                            "(82.8, 86.4]           40           83    89                2\n",
                            "(86.4, 90.0]           49           80   110               16"
                        ]
                    },
                    "execution_count": 39,
                    "metadata": {},
                    "output_type": "execute_result"
                }
            ],
            "source": [
                "table"
            ]
        },
        {
            "cell_type": "markdown",
            "metadata": {},
            "source": [
                "# Relation between income and product category sales"
            ]
        },
        {
            "cell_type": "code",
            "execution_count": 40,
            "metadata": {},
            "outputs": [
                {
                    "data": {
                        "image/png": "[encoded data removed]",
                        "text/plain": [
                            "<Figure size 1440x360 with 1 Axes>"
                        ]
                    },
                    "metadata": {
                        "needs_background": "light"
                    },
                    "output_type": "display_data"
                }
            ],
            "source": [
                "table= pd.crosstab(pd.cut(full_customer_TX_data['INCOME'],15),full_customer_TX_data['PRODUCT CATEGORY'])\n",
                "\n",
                "table.div(table.sum(1).astype(float), axis=0).plot(kind='bar', stacked=True,figsize=(20,5))\n",
                "plt.show() \n",
                "\n",
                "#there is a deficiency in the sales of Electronics devices in Incomes between 20k-46K -> make discounts and more offers."
            ]
        },
        {
            "cell_type": "markdown",
            "metadata": {},
            "source": [
                "# Relation between marital status and product category sales"
            ]
        },
        {
            "cell_type": "code",
            "execution_count": 41,
            "metadata": {},
            "outputs": [
                {
                    "data": {
                        "image/png": "[encoded data removed]",
                        "text/plain": [
                            "<Figure size 1440x360 with 1 Axes>"
                        ]
                    },
                    "metadata": {
                        "needs_background": "light"
                    },
                    "output_type": "display_data"
                }
            ],
            "source": [
                "table= pd.crosstab(full_customer_TX_data['MARITAL STATUS'],full_customer_TX_data['PRODUCT CATEGORY'])\n",
                "\n",
                "table.div(table.sum(1).astype(float), axis=0).plot(kind='bar', stacked=True,figsize=(20,5))\n",
                "plt.show() \n"
            ]
        },
        {
            "cell_type": "markdown",
            "metadata": {},
            "source": [
                "# check input data for balance against target field (see if data is balanced with class labels, we have 2 class labels, it is idealy that the input train data for classification is balanced w.r.t.o count of records for each class labels.)"
            ]
        },
        {
            "cell_type": "code",
            "execution_count": 42,
            "metadata": {},
            "outputs": [
                {
                    "data": {
                        "text/plain": [
                            "count          500\n",
                            "unique           2\n",
                            "top       enrolled\n",
                            "freq           264\n",
                            "Name: LOYALTY GROUP, dtype: object"
                        ]
                    },
                    "execution_count": 42,
                    "metadata": {},
                    "output_type": "execute_result"
                }
            ],
            "source": [
                "customer_view['LOYALTY GROUP'].describe()\n",
                "# the data is slightly biased toward the class label (enrolled) however, we will leave it as it is and not remove  those e\n",
                "#any since the data amount is very small."
            ]
        },
        {
            "cell_type": "markdown",
            "metadata": {},
            "source": [
                "# Perform classification of end users with respect to loyalty group using"
            ]
        },
        {
            "cell_type": "code",
            "execution_count": 43,
            "metadata": {},
            "outputs": [],
            "source": [
                "drop_columns=['INCOME_BINNED','AGE_BINNED'] # drop the binned fields as their information gain is less than their unbinned parents\n",
                "customer_view = customer_view.drop(drop_columns,axis=1)# drop the Customer ID as it is a useless column"
            ]
        },
        {
            "cell_type": "markdown",
            "metadata": {},
            "source": [
                "# Calculate Entropy for input features with respect to class label"
            ]
        },
        {
            "cell_type": "code",
            "execution_count": 44,
            "metadata": {},
            "outputs": [],
            "source": [
                "#mutual_info_classif\n",
                "class_label=customer_view['LOYALTY GROUP']\n",
                "cols=['GENDER','AGE','INCOME','EXPERIENCE SCORE','HOUSEHOLD SIZE','MARITAL STATUS','total_spent','purchase_count','tx_count','spent_pcntg_income']\n",
                "input_fields=pd.get_dummies(customer_view[cols])\n",
                "gain_list=mutual_info_classif(input_fields,class_label, discrete_features=False)\n"
            ]
        },
        {
            "cell_type": "code",
            "execution_count": 45,
            "metadata": {},
            "outputs": [
                {
                    "data": {
                        "text/plain": [
                            "Index(['GENDER', 'AGE', 'INCOME', 'EXPERIENCE SCORE', 'HOUSEHOLD SIZE',\n",
                            "       'total_spent', 'purchase_count', 'tx_count', 'spent_pcntg_income',\n",
                            "       'MARITAL STATUS_Divorced', 'MARITAL STATUS_Married',\n",
                            "       'MARITAL STATUS_Single', 'MARITAL STATUS_Widow/Widower'],\n",
                            "      dtype='object')"
                        ]
                    },
                    "execution_count": 45,
                    "metadata": {},
                    "output_type": "execute_result"
                }
            ],
            "source": [
                "input_fields.columns"
            ]
        },
        {
            "cell_type": "code",
            "execution_count": 50,
            "metadata": {},
            "outputs": [],
            "source": [
                "list(gain_list)\n",
                "a= list(range(0,len(gain_list)))\n",
                "col1=[0,1,2,3,4,5,6,7,8,9,10,11,12]"
            ]
        },
        {
            "cell_type": "code",
            "execution_count": 51,
            "metadata": {},
            "outputs": [
                {
                    "data": {
                        "text/plain": [
                            "0.05802739710550952"
                        ]
                    },
                    "execution_count": 51,
                    "metadata": {},
                    "output_type": "execute_result"
                }
            ],
            "source": [
                "gain_list.mean()"
            ]
        },
        {
            "cell_type": "code",
            "execution_count": 52,
            "metadata": {},
            "outputs": [
                {
                    "data": {
                        "text/plain": [
                            "array([0.        , 0.03186066, 0.06862284, 0.13749541, 0.00769034,\n",
                            "       0.12306398, 0.16830155, 0.07298358, 0.13605482, 0.00690847,\n",
                            "       0.        , 0.00137451, 0.        ])"
                        ]
                    },
                    "execution_count": 52,
                    "metadata": {},
                    "output_type": "execute_result"
                }
            ],
            "source": [
                "gain_list"
            ]
        },
        {
            "cell_type": "code",
            "execution_count": 53,
            "metadata": {},
            "outputs": [
                {
                    "data": {
                        "image/png": "[encoded data removed]",
                        "text/plain": [
                            "<Figure size 2160x288 with 1 Axes>"
                        ]
                    },
                    "metadata": {
                        "needs_background": "light"
                    },
                    "output_type": "display_data"
                }
            ],
            "source": [
                "plt.xticks(col1,input_fields.columns,fontsize =10)\n",
                "plt.ylabel('Information Gain')\n",
                "plt.title('calculate_info_gain_for_input_features')\n",
                "plt.bar(a,list(gain_list),align=\"center\",alpha=0.5)\n",
                "fig = plt.gcf()\n",
                "fig.set_size_inches(30, 4)\n",
                "plt.show()\n",
                "\n"
            ]
        },
        {
            "cell_type": "code",
            "execution_count": 54,
            "metadata": {},
            "outputs": [
                {
                    "data": {
                        "image/png": "[encoded data removed]",
                        "text/plain": [
                            "<Figure size 14400x1440 with 1 Axes>"
                        ]
                    },
                    "metadata": {
                        "needs_background": "light"
                    },
                    "output_type": "display_data"
                }
            ],
            "source": [
                "table= pd.crosstab(customer_view['total_spent'],customer_view['LOYALTY GROUP'])\n",
                "table.div(table.sum(1).astype(float), axis=0).plot(kind='bar', stacked=True,figsize=(200,20))\n",
                "plt.show() # the figure below confirms that the total_spent derived field has high info gain"
            ]
        },
        {
            "cell_type": "markdown",
            "metadata": {},
            "source": [
                "# split the input data into train-test splits (80%-20% split)"
            ]
        },
        {
            "cell_type": "code",
            "execution_count": 55,
            "metadata": {},
            "outputs": [],
            "source": [
                "#train, test = train_test_split(pd.get_dummies(customer_view), test_size=0.2)\n",
                "cols=['INCOME','EXPERIENCE SCORE','LOYALTY GROUP','total_spent','purchase_count','tx_count','spent_pcntg_income']\n",
                "train, test = train_test_split(customer_view[cols], test_size=0.2)"
            ]
        },
        {
            "cell_type": "code",
            "execution_count": 56,
            "metadata": {},
            "outputs": [
                {
                    "data": {
                        "text/plain": [
                            "Index(['CUSTOMER NUM', 'GENDER', 'AGE', 'INCOME', 'EXPERIENCE SCORE',\n",
                            "       'LOYALTY GROUP', 'HOUSEHOLD SIZE', 'MARITAL STATUS', 'total_spent',\n",
                            "       'purchase_count', 'tx_count', 'spent_pcntg_income'],\n",
                            "      dtype='object')"
                        ]
                    },
                    "execution_count": 56,
                    "metadata": {},
                    "output_type": "execute_result"
                }
            ],
            "source": [
                "customer_view.columns"
            ]
        },
        {
            "cell_type": "code",
            "execution_count": 57,
            "metadata": {},
            "outputs": [
                {
                    "data": {
                        "text/plain": [
                            "Index(['INCOME', 'EXPERIENCE SCORE', 'LOYALTY GROUP', 'total_spent',\n",
                            "       'purchase_count', 'tx_count', 'spent_pcntg_income'],\n",
                            "      dtype='object')"
                        ]
                    },
                    "execution_count": 57,
                    "metadata": {},
                    "output_type": "execute_result"
                }
            ],
            "source": [
                "train.columns"
            ]
        },
        {
            "cell_type": "markdown",
            "metadata": {},
            "source": [
                "# separate the class labels from the test and train data"
            ]
        },
        {
            "cell_type": "code",
            "execution_count": 58,
            "metadata": {},
            "outputs": [],
            "source": [
                "train_class_label=train[['LOYALTY GROUP']].values \n",
                "train_class_label = train_class_label.ravel()\n",
                "train_features = train.drop('LOYALTY GROUP',axis=1)\n",
                "test_class_label=test[['LOYALTY GROUP']].values\n",
                "test_class_label = test_class_label.ravel()\n",
                "test_features = test.drop('LOYALTY GROUP',axis=1)\n"
            ]
        },
        {
            "cell_type": "code",
            "execution_count": 59,
            "metadata": {},
            "outputs": [
                {
                    "data": {
                        "text/html": [
                            "<div>\n",
                            "<style scoped>\n",
                            "    .dataframe tbody tr th:only-of-type {\n",
                            "        vertical-align: middle;\n",
                            "    }\n",
                            "\n",
                            "    .dataframe tbody tr th {\n",
                            "        vertical-align: top;\n",
                            "    }\n",
                            "\n",
                            "    .dataframe thead th {\n",
                            "        text-align: right;\n",
                            "    }\n",
                            "</style>\n",
                            "<table border=\"1\" class=\"dataframe\">\n",
                            "  <thead>\n",
                            "    <tr style=\"text-align: right;\">\n",
                            "      <th></th>\n",
                            "      <th>0</th>\n",
                            "    </tr>\n",
                            "  </thead>\n",
                            "  <tbody>\n",
                            "    <tr>\n",
                            "      <th>count</th>\n",
                            "      <td>100</td>\n",
                            "    </tr>\n",
                            "    <tr>\n",
                            "      <th>unique</th>\n",
                            "      <td>2</td>\n",
                            "    </tr>\n",
                            "    <tr>\n",
                            "      <th>top</th>\n",
                            "      <td>not enrolled</td>\n",
                            "    </tr>\n",
                            "    <tr>\n",
                            "      <th>freq</th>\n",
                            "      <td>57</td>\n",
                            "    </tr>\n",
                            "  </tbody>\n",
                            "</table>\n",
                            "</div>"
                        ],
                        "text/plain": [
                            "                   0\n",
                            "count            100\n",
                            "unique             2\n",
                            "top     not enrolled\n",
                            "freq              57"
                        ]
                    },
                    "execution_count": 59,
                    "metadata": {},
                    "output_type": "execute_result"
                }
            ],
            "source": [
                "pd.DataFrame(test_class_label).describe()\n"
            ]
        },
        {
            "cell_type": "markdown",
            "metadata": {},
            "source": [
                "# perform One Hot Encoding for categorical features and convert them into continious values"
            ]
        },
        {
            "cell_type": "code",
            "execution_count": 60,
            "metadata": {},
            "outputs": [],
            "source": [
                "#train_features=pd.get_dummies(train_features)\n",
                "#test_features=pd.get_dummies(test_features)"
            ]
        },
        {
            "cell_type": "markdown",
            "metadata": {},
            "source": [
                "# Perform Normalization"
            ]
        },
        {
            "cell_type": "code",
            "execution_count": 61,
            "metadata": {},
            "outputs": [
                {
                    "data": {
                        "text/plain": [
                            "numpy.ndarray"
                        ]
                    },
                    "execution_count": 61,
                    "metadata": {},
                    "output_type": "execute_result"
                }
            ],
            "source": [
                "type(train_class_label)"
            ]
        },
        {
            "cell_type": "code",
            "execution_count": 62,
            "metadata": {},
            "outputs": [],
            "source": [
                "X_train_np=preprocessing.minmax_scale(train_features)\n",
                "X_test_np=preprocessing.minmax_scale(test_features)\n",
                "#train_features=pd.DataFrame(X_train_np)\n",
                "#test_features=pd.DataFrame(X_test_np)"
            ]
        },
        {
            "cell_type": "code",
            "execution_count": 63,
            "metadata": {},
            "outputs": [
                {
                    "data": {
                        "text/html": [
                            "<div>\n",
                            "<style scoped>\n",
                            "    .dataframe tbody tr th:only-of-type {\n",
                            "        vertical-align: middle;\n",
                            "    }\n",
                            "\n",
                            "    .dataframe tbody tr th {\n",
                            "        vertical-align: top;\n",
                            "    }\n",
                            "\n",
                            "    .dataframe thead th {\n",
                            "        text-align: right;\n",
                            "    }\n",
                            "</style>\n",
                            "<table border=\"1\" class=\"dataframe\">\n",
                            "  <thead>\n",
                            "    <tr style=\"text-align: right;\">\n",
                            "      <th></th>\n",
                            "      <th>LOYALTY GROUP</th>\n",
                            "    </tr>\n",
                            "  </thead>\n",
                            "  <tbody>\n",
                            "    <tr>\n",
                            "      <th>count</th>\n",
                            "      <td>400</td>\n",
                            "    </tr>\n",
                            "    <tr>\n",
                            "      <th>unique</th>\n",
                            "      <td>2</td>\n",
                            "    </tr>\n",
                            "    <tr>\n",
                            "      <th>top</th>\n",
                            "      <td>enrolled</td>\n",
                            "    </tr>\n",
                            "    <tr>\n",
                            "      <th>freq</th>\n",
                            "      <td>221</td>\n",
                            "    </tr>\n",
                            "  </tbody>\n",
                            "</table>\n",
                            "</div>"
                        ],
                        "text/plain": [
                            "       LOYALTY GROUP\n",
                            "count            400\n",
                            "unique             2\n",
                            "top         enrolled\n",
                            "freq             221"
                        ]
                    },
                    "execution_count": 63,
                    "metadata": {},
                    "output_type": "execute_result"
                }
            ],
            "source": [
                "train[['LOYALTY GROUP']].describe()"
            ]
        },
        {
            "cell_type": "markdown",
            "metadata": {},
            "source": [
                "# Classify using SVM "
            ]
        },
        {
            "cell_type": "code",
            "execution_count": 66,
            "metadata": {},
            "outputs": [
                {
                    "name": "stdout",
                    "output_type": "stream",
                    "text": [
                        "Wall time: 103 ms\n"
                    ]
                },
                {
                    "name": "stderr",
                    "output_type": "stream",
                    "text": [
                        "C:\\IDE\\Anaconda3\\envs\\python38\\lib\\site-packages\\sklearn\\svm\\_base.py:246: ConvergenceWarning: Solver terminated early (max_iter=200).  Consider pre-processing your data with StandardScaler or MinMaxScaler.\n",
                        "  warnings.warn('Solver terminated early (max_iter=%i).'\n"
                    ]
                },
                {
                    "data": {
                        "text/plain": [
                            "SVC(max_iter=200)"
                        ]
                    },
                    "execution_count": 66,
                    "metadata": {},
                    "output_type": "execute_result"
                }
            ],
            "source": [
                "clf = svm.SVC(kernel='rbf',max_iter=200)\n",
                "%time clf.fit(X_train_np, train_class_label)"
            ]
        },
        {
            "cell_type": "code",
            "execution_count": 67,
            "metadata": {},
            "outputs": [
                {
                    "data": {
                        "text/plain": [
                            "0.77"
                        ]
                    },
                    "execution_count": 67,
                    "metadata": {},
                    "output_type": "execute_result"
                }
            ],
            "source": [
                "clf.score(X_test_np,test_class_label)"
            ]
        },
        {
            "cell_type": "code",
            "execution_count": 70,
            "metadata": {},
            "outputs": [
                {
                    "name": "stdout",
                    "output_type": "stream",
                    "text": [
                        "Wall time: 4 ms\n"
                    ]
                },
                {
                    "name": "stderr",
                    "output_type": "stream",
                    "text": [
                        "C:\\IDE\\Anaconda3\\envs\\python38\\lib\\site-packages\\sklearn\\svm\\_base.py:246: ConvergenceWarning: Solver terminated early (max_iter=200).  Consider pre-processing your data with StandardScaler or MinMaxScaler.\n",
                        "  warnings.warn('Solver terminated early (max_iter=%i).'\n"
                    ]
                },
                {
                    "data": {
                        "text/plain": [
                            "SVC(kernel='linear', max_iter=200)"
                        ]
                    },
                    "execution_count": 70,
                    "metadata": {},
                    "output_type": "execute_result"
                }
            ],
            "source": [
                "clf_lin = svm.SVC(kernel='linear',max_iter=200)\n",
                "%time clf_lin.fit(X_train_np, train_class_label)"
            ]
        },
        {
            "cell_type": "code",
            "execution_count": 71,
            "metadata": {},
            "outputs": [
                {
                    "data": {
                        "text/plain": [
                            "0.67"
                        ]
                    },
                    "execution_count": 71,
                    "metadata": {},
                    "output_type": "execute_result"
                }
            ],
            "source": [
                "clf_lin.score(X_test_np,test_class_label)"
            ]
        },
        {
            "cell_type": "code",
            "execution_count": 72,
            "metadata": {},
            "outputs": [],
            "source": [
                "predicted_class_label=clf.predict(X_test_np)"
            ]
        },
        {
            "cell_type": "code",
            "execution_count": 73,
            "metadata": {},
            "outputs": [],
            "source": [
                "cnf_mtrx=confusion_matrix(predicted_class_label,test_class_label,labels=['not enrolled','enrolled'])"
            ]
        },
        {
            "cell_type": "code",
            "execution_count": 74,
            "metadata": {},
            "outputs": [
                {
                    "data": {
                        "text/plain": [
                            "100"
                        ]
                    },
                    "execution_count": 74,
                    "metadata": {},
                    "output_type": "execute_result"
                }
            ],
            "source": [
                "len(predicted_class_label)"
            ]
        },
        {
            "cell_type": "markdown",
            "metadata": {},
            "source": [
                "# Plotting Confusion Matrix"
            ]
        },
        {
            "cell_type": "code",
            "execution_count": 75,
            "metadata": {},
            "outputs": [],
            "source": [
                "def plot_confusion_matrix(cm, classes,\n",
                "                          normalize=False,\n",
                "                          title='Confusion matrix',\n",
                "                          cmap=plt.cm.Blues):\n",
                "    \"\"\"\n",
                "    This function prints and plots the confusion matrix.\n",
                "    Normalization can be applied by setting `normalize=True`.\n",
                "    \"\"\"\n",
                "    if normalize:\n",
                "        cm = cm.astype('float') / cm.sum(axis=1)[:, np.newaxis]\n",
                "        print(\"Normalized confusion matrix\")\n",
                "    else:\n",
                "        print('Confusion matrix, without normalization')\n",
                "\n",
                "    print(cm)\n",
                "\n",
                "    plt.imshow(cm, interpolation='nearest', cmap=cmap)\n",
                "    plt.title(title)\n",
                "    plt.colorbar()\n",
                "    tick_marks = np.arange(len(classes))\n",
                "    plt.xticks(tick_marks, classes, rotation=45)\n",
                "    plt.yticks(tick_marks, classes)\n",
                "\n",
                "    fmt = '.2f' if normalize else 'd'\n",
                "    thresh = cm.max() / 2.\n",
                "    for i, j in itertools.product(range(cm.shape[0]), range(cm.shape[1])):\n",
                "        plt.text(j, i, format(cm[i, j], fmt),\n",
                "                 horizontalalignment=\"center\",\n",
                "                 color=\"white\" if cm[i, j] > thresh else \"black\")\n",
                "\n",
                "    plt.tight_layout()\n",
                "    plt.ylabel('True label')\n",
                "    plt.xlabel('Predicted label')"
            ]
        },
        {
            "cell_type": "code",
            "execution_count": 76,
            "metadata": {},
            "outputs": [
                {
                    "name": "stdout",
                    "output_type": "stream",
                    "text": [
                        "Confusion matrix, without normalization\n",
                        "[[34  0]\n",
                        " [23 43]]\n"
                    ]
                },
                {
                    "data": {
                        "image/png": "[encoded data removed]",
                        "text/plain": [
                            "<Figure size 432x288 with 2 Axes>"
                        ]
                    },
                    "metadata": {
                        "needs_background": "light"
                    },
                    "output_type": "display_data"
                }
            ],
            "source": [
                "class_labels=['enrolled','not enrolled']\n",
                "plot_confusion_matrix(cnf_mtrx, classes=class_labels, normalize=False,title='Normalized confusion matrix')"
            ]
        },
        {
            "cell_type": "markdown",
            "metadata": {},
            "source": [
                "# Perform Segmentation for all customer base"
            ]
        },
        {
            "cell_type": "markdown",
            "metadata": {},
            "source": [
                "# 1- Using KMeans"
            ]
        },
        {
            "cell_type": "code",
            "execution_count": 77,
            "metadata": {},
            "outputs": [],
            "source": [
                "from sklearn.cluster import KMeans"
            ]
        },
        {
            "cell_type": "markdown",
            "metadata": {},
            "source": [
                "# Transform encode categorical features and convert continious variables to Normal scale and "
            ]
        },
        {
            "cell_type": "code",
            "execution_count": 78,
            "metadata": {},
            "outputs": [],
            "source": [
                "cols=['INCOME','EXPERIENCE SCORE','HOUSEHOLD SIZE','total_spent',\\\n",
                "      'purchase_count', 'tx_count', 'spent_pcntg_income']\n",
                "continious_cust_view = pd.get_dummies(customer_view[cols])\n",
                "continious_cust_view=preprocessing.minmax_scale(continious_cust_view)"
            ]
        },
        {
            "cell_type": "code",
            "execution_count": 79,
            "metadata": {},
            "outputs": [],
            "source": [
                "#new_derived_data_to_apply_clustering for\n",
                "custo_product = pd.DataFrame(full_customer_TX_data.groupby(['CUSTOMER NUM','PRODUCT CATEGORY']).agg({'QUANTITY PURCHASED':'sum'}).to_records())\n",
                "custo_product = pd.pivot_table(custo_product,values='QUANTITY PURCHASED',index='CUSTOMER NUM',columns='PRODUCT CATEGORY',aggfunc=np.sum).fillna(0)"
            ]
        },
        {
            "cell_type": "code",
            "execution_count": null,
            "metadata": {},
            "outputs": [],
            "source": []
        },
        {
            "cell_type": "markdown",
            "metadata": {},
            "source": [
                "# Loop to get the best number of clusters"
            ]
        },
        {
            "cell_type": "code",
            "execution_count": 80,
            "metadata": {},
            "outputs": [],
            "source": [
                "#getting the best K \n",
                "# getting the K against the last abrubt change in the curve\n",
                "cost_list=[]\n",
                "for k in range(1,10):\n",
                "    kmeans = KMeans(n_clusters=k)\n",
                "    kmeans.fit(custo_product)\n",
                "    cost_list.append(kmeans.inertia_)\n",
                "diff_list=[]\n",
                "for i in (range(0,len(cost_list)-1)):\n",
                "    diff_list.append(cost_list[i+1]-cost_list[i])\n",
                "    \n",
                "    "
            ]
        },
        {
            "cell_type": "code",
            "execution_count": 81,
            "metadata": {},
            "outputs": [
                {
                    "data": {
                        "text/plain": [
                            "[4143289.3199999942,\n",
                            " 2797558.484574289,\n",
                            " 1791962.0683097914,\n",
                            " 1325687.5394773579,\n",
                            " 1160516.958983408,\n",
                            " 1035333.429521675,\n",
                            " 915050.2874248615,\n",
                            " 824586.9326995689,\n",
                            " 763270.77647588]"
                        ]
                    },
                    "execution_count": 81,
                    "metadata": {},
                    "output_type": "execute_result"
                }
            ],
            "source": [
                "cost_list"
            ]
        },
        {
            "cell_type": "code",
            "execution_count": 82,
            "metadata": {},
            "outputs": [
                {
                    "data": {
                        "text/plain": [
                            "[-1345730.8354257052,\n",
                            " -1005596.4162644977,\n",
                            " -466274.5288324335,\n",
                            " -165170.58049394982,\n",
                            " -125183.52946173307,\n",
                            " -120283.14209681354,\n",
                            " -90463.35472529253,\n",
                            " -61316.15622368897]"
                        ]
                    },
                    "execution_count": 82,
                    "metadata": {},
                    "output_type": "execute_result"
                }
            ],
            "source": [
                "diff_list"
            ]
        },
        {
            "cell_type": "code",
            "execution_count": 83,
            "metadata": {},
            "outputs": [
                {
                    "data": {
                        "image/png": "[encoded data removed]",
                        "text/plain": [
                            "<Figure size 432x288 with 1 Axes>"
                        ]
                    },
                    "metadata": {
                        "needs_background": "light"
                    },
                    "output_type": "display_data"
                }
            ],
            "source": [
                "index = list(range(0,len(cost_list)))\n",
                "plt.plot(index,cost_list)\n",
                "plt.xticks(index)\n",
                "plt.show()\n",
                "#Best K from the diff_list is 3 and from the graph is 3 as at K=3 the graph experiences the last abrubt change.\n",
                "#(elbow graph)\n"
            ]
        },
        {
            "cell_type": "code",
            "execution_count": null,
            "metadata": {},
            "outputs": [],
            "source": [
                "\n"
            ]
        },
        {
            "cell_type": "markdown",
            "metadata": {},
            "source": [
                "# segmenting the customers according to the best K"
            ]
        },
        {
            "cell_type": "code",
            "execution_count": 84,
            "metadata": {},
            "outputs": [],
            "source": [
                "#Best K=3\n",
                "kmeans = KMeans(n_clusters=3)\n",
                "kmeans.fit(custo_product)\n",
                "class_labels_kmeans=kmeans.predict(custo_product)"
            ]
        },
        {
            "cell_type": "code",
            "execution_count": 85,
            "metadata": {},
            "outputs": [],
            "source": [
                "\n",
                "customer_view['customer_segment']=class_labels_kmeans"
            ]
        },
        {
            "cell_type": "code",
            "execution_count": 86,
            "metadata": {},
            "outputs": [],
            "source": [
                "custo_product['customer_segment']=class_labels_kmeans"
            ]
        },
        {
            "cell_type": "code",
            "execution_count": 87,
            "metadata": {},
            "outputs": [],
            "source": [
                "cluster_profile=custo_product.groupby('customer_segment').agg({'APPAREL':'mean', 'ELECTRONICS':'mean', 'FOOD':'mean','HEALTH & BEAUTY':'mean'})\n"
            ]
        },
        {
            "cell_type": "code",
            "execution_count": 88,
            "metadata": {},
            "outputs": [
                {
                    "data": {
                        "text/html": [
                            "<div>\n",
                            "<style scoped>\n",
                            "    .dataframe tbody tr th:only-of-type {\n",
                            "        vertical-align: middle;\n",
                            "    }\n",
                            "\n",
                            "    .dataframe tbody tr th {\n",
                            "        vertical-align: top;\n",
                            "    }\n",
                            "\n",
                            "    .dataframe thead th {\n",
                            "        text-align: right;\n",
                            "    }\n",
                            "</style>\n",
                            "<table border=\"1\" class=\"dataframe\">\n",
                            "  <thead>\n",
                            "    <tr style=\"text-align: right;\">\n",
                            "      <th></th>\n",
                            "      <th>APPAREL</th>\n",
                            "      <th>ELECTRONICS</th>\n",
                            "      <th>FOOD</th>\n",
                            "      <th>HEALTH &amp; BEAUTY</th>\n",
                            "    </tr>\n",
                            "    <tr>\n",
                            "      <th>customer_segment</th>\n",
                            "      <th></th>\n",
                            "      <th></th>\n",
                            "      <th></th>\n",
                            "      <th></th>\n",
                            "    </tr>\n",
                            "  </thead>\n",
                            "  <tbody>\n",
                            "    <tr>\n",
                            "      <th>0</th>\n",
                            "      <td>96.751799</td>\n",
                            "      <td>81.881295</td>\n",
                            "      <td>25.964029</td>\n",
                            "      <td>2.697842</td>\n",
                            "    </tr>\n",
                            "    <tr>\n",
                            "      <th>1</th>\n",
                            "      <td>41.204545</td>\n",
                            "      <td>5.916667</td>\n",
                            "      <td>3.969697</td>\n",
                            "      <td>54.325758</td>\n",
                            "    </tr>\n",
                            "    <tr>\n",
                            "      <th>2</th>\n",
                            "      <td>47.022222</td>\n",
                            "      <td>103.000000</td>\n",
                            "      <td>137.800000</td>\n",
                            "      <td>10.566667</td>\n",
                            "    </tr>\n",
                            "  </tbody>\n",
                            "</table>\n",
                            "</div>"
                        ],
                        "text/plain": [
                            "                    APPAREL  ELECTRONICS        FOOD  HEALTH & BEAUTY\n",
                            "customer_segment                                                     \n",
                            "0                 96.751799    81.881295   25.964029         2.697842\n",
                            "1                 41.204545     5.916667    3.969697        54.325758\n",
                            "2                 47.022222   103.000000  137.800000        10.566667"
                        ]
                    },
                    "execution_count": 88,
                    "metadata": {},
                    "output_type": "execute_result"
                }
            ],
            "source": [
                "cluster_profile"
            ]
        },
        {
            "cell_type": "code",
            "execution_count": 89,
            "metadata": {},
            "outputs": [],
            "source": [
                "cluster_profile['FOOD']=preprocessing.minmax_scale(cluster_profile['FOOD'])\n",
                "cluster_profile['ELECTRONICS']=preprocessing.minmax_scale(cluster_profile['ELECTRONICS'])\n",
                "cluster_profile['HEALTH & BEAUTY']=preprocessing.minmax_scale(cluster_profile['HEALTH & BEAUTY'])\n",
                "cluster_profile['APPAREL']=preprocessing.minmax_scale(cluster_profile['APPAREL'])\n"
            ]
        },
        {
            "cell_type": "code",
            "execution_count": 90,
            "metadata": {},
            "outputs": [
                {
                    "data": {
                        "text/html": [
                            "<div>\n",
                            "<style scoped>\n",
                            "    .dataframe tbody tr th:only-of-type {\n",
                            "        vertical-align: middle;\n",
                            "    }\n",
                            "\n",
                            "    .dataframe tbody tr th {\n",
                            "        vertical-align: top;\n",
                            "    }\n",
                            "\n",
                            "    .dataframe thead th {\n",
                            "        text-align: right;\n",
                            "    }\n",
                            "</style>\n",
                            "<table border=\"1\" class=\"dataframe\">\n",
                            "  <thead>\n",
                            "    <tr style=\"text-align: right;\">\n",
                            "      <th></th>\n",
                            "      <th>APPAREL</th>\n",
                            "      <th>ELECTRONICS</th>\n",
                            "      <th>FOOD</th>\n",
                            "      <th>HEALTH &amp; BEAUTY</th>\n",
                            "    </tr>\n",
                            "    <tr>\n",
                            "      <th>customer_segment</th>\n",
                            "      <th></th>\n",
                            "      <th></th>\n",
                            "      <th></th>\n",
                            "      <th></th>\n",
                            "    </tr>\n",
                            "  </thead>\n",
                            "  <tbody>\n",
                            "    <tr>\n",
                            "      <th>0</th>\n",
                            "      <td>1.000000</td>\n",
                            "      <td>0.782468</td>\n",
                            "      <td>0.164345</td>\n",
                            "      <td>0.000000</td>\n",
                            "    </tr>\n",
                            "    <tr>\n",
                            "      <th>1</th>\n",
                            "      <td>0.000000</td>\n",
                            "      <td>0.000000</td>\n",
                            "      <td>0.000000</td>\n",
                            "      <td>1.000000</td>\n",
                            "    </tr>\n",
                            "    <tr>\n",
                            "      <th>2</th>\n",
                            "      <td>0.104734</td>\n",
                            "      <td>1.000000</td>\n",
                            "      <td>1.000000</td>\n",
                            "      <td>0.152414</td>\n",
                            "    </tr>\n",
                            "  </tbody>\n",
                            "</table>\n",
                            "</div>"
                        ],
                        "text/plain": [
                            "                   APPAREL  ELECTRONICS      FOOD  HEALTH & BEAUTY\n",
                            "customer_segment                                                  \n",
                            "0                 1.000000     0.782468  0.164345         0.000000\n",
                            "1                 0.000000     0.000000  0.000000         1.000000\n",
                            "2                 0.104734     1.000000  1.000000         0.152414"
                        ]
                    },
                    "execution_count": 90,
                    "metadata": {},
                    "output_type": "execute_result"
                }
            ],
            "source": [
                "cluster_profile"
            ]
        },
        {
            "cell_type": "code",
            "execution_count": 91,
            "metadata": {},
            "outputs": [],
            "source": [
                "#customer profiles:\n",
                "#people who buy the same categories are grouped together as:\n",
                "#0- Apparel and Electronics and Food Products and Health and Beauty\n",
                "#1- Apparell and Electronics and Food Products\n",
                "#2- Health and Beauty"
            ]
        },
        {
            "cell_type": "code",
            "execution_count": 92,
            "metadata": {},
            "outputs": [
                {
                    "data": {
                        "text/html": [
                            "<div>\n",
                            "<style scoped>\n",
                            "    .dataframe tbody tr th:only-of-type {\n",
                            "        vertical-align: middle;\n",
                            "    }\n",
                            "\n",
                            "    .dataframe tbody tr th {\n",
                            "        vertical-align: top;\n",
                            "    }\n",
                            "\n",
                            "    .dataframe thead th {\n",
                            "        text-align: right;\n",
                            "    }\n",
                            "</style>\n",
                            "<table border=\"1\" class=\"dataframe\">\n",
                            "  <thead>\n",
                            "    <tr style=\"text-align: right;\">\n",
                            "      <th></th>\n",
                            "      <th>AGE</th>\n",
                            "    </tr>\n",
                            "    <tr>\n",
                            "      <th>customer_segment</th>\n",
                            "      <th></th>\n",
                            "    </tr>\n",
                            "  </thead>\n",
                            "  <tbody>\n",
                            "    <tr>\n",
                            "      <th>0</th>\n",
                            "      <td>278</td>\n",
                            "    </tr>\n",
                            "    <tr>\n",
                            "      <th>1</th>\n",
                            "      <td>132</td>\n",
                            "    </tr>\n",
                            "    <tr>\n",
                            "      <th>2</th>\n",
                            "      <td>90</td>\n",
                            "    </tr>\n",
                            "  </tbody>\n",
                            "</table>\n",
                            "</div>"
                        ],
                        "text/plain": [
                            "                  AGE\n",
                            "customer_segment     \n",
                            "0                 278\n",
                            "1                 132\n",
                            "2                  90"
                        ]
                    },
                    "execution_count": 92,
                    "metadata": {},
                    "output_type": "execute_result"
                }
            ],
            "source": [
                "customer_view.groupby(['customer_segment']).agg({'AGE':'count'})"
            ]
        },
        {
            "cell_type": "code",
            "execution_count": 93,
            "metadata": {},
            "outputs": [
                {
                    "data": {
                        "text/html": [
                            "<div>\n",
                            "<style scoped>\n",
                            "    .dataframe tbody tr th:only-of-type {\n",
                            "        vertical-align: middle;\n",
                            "    }\n",
                            "\n",
                            "    .dataframe tbody tr th {\n",
                            "        vertical-align: top;\n",
                            "    }\n",
                            "\n",
                            "    .dataframe thead th {\n",
                            "        text-align: right;\n",
                            "    }\n",
                            "</style>\n",
                            "<table border=\"1\" class=\"dataframe\">\n",
                            "  <thead>\n",
                            "    <tr style=\"text-align: right;\">\n",
                            "      <th></th>\n",
                            "      <th>total_spent</th>\n",
                            "      <th>AGE</th>\n",
                            "      <th>INCOME</th>\n",
                            "      <th>HOUSEHOLD SIZE</th>\n",
                            "      <th>spent_pcntg_income</th>\n",
                            "      <th>purchase_count</th>\n",
                            "      <th>GENDER</th>\n",
                            "    </tr>\n",
                            "    <tr>\n",
                            "      <th>customer_segment</th>\n",
                            "      <th></th>\n",
                            "      <th></th>\n",
                            "      <th></th>\n",
                            "      <th></th>\n",
                            "      <th></th>\n",
                            "      <th></th>\n",
                            "      <th></th>\n",
                            "    </tr>\n",
                            "  </thead>\n",
                            "  <tbody>\n",
                            "    <tr>\n",
                            "      <th>0</th>\n",
                            "      <td>6637.829266</td>\n",
                            "      <td>41.071942</td>\n",
                            "      <td>89846.503597</td>\n",
                            "      <td>3.316547</td>\n",
                            "      <td>7.625865</td>\n",
                            "      <td>207.294964</td>\n",
                            "      <td>0.489209</td>\n",
                            "    </tr>\n",
                            "    <tr>\n",
                            "      <th>1</th>\n",
                            "      <td>1700.825008</td>\n",
                            "      <td>26.795455</td>\n",
                            "      <td>45217.416667</td>\n",
                            "      <td>2.181818</td>\n",
                            "      <td>4.119866</td>\n",
                            "      <td>105.416667</td>\n",
                            "      <td>0.462121</td>\n",
                            "    </tr>\n",
                            "    <tr>\n",
                            "      <th>2</th>\n",
                            "      <td>6943.842456</td>\n",
                            "      <td>68.922222</td>\n",
                            "      <td>132780.155556</td>\n",
                            "      <td>2.633333</td>\n",
                            "      <td>5.285519</td>\n",
                            "      <td>298.388889</td>\n",
                            "      <td>0.577778</td>\n",
                            "    </tr>\n",
                            "  </tbody>\n",
                            "</table>\n",
                            "</div>"
                        ],
                        "text/plain": [
                            "                  total_spent        AGE         INCOME  HOUSEHOLD SIZE  \\\n",
                            "customer_segment                                                          \n",
                            "0                 6637.829266  41.071942   89846.503597        3.316547   \n",
                            "1                 1700.825008  26.795455   45217.416667        2.181818   \n",
                            "2                 6943.842456  68.922222  132780.155556        2.633333   \n",
                            "\n",
                            "                  spent_pcntg_income  purchase_count    GENDER  \n",
                            "customer_segment                                                \n",
                            "0                           7.625865      207.294964  0.489209  \n",
                            "1                           4.119866      105.416667  0.462121  \n",
                            "2                           5.285519      298.388889  0.577778  "
                        ]
                    },
                    "execution_count": 93,
                    "metadata": {},
                    "output_type": "execute_result"
                }
            ],
            "source": [
                "#customer_view['GENDER']=customer_view['GENDER'].replace('Male',0).replace('Female',1)\n",
                "customer_view.groupby(['customer_segment']).agg({'total_spent':'mean','AGE':'mean','INCOME':'mean','HOUSEHOLD SIZE':'mean','spent_pcntg_income':'mean','purchase_count':'mean','GENDER':'mean'})\n"
            ]
        },
        {
            "cell_type": "code",
            "execution_count": 94,
            "metadata": {},
            "outputs": [
                {
                    "data": {
                        "text/html": [
                            "<div>\n",
                            "<style scoped>\n",
                            "    .dataframe tbody tr th:only-of-type {\n",
                            "        vertical-align: middle;\n",
                            "    }\n",
                            "\n",
                            "    .dataframe tbody tr th {\n",
                            "        vertical-align: top;\n",
                            "    }\n",
                            "\n",
                            "    .dataframe thead th {\n",
                            "        text-align: right;\n",
                            "    }\n",
                            "</style>\n",
                            "<table border=\"1\" class=\"dataframe\">\n",
                            "  <thead>\n",
                            "    <tr style=\"text-align: right;\">\n",
                            "      <th></th>\n",
                            "      <th>AGE</th>\n",
                            "    </tr>\n",
                            "  </thead>\n",
                            "  <tbody>\n",
                            "    <tr>\n",
                            "      <th>count</th>\n",
                            "      <td>500.000000</td>\n",
                            "    </tr>\n",
                            "    <tr>\n",
                            "      <th>mean</th>\n",
                            "      <td>42.316000</td>\n",
                            "    </tr>\n",
                            "    <tr>\n",
                            "      <th>std</th>\n",
                            "      <td>17.567509</td>\n",
                            "    </tr>\n",
                            "    <tr>\n",
                            "      <th>min</th>\n",
                            "      <td>18.000000</td>\n",
                            "    </tr>\n",
                            "    <tr>\n",
                            "      <th>25%</th>\n",
                            "      <td>30.000000</td>\n",
                            "    </tr>\n",
                            "    <tr>\n",
                            "      <th>50%</th>\n",
                            "      <td>39.000000</td>\n",
                            "    </tr>\n",
                            "    <tr>\n",
                            "      <th>75%</th>\n",
                            "      <td>50.250000</td>\n",
                            "    </tr>\n",
                            "    <tr>\n",
                            "      <th>max</th>\n",
                            "      <td>90.000000</td>\n",
                            "    </tr>\n",
                            "  </tbody>\n",
                            "</table>\n",
                            "</div>"
                        ],
                        "text/plain": [
                            "              AGE\n",
                            "count  500.000000\n",
                            "mean    42.316000\n",
                            "std     17.567509\n",
                            "min     18.000000\n",
                            "25%     30.000000\n",
                            "50%     39.000000\n",
                            "75%     50.250000\n",
                            "max     90.000000"
                        ]
                    },
                    "execution_count": 94,
                    "metadata": {},
                    "output_type": "execute_result"
                }
            ],
            "source": [
                "customer_view[['AGE']].describe()"
            ]
        },
        {
            "cell_type": "code",
            "execution_count": 95,
            "metadata": {},
            "outputs": [
                {
                    "data": {
                        "text/html": [
                            "<div>\n",
                            "<style scoped>\n",
                            "    .dataframe tbody tr th:only-of-type {\n",
                            "        vertical-align: middle;\n",
                            "    }\n",
                            "\n",
                            "    .dataframe tbody tr th {\n",
                            "        vertical-align: top;\n",
                            "    }\n",
                            "\n",
                            "    .dataframe thead th {\n",
                            "        text-align: right;\n",
                            "    }\n",
                            "</style>\n",
                            "<table border=\"1\" class=\"dataframe\">\n",
                            "  <thead>\n",
                            "    <tr style=\"text-align: right;\">\n",
                            "      <th></th>\n",
                            "      <th>INCOME</th>\n",
                            "    </tr>\n",
                            "  </thead>\n",
                            "  <tbody>\n",
                            "    <tr>\n",
                            "      <th>count</th>\n",
                            "      <td>500.000000</td>\n",
                            "    </tr>\n",
                            "    <tr>\n",
                            "      <th>mean</th>\n",
                            "      <td>85792.482000</td>\n",
                            "    </tr>\n",
                            "    <tr>\n",
                            "      <th>std</th>\n",
                            "      <td>37157.766304</td>\n",
                            "    </tr>\n",
                            "    <tr>\n",
                            "      <th>min</th>\n",
                            "      <td>20256.000000</td>\n",
                            "    </tr>\n",
                            "    <tr>\n",
                            "      <th>25%</th>\n",
                            "      <td>52429.000000</td>\n",
                            "    </tr>\n",
                            "    <tr>\n",
                            "      <th>50%</th>\n",
                            "      <td>86846.500000</td>\n",
                            "    </tr>\n",
                            "    <tr>\n",
                            "      <th>75%</th>\n",
                            "      <td>118381.000000</td>\n",
                            "    </tr>\n",
                            "    <tr>\n",
                            "      <th>max</th>\n",
                            "      <td>149999.000000</td>\n",
                            "    </tr>\n",
                            "  </tbody>\n",
                            "</table>\n",
                            "</div>"
                        ],
                        "text/plain": [
                            "              INCOME\n",
                            "count     500.000000\n",
                            "mean    85792.482000\n",
                            "std     37157.766304\n",
                            "min     20256.000000\n",
                            "25%     52429.000000\n",
                            "50%     86846.500000\n",
                            "75%    118381.000000\n",
                            "max    149999.000000"
                        ]
                    },
                    "execution_count": 95,
                    "metadata": {},
                    "output_type": "execute_result"
                }
            ],
            "source": [
                "customer_view[['INCOME']].describe()"
            ]
        },
        {
            "cell_type": "code",
            "execution_count": 96,
            "metadata": {},
            "outputs": [
                {
                    "data": {
                        "text/html": [
                            "<div>\n",
                            "<style scoped>\n",
                            "    .dataframe tbody tr th:only-of-type {\n",
                            "        vertical-align: middle;\n",
                            "    }\n",
                            "\n",
                            "    .dataframe tbody tr th {\n",
                            "        vertical-align: top;\n",
                            "    }\n",
                            "\n",
                            "    .dataframe thead th {\n",
                            "        text-align: right;\n",
                            "    }\n",
                            "</style>\n",
                            "<table border=\"1\" class=\"dataframe\">\n",
                            "  <thead>\n",
                            "    <tr style=\"text-align: right;\">\n",
                            "      <th></th>\n",
                            "      <th>spent_pcntg_income</th>\n",
                            "    </tr>\n",
                            "  </thead>\n",
                            "  <tbody>\n",
                            "    <tr>\n",
                            "      <th>count</th>\n",
                            "      <td>500.000000</td>\n",
                            "    </tr>\n",
                            "    <tr>\n",
                            "      <th>mean</th>\n",
                            "      <td>6.279019</td>\n",
                            "    </tr>\n",
                            "    <tr>\n",
                            "      <th>std</th>\n",
                            "      <td>2.807923</td>\n",
                            "    </tr>\n",
                            "    <tr>\n",
                            "      <th>min</th>\n",
                            "      <td>0.058128</td>\n",
                            "    </tr>\n",
                            "    <tr>\n",
                            "      <th>25%</th>\n",
                            "      <td>4.526334</td>\n",
                            "    </tr>\n",
                            "    <tr>\n",
                            "      <th>50%</th>\n",
                            "      <td>6.069121</td>\n",
                            "    </tr>\n",
                            "    <tr>\n",
                            "      <th>75%</th>\n",
                            "      <td>7.961431</td>\n",
                            "    </tr>\n",
                            "    <tr>\n",
                            "      <th>max</th>\n",
                            "      <td>17.710494</td>\n",
                            "    </tr>\n",
                            "  </tbody>\n",
                            "</table>\n",
                            "</div>"
                        ],
                        "text/plain": [
                            "       spent_pcntg_income\n",
                            "count          500.000000\n",
                            "mean             6.279019\n",
                            "std              2.807923\n",
                            "min              0.058128\n",
                            "25%              4.526334\n",
                            "50%              6.069121\n",
                            "75%              7.961431\n",
                            "max             17.710494"
                        ]
                    },
                    "execution_count": 96,
                    "metadata": {},
                    "output_type": "execute_result"
                }
            ],
            "source": [
                "customer_view[['spent_pcntg_income']].describe()\n"
            ]
        },
        {
            "cell_type": "code",
            "execution_count": 97,
            "metadata": {},
            "outputs": [
                {
                    "data": {
                        "text/html": [
                            "<div>\n",
                            "<style scoped>\n",
                            "    .dataframe tbody tr th:only-of-type {\n",
                            "        vertical-align: middle;\n",
                            "    }\n",
                            "\n",
                            "    .dataframe tbody tr th {\n",
                            "        vertical-align: top;\n",
                            "    }\n",
                            "\n",
                            "    .dataframe thead th {\n",
                            "        text-align: right;\n",
                            "    }\n",
                            "</style>\n",
                            "<table border=\"1\" class=\"dataframe\">\n",
                            "  <thead>\n",
                            "    <tr style=\"text-align: right;\">\n",
                            "      <th></th>\n",
                            "      <th>purchase_count</th>\n",
                            "    </tr>\n",
                            "  </thead>\n",
                            "  <tbody>\n",
                            "    <tr>\n",
                            "      <th>count</th>\n",
                            "      <td>500.000000</td>\n",
                            "    </tr>\n",
                            "    <tr>\n",
                            "      <th>mean</th>\n",
                            "      <td>196.796000</td>\n",
                            "    </tr>\n",
                            "    <tr>\n",
                            "      <th>std</th>\n",
                            "      <td>96.740187</td>\n",
                            "    </tr>\n",
                            "    <tr>\n",
                            "      <th>min</th>\n",
                            "      <td>3.000000</td>\n",
                            "    </tr>\n",
                            "    <tr>\n",
                            "      <th>25%</th>\n",
                            "      <td>126.000000</td>\n",
                            "    </tr>\n",
                            "    <tr>\n",
                            "      <th>50%</th>\n",
                            "      <td>184.500000</td>\n",
                            "    </tr>\n",
                            "    <tr>\n",
                            "      <th>75%</th>\n",
                            "      <td>264.250000</td>\n",
                            "    </tr>\n",
                            "    <tr>\n",
                            "      <th>max</th>\n",
                            "      <td>555.000000</td>\n",
                            "    </tr>\n",
                            "  </tbody>\n",
                            "</table>\n",
                            "</div>"
                        ],
                        "text/plain": [
                            "       purchase_count\n",
                            "count      500.000000\n",
                            "mean       196.796000\n",
                            "std         96.740187\n",
                            "min          3.000000\n",
                            "25%        126.000000\n",
                            "50%        184.500000\n",
                            "75%        264.250000\n",
                            "max        555.000000"
                        ]
                    },
                    "execution_count": 97,
                    "metadata": {},
                    "output_type": "execute_result"
                }
            ],
            "source": [
                "customer_view[['purchase_count']].describe()"
            ]
        },
        {
            "cell_type": "code",
            "execution_count": 98,
            "metadata": {},
            "outputs": [
                {
                    "data": {
                        "text/plain": [
                            "array(['Divorced', 'Married', 'Single', 'Widow/Widower'], dtype=object)"
                        ]
                    },
                    "execution_count": 98,
                    "metadata": {},
                    "output_type": "execute_result"
                }
            ],
            "source": [
                "np.unique(customer_view[['MARITAL STATUS']].values)"
            ]
        }
    ],
    "metadata": {
        "kernelspec": {
            "display_name": "Python 3.5",
            "language": "python",
            "name": "python3"
        },
        "language_info": {
            "codemirror_mode": {
                "name": "ipython",
                "version": 3
            },
            "file_extension": ".py",
            "mimetype": "text/x-python",
            "name": "python",
            "nbconvert_exporter": "python",
            "pygments_lexer": "ipython3",
            "version": "3.8.5"
        }
    },
    "nbformat": 4,
    "nbformat_minor": 2
}
